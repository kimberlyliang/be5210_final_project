{
  "cells": [
    {
      "cell_type": "markdown",
      "metadata": {
        "id": "gdJofzTRfMnK"
      },
      "source": [
        "# Step 1"
      ]
    },
    {
      "cell_type": "code",
      "execution_count": 70,
      "metadata": {
        "colab": {
          "base_uri": "https://localhost:8080/"
        },
        "id": "HHQfCwB5N8_C",
        "outputId": "4785b86d-fe4a-4980-8fed-d0f8894390c5"
      },
      "outputs": [
        {
          "output_type": "stream",
          "name": "stdout",
          "text": [
            "Subject 1 - Full ECoG samples: 1\n",
            "Subject 2 - Full ECoG samples: 1\n",
            "Subject 3 - Full ECoG samples: 1\n",
            "Subject 1 - Training samples: 200000, Testing samples: 100000\n",
            "Subject 2 - Training samples: 200000, Testing samples: 100000\n",
            "Subject 3 - Training samples: 200000, Testing samples: 100000\n",
            "train_ecog shape: (200000, 62)\n"
          ]
        }
      ],
      "source": [
        "import scipy.io, scipy.interpolate\n",
        "\n",
        "pred_data = scipy.io.loadmat(\"leaderboard_data.mat\")\n",
        "proj_data = scipy.io.loadmat(\"raw_training_data.mat\")\n",
        "\n",
        "# Extract dataglove and ECoG data from the picke file for each subject\n",
        "data_glove = proj_data['train_dg']\n",
        "ecog = proj_data['train_ecog']\n",
        "\n",
        "# Initialize lists to store training and testing data for each subject\n",
        "train_data_glove = []\n",
        "test_data_glove = []\n",
        "train_ecog = []\n",
        "test_ecog = []\n",
        "\n",
        "# Split data into training and testing sets for each subject\n",
        "for i in range(len(data_glove)):\n",
        "    # Get the number of samples for the current subject\n",
        "    num_samples = data_glove[i][0].shape[0]\n",
        "\n",
        "    # Calculate the split index (50% of the data for training)\n",
        "    split_idx = int(num_samples * 2/3)\n",
        "\n",
        "    # train_ecog, X_test, y_train, y_test = train_test_split(ecog, data_glove, test_size=0.5, random_state=42)\n",
        "\n",
        "    # Split dataglove data\n",
        "    train_data_glove.append(data_glove[i][0][:split_idx])\n",
        "    test_data_glove.append(data_glove[i][0][split_idx:])\n",
        "\n",
        "    # Split ECoG data\n",
        "    train_ecog.append(ecog[i][0][:split_idx])\n",
        "    test_ecog.append(ecog[i][0][split_idx:])\n",
        "\n",
        "# Print the number of samples in the full ECoG recording for each subject\n",
        "for i in range(len(ecog)):\n",
        "    print(f\"Subject {i+1} - Full ECoG samples: {ecog[i].shape[0]}\")\n",
        "\n",
        "# Print the number of samples in the training and testing sets for each subject\n",
        "for i in range(len(train_ecog)):\n",
        "    print(f\"Subject {i+1} - Training samples: {train_ecog[i].shape[0]}, Testing samples: {test_ecog[i].shape[0]}\")\n",
        "\n",
        "print(f\"train_ecog shape: {train_ecog[0].shape}\")"
      ]
    },
    {
      "cell_type": "code",
      "execution_count": 75,
      "metadata": {
        "colab": {
          "base_uri": "https://localhost:8080/"
        },
        "id": "NAbaWXJuUFL7",
        "outputId": "034767ad-0c85-4bb2-b9a4-631a4336ae6b"
      },
      "outputs": [
        {
          "output_type": "stream",
          "name": "stdout",
          "text": [
            "Subject 1 - Feature windows shape: (5999, 100, 62)\n",
            "Subject 2 - Feature windows shape: (5999, 100, 48)\n",
            "Subject 3 - Feature windows shape: (5999, 100, 64)\n"
          ]
        }
      ],
      "source": [
        "import numpy as np\n",
        "def gen_windows(data, window_length, window_overlap, fs=1000):\n",
        "    # Convert window length and overlap from milliseconds to number of samples\n",
        "    window_length_samples = int(window_length * fs / 1000)\n",
        "    window_overlap_samples = int(window_overlap * fs / 1000)\n",
        "\n",
        "    # Calculate the number of windows\n",
        "    num_windows = (data.shape[0] - window_length_samples) // (window_length_samples - window_overlap_samples) + 1\n",
        "\n",
        "    # Initialize the feature windows array\n",
        "    feature_windows = np.zeros((num_windows, window_length_samples, data.shape[1]))\n",
        "\n",
        "    # Generate the feature windows\n",
        "    for i in range(num_windows):\n",
        "        start_idx = i * (window_length_samples - window_overlap_samples)\n",
        "        end_idx = start_idx + window_length_samples\n",
        "        feature_windows[i] = data[start_idx:end_idx]\n",
        "\n",
        "    return feature_windows\n",
        "\n",
        "# Generate feature windows for each subject\n",
        "for i in range(len(ecog)):\n",
        "    window_length = 100\n",
        "    window_overlap = 50\n",
        "\n",
        "    feature_windows = gen_windows(ecog[i][0], window_length, window_overlap)\n",
        "    # dim 1: number of feature windows generated\n",
        "    # dim 2: window length in samples (since it was set to 100 ms)\n",
        "    # dim 3: number of channels in the input ECoG data for each subject\n",
        "    print(f\"Subject {i+1} - Feature windows shape: {feature_windows.shape}\")"
      ]
    },
    {
      "cell_type": "code",
      "execution_count": 98,
      "metadata": {
        "id": "v5ZpuXVVYhP1",
        "colab": {
          "base_uri": "https://localhost:8080/"
        },
        "outputId": "3a173984-2d89-4994-a8b1-fb95b1bb7723"
      },
      "outputs": [
        {
          "output_type": "stream",
          "name": "stdout",
          "text": [
            "Subject 1 - Extracted features shape: (5999, 496)\n",
            "Subject 2 - Extracted features shape: (5999, 384)\n",
            "Subject 3 - Extracted features shape: (5999, 512)\n"
          ]
        }
      ],
      "source": [
        "import numpy as np\n",
        "import scipy.signal\n",
        "\n",
        "def extract_features(window, fs=1000):\n",
        "    features = []\n",
        "\n",
        "    # Time-domain feature: Mean voltage\n",
        "    mean_voltage = np.mean(window, axis=0)\n",
        "    features.append(mean_voltage)\n",
        "\n",
        "    # Frequency-domain features\n",
        "    nperseg = window.shape[0]  # Full window for frequency analysis\n",
        "    f, Pxx = scipy.signal.welch(np.transpose(window), fs=fs, nperseg=nperseg)\n",
        "\n",
        "    # Define frequency bands\n",
        "    bands = [(5, 15), (20, 25), (75, 115), (125, 160), (160, 175)]\n",
        "    epsilon = 1e-10  # Small value to avoid log(0)\n",
        "\n",
        "    # Log band powers\n",
        "    for low, high in bands:\n",
        "        mask = (f >= low) & (f <= high)\n",
        "        if np.any(mask):\n",
        "            band_power = np.mean(Pxx[:, mask], axis=1)\n",
        "            log_band_power = np.log(band_power + epsilon)\n",
        "        else:\n",
        "            log_band_power = np.zeros(Pxx.shape[0])\n",
        "        features.append(log_band_power)\n",
        "\n",
        "    # High Frequency Broadband (70–200 Hz)\n",
        "    hfb_mask = (f >= 70) & (f <= 200)\n",
        "    if np.any(hfb_mask):\n",
        "        hfb_power = np.mean(Pxx[:, hfb_mask], axis=1)\n",
        "        log_hfb_power = np.log(hfb_power + epsilon)\n",
        "    else:\n",
        "        log_hfb_power = np.zeros(Pxx.shape[0])\n",
        "    features.append(log_hfb_power)\n",
        "\n",
        "    # Hilbert Envelope Feature\n",
        "    from scipy.signal import hilbert\n",
        "\n",
        "    # Apply Hilbert transform along time (axis 0)\n",
        "    analytic_signal = hilbert(window, axis=0)\n",
        "    envelope = np.abs(analytic_signal)\n",
        "\n",
        "    # Take mean envelope value across the window for each channel\n",
        "    mean_envelope = np.mean(envelope, axis=0)\n",
        "    features.append(mean_envelope)\n",
        "\n",
        "    return np.concatenate(features)\n",
        "\n",
        "def gen_windows(data, window_length, window_overlap, fs=1000):\n",
        "    # Convert window length and overlap from milliseconds to number of samples\n",
        "    window_length_samples = int(window_length * fs / 1000)\n",
        "    window_overlap_samples = int(window_overlap * fs / 1000)\n",
        "\n",
        "    # Calculate the number of windows\n",
        "    num_windows = (data.shape[0] - window_length_samples) // (window_length_samples - window_overlap_samples) + 1\n",
        "\n",
        "    # Initialize the feature windows array\n",
        "    feature_windows = np.zeros((num_windows, window_length_samples, data.shape[1]))\n",
        "\n",
        "    # Generate the feature windows\n",
        "    for i in range(num_windows):\n",
        "        start_idx = i * (window_length_samples - window_overlap_samples)\n",
        "        end_idx = start_idx + window_length_samples\n",
        "        feature_windows[i] = data[start_idx:end_idx]\n",
        "\n",
        "    return feature_windows\n",
        "\n",
        "# Generate feature windows and extract features for each subject\n",
        "for i in range(len(ecog)):\n",
        "    window_length = 100  # ms\n",
        "    window_overlap = 50  # ms\n",
        "    feature_windows = gen_windows(ecog[i][0], window_length, window_overlap)\n",
        "\n",
        "    # Extract features from each window\n",
        "    all_features = np.array([extract_features(window) for window in feature_windows])\n",
        "    print(f\"Subject {i+1} - Extracted features shape: {all_features.shape}\")\n"
      ]
    },
    {
      "cell_type": "markdown",
      "source": [
        "#Step 2"
      ],
      "metadata": {
        "id": "99sjWDr_NElK"
      }
    },
    {
      "cell_type": "code",
      "execution_count": 99,
      "metadata": {
        "id": "Vb6irClLTpPa"
      },
      "outputs": [],
      "source": [
        "import numpy as np\n",
        "import scipy.interpolate\n",
        "\n",
        "def interpolate_dataglove(data, num_samples, fs=1000):\n",
        "    # Calculate the original timestamps based on the sampling rate\n",
        "    original_times = np.arange(len(data)) / fs\n",
        "\n",
        "    # Calculate new timestamps where we want the interpolated values\n",
        "    # Assuming that each feature window corresponds to the start of each window in ECoG data\n",
        "    new_times = np.arange(num_samples) * 0.05  # Every 50 ms for each window\n",
        "\n",
        "    # Interpolation\n",
        "    interpolated = np.zeros((num_samples, data.shape[1]))\n",
        "\n",
        "    for i in range(data.shape[1]):  # Assuming data has multiple channels\n",
        "        interpolator = scipy.interpolate.interp1d(original_times, data[:, i], kind='linear', bounds_error=False, fill_value=\"extrapolate\")\n",
        "        interpolated[:, i] = interpolator(new_times)\n",
        "    return interpolated"
      ]
    },
    {
      "cell_type": "code",
      "source": [
        "# Generate feature windows for each subject\n",
        "for i in range(len(train_ecog)):\n",
        "    window_length = 100  # ms\n",
        "    window_overlap = 50  # ms\n",
        "    feature_windows = gen_windows(train_ecog[i], window_length, window_overlap)\n",
        "    all_train_features = np.array([extract_features(window) for window in feature_windows])\n",
        "\n",
        "    # Interpolate dataglove data to match the number of feature windows\n",
        "    downsampled_train_dg = interpolate_dataglove(train_data_glove[i], len(all_train_features))\n",
        "\n",
        "    print(f\"Subject {i+1} - Extracted features shape: {all_train_features.shape}, Dataglove shape: {downsampled_train_dg.shape}\")\n",
        "\n",
        "for i in range(len(test_ecog)):\n",
        "    window_length = 100  # ms\n",
        "    window_overlap = 50  # ms\n",
        "    feature_windows = gen_windows(test_ecog[i], window_length, window_overlap)\n",
        "    all_test_features = np.array([extract_features(window) for window in feature_windows])\n",
        "\n",
        "    # Interpolate dataglove data to match the number of feature windows\n",
        "    downsampled_test_dg = interpolate_dataglove(test_data_glove[i], len(all_test_features))\n",
        "\n",
        "    print(f\"Subject {i+1} - Extracted features shape: {all_test_features.shape}, Dataglove shape: {downsampled_test_dg.shape}\")"
      ],
      "metadata": {
        "id": "GtiB3qzpTnoY",
        "colab": {
          "base_uri": "https://localhost:8080/"
        },
        "outputId": "38c40084-d6e3-4522-f94e-1b00fed2e1a3"
      },
      "execution_count": 100,
      "outputs": [
        {
          "output_type": "stream",
          "name": "stdout",
          "text": [
            "Subject 1 - Extracted features shape: (3999, 496), Dataglove shape: (3999, 5)\n",
            "Subject 2 - Extracted features shape: (3999, 384), Dataglove shape: (3999, 5)\n",
            "Subject 3 - Extracted features shape: (3999, 512), Dataglove shape: (3999, 5)\n",
            "Subject 1 - Extracted features shape: (1999, 496), Dataglove shape: (1999, 5)\n",
            "Subject 2 - Extracted features shape: (1999, 384), Dataglove shape: (1999, 5)\n",
            "Subject 3 - Extracted features shape: (1999, 512), Dataglove shape: (1999, 5)\n"
          ]
        }
      ]
    },
    {
      "cell_type": "code",
      "execution_count": 101,
      "metadata": {
        "id": "I1M5m6SIb_By"
      },
      "outputs": [],
      "source": [
        "def prepare_data(features, targets, lag=3):\n",
        "    # Assumes features are ordered chronologically\n",
        "    # Create lagged feature matrix X\n",
        "    X = np.array([features[i:i+lag].flatten() for i in range(len(features) - lag + 1)])\n",
        "    # Align target matrix Y to the end of each lagged feature set\n",
        "    Y = targets[lag-1:]\n",
        "    return X, Y"
      ]
    },
    {
      "cell_type": "code",
      "source": [
        "def ridgePrediction(X, Y, lambda_reg=1e-2):\n",
        "    XT = np.transpose(X)\n",
        "    n_features = X.shape[1]\n",
        "    XTX_plus_lambdaI = np.matmul(XT, X) + lambda_reg * np.eye(n_features)\n",
        "    beta = np.matmul(np.linalg.inv(XTX_plus_lambdaI), np.matmul(XT, Y))\n",
        "    return beta"
      ],
      "metadata": {
        "id": "gzyuB7FNQq3_"
      },
      "execution_count": 102,
      "outputs": []
    },
    {
      "cell_type": "code",
      "execution_count": 103,
      "metadata": {
        "id": "z5HCVF2VeJ5r",
        "colab": {
          "base_uri": "https://localhost:8080/"
        },
        "outputId": "a9e45579-efec-4b02-bf6c-64741a8d50c9"
      },
      "outputs": [
        {
          "output_type": "stream",
          "name": "stdout",
          "text": [
            "(99850, 5)\n",
            "Interpolated and Padded Predictions Shape: (100000, 5)\n"
          ]
        }
      ],
      "source": [
        "import numpy as np\n",
        "import scipy.interpolate\n",
        "\n",
        "def cubic_spline_interpolation(y, old_freq, new_freq, total_duration):\n",
        "    # Generate old timestamps: every 50 ms\n",
        "    old_times = np.linspace(0, total_duration, int(total_duration*old_freq))\n",
        "\n",
        "    # Generate new timestamps: every 1 ms\n",
        "    new_times = np.linspace(0, total_duration, int(total_duration*new_freq))\n",
        "\n",
        "    new_y = np.zeros((int(total_duration*new_freq), 5))\n",
        "\n",
        "    # Interpolate using Cubic Spline\n",
        "    for columnIndex in range(y.shape[1]):\n",
        "      interpolator = scipy.interpolate.CubicSpline(old_times, y[:, columnIndex], bc_type='clamped')  # Using 'clamped' to avoid blowup at the edges\n",
        "      new_y[:, columnIndex] = interpolator(new_times)\n",
        "    print(new_y.shape)\n",
        "\n",
        "    return new_times, new_y\n",
        "\n",
        "def pad_data(interpolated_data, original_length):\n",
        "    # Calculate padding sizes\n",
        "    pad_before = (original_length - len(interpolated_data)) // 2\n",
        "    pad_after = original_length - len(interpolated_data) - pad_before\n",
        "\n",
        "    # Pad with zeros\n",
        "    padded_data = np.pad(interpolated_data, ((pad_before, pad_after), (0,0)), mode='constant')\n",
        "\n",
        "    return padded_data\n",
        "\n",
        "# # Assume Y_hat are the predicted values at 20 Hz (every 50 ms), and the original data length was at 1000 Hz\n",
        "original_length = len(test_data_glove[0])  # Calculate original length assuming original data was 1000 Hz over the same time period\n",
        "total_duration = len(trainPreds) * 0.05  # Total duration in seconds\n",
        "\n",
        "# # Interpolate the predictions\n",
        "_, interpolated_predictions = cubic_spline_interpolation(trainPreds, old_freq=20, new_freq=1000, total_duration=total_duration)\n",
        "\n",
        "# # Padding to match the original data's length\n",
        "padded_predictions = pad_data(interpolated_predictions, original_length)\n",
        "\n",
        "print(\"Interpolated and Padded Predictions Shape:\", padded_predictions.shape)\n"
      ]
    },
    {
      "cell_type": "code",
      "execution_count": 104,
      "metadata": {
        "id": "QIVRm9lgifjP"
      },
      "outputs": [],
      "source": [
        "def pad_or_truncate(data, target_length):\n",
        "    current_length = data.shape[0]\n",
        "    if current_length > target_length:\n",
        "        # Truncate the excess\n",
        "        return data[:target_length]\n",
        "    elif current_length < target_length:\n",
        "        # Pad the deficiency\n",
        "        padding = target_length - current_length\n",
        "        return np.pad(data, ((0, padding), (0, 0)), 'constant', constant_values=(0, 0))\n",
        "    return data"
      ]
    },
    {
      "cell_type": "code",
      "source": [
        "def moving_average_interpolated(data, window_size):\n",
        "    \"\"\"Calculate the moving average for each column of a matrix and interpolate to match the original data length.\"\"\"\n",
        "    # Initialize an array to store the moving averages\n",
        "    num_rows, num_cols = data.shape\n",
        "    smoothed_data = np.zeros_like(data)  # Same size as input data\n",
        "\n",
        "    # Compute the moving average for each column\n",
        "    for col in range(num_cols):\n",
        "        # Apply convolution with 'same' mode to keep the output length the same as the input length\n",
        "        smoothed_data[:, col] = np.convolve(data[:, col], np.ones(window_size) / window_size, mode='same')\n",
        "\n",
        "    return smoothed_data"
      ],
      "metadata": {
        "id": "JrVKjRmMC9ew"
      },
      "execution_count": 105,
      "outputs": []
    },
    {
      "cell_type": "code",
      "execution_count": 106,
      "metadata": {
        "id": "ZQZPicx-in0w",
        "colab": {
          "base_uri": "https://localhost:8080/"
        },
        "outputId": "525d3a26-1966-4fb5-a975-8284dfd80d2e"
      },
      "outputs": [
        {
          "output_type": "stream",
          "name": "stdout",
          "text": [
            "Correlation Coefficients per Finger: [np.float64(-0.14178250684347687), np.float64(0.004435640117106206), np.float64(-0.03964529931721296), np.float64(-0.038063893211988845), np.float64(-0.0312890753708348)]\n"
          ]
        }
      ],
      "source": [
        "from scipy.stats import pearsonr\n",
        "def calculate_correlations(test_data, predictions):\n",
        "    correlations = []\n",
        "    for i in range(test_data.shape[1]):  # Iterate over each finger\n",
        "        correlation, _ = pearsonr(test_data[:, i], predictions[:, i])\n",
        "        correlations.append(correlation)\n",
        "    return correlations\n",
        "\n",
        "# Calculate correlation if dimensions are confirmed to be aligned\n",
        "correlations = calculate_correlations(test_data_glove[2], padded_predictions)\n",
        "print(\"Correlation Coefficients per Finger:\", correlations)\n"
      ]
    },
    {
      "cell_type": "code",
      "source": [
        "#DUPLICATED ORIGINAL CODE FOR TESTING METHODS\n",
        "from scipy import stats\n",
        "import matplotlib.pyplot as plt\n",
        "\n",
        "# Generate feature windows for each subject\n",
        "for i in range(len(train_ecog)):\n",
        "    window_length = 100  # ms\n",
        "    window_overlap = 50  # ms\n",
        "    feature_windows = gen_windows(train_ecog[i], window_length, window_overlap)\n",
        "    all_train_features = np.array([extract_features(window) for window in feature_windows])\n",
        "\n",
        "    # Interpolate dataglove data to match the number of feature windows\n",
        "    downsampled_train_dg = interpolate_dataglove(train_data_glove[i], len(all_train_features))\n",
        "\n",
        "    print(f\"Subject {i+1} - Extracted features shape: {all_train_features.shape}, Dataglove shape: {downsampled_train_dg.shape}\")\n",
        "\n",
        "for i in range(len(test_ecog)):\n",
        "    window_length = 100  # ms\n",
        "    window_overlap = 50  # ms\n",
        "    feature_windows = gen_windows(test_ecog[i], window_length, window_overlap)\n",
        "    all_test_features = np.array([extract_features(window) for window in feature_windows])\n",
        "\n",
        "    # Interpolate dataglove data to match the number of feature windows\n",
        "    downsampled_test_dg = interpolate_dataglove(test_data_glove[i], len(all_test_features))\n",
        "\n",
        "    print(f\"Subject {i+1} - Extracted features shape: {all_test_features.shape}, Dataglove shape: {downsampled_test_dg.shape}\")\n",
        "\n",
        "# Preparing the data\n",
        "X_train, Y_train = prepare_data(all_train_features, downsampled_train_dg, lag=3)  # lag=3 corresponds to 150 ms if each step is 50 ms\n",
        "X_test, Y_test = prepare_data(all_test_features, downsampled_test_dg, lag=3)\n",
        "\n",
        "beta = ridgePrediction(X_train, Y_train)\n",
        "preds = np.matmul(X_test, beta)\n",
        "\n",
        "\n",
        "trainPreds = moving_average_interpolated(preds, 10)\n",
        "\n",
        "print(\"Finger 1:\", stats.pearsonr(trainPreds[:, 0], Y_test[:, 0])[0])\n",
        "print(\"Finger 2:\", stats.pearsonr(trainPreds[:, 1], Y_test[:, 1])[0])\n",
        "print(\"Finger 3:\", stats.pearsonr(trainPreds[:, 2], Y_test[:, 2])[0])\n",
        "print(\"Finger 4:\", stats.pearsonr(trainPreds[:, 3], Y_test[:, 3])[0])\n",
        "print(\"Finger 5:\", stats.pearsonr(trainPreds[:, 4], Y_test[:, 4])[0])\n",
        "\n",
        "plt.plot(trainPreds[:1000,1])\n",
        "plt.plot(Y_test[:1000, 1])\n",
        "\n",
        "# Interpolate the predictions\n",
        "_, interpolated_predictions = cubic_spline_interpolation(trainPreds, old_freq=20, new_freq=1000, total_duration=total_duration)\n",
        "\n",
        "# Padding to match the original data's length\n",
        "padded_predictions = pad_data(interpolated_predictions, original_length)\n",
        "\n",
        "# Calculate correlation if dimensions are confirmed to be aligned\n",
        "correlations = calculate_correlations(test_data_glove[2], padded_predictions)\n",
        "print(\"Correlation Coefficients per Finger:\", correlations)\n"
      ],
      "metadata": {
        "id": "SBHienwuPCFS",
        "colab": {
          "base_uri": "https://localhost:8080/",
          "height": 682
        },
        "outputId": "4c551606-1581-4b3f-b72c-40cdc25eb23d"
      },
      "execution_count": 107,
      "outputs": [
        {
          "output_type": "stream",
          "name": "stdout",
          "text": [
            "Subject 1 - Extracted features shape: (3999, 496), Dataglove shape: (3999, 5)\n",
            "Subject 2 - Extracted features shape: (3999, 384), Dataglove shape: (3999, 5)\n",
            "Subject 3 - Extracted features shape: (3999, 512), Dataglove shape: (3999, 5)\n",
            "Subject 1 - Extracted features shape: (1999, 496), Dataglove shape: (1999, 5)\n",
            "Subject 2 - Extracted features shape: (1999, 384), Dataglove shape: (1999, 5)\n",
            "Subject 3 - Extracted features shape: (1999, 512), Dataglove shape: (1999, 5)\n",
            "Finger 1: 0.599406789126067\n",
            "Finger 2: 0.3213848074117154\n",
            "Finger 3: 0.36563176606801345\n",
            "Finger 4: 0.5170271661634205\n",
            "Finger 5: 0.41175203763303225\n",
            "(99850, 5)\n",
            "Correlation Coefficients per Finger: [np.float64(0.5981573191594026), np.float64(0.3141504154347177), np.float64(0.3635680765692998), np.float64(0.5145064574845711), np.float64(0.4124519761032048)]\n"
          ]
        },
        {
          "output_type": "display_data",
          "data": {
            "text/plain": [
              "<Figure size 640x480 with 1 Axes>"
            ],
            "image/png": "[encoded data removed]"
          },
          "metadata": {}
        }
      ]
    },
    {
      "cell_type": "code",
      "source": [
        "#DUPLICATED SCRATCHPAD CODE FOR TESTING METHODS\n",
        "\n",
        "from scipy import stats\n",
        "import matplotlib.pyplot as plt\n",
        "# '''\n",
        "# Generate feature windows for each subject\n",
        "for i in [0]:\n",
        "    window_length = 100  # ms\n",
        "    window_overlap = 50  # ms\n",
        "    feature_windows = gen_windows(train_ecog[i], window_length, window_overlap)\n",
        "    all_train_features = np.array([extract_features(window) for window in feature_windows])\n",
        "\n",
        "    # Interpolate dataglove data to match the number of feature windows\n",
        "    smooth_train_dg = moving_average_interpolated(train_data_glove[i], 10)\n",
        "    downsampled_train_dg = interpolate_dataglove(smooth_train_dg, len(all_train_features))\n",
        "\n",
        "    print(f\"Subject {i+1} - Extracted features shape: {all_train_features.shape}, Dataglove shape: {downsampled_train_dg.shape}\")\n",
        "\n",
        "    feature_windows = gen_windows(test_ecog[i], window_length, window_overlap)\n",
        "    all_test_features = np.array([extract_features(window) for window in feature_windows])\n",
        "\n",
        "    # Interpolate dataglove data to match the number of feature windows\n",
        "    smooth_test_dg = moving_average_interpolated(test_data_glove[i], 10)\n",
        "    downsampled_test_dg = interpolate_dataglove(smooth_test_dg, len(all_test_features))\n",
        "\n",
        "    print(f\"Subject {i+1} - Extracted features shape: {all_test_features.shape}, Dataglove shape: {downsampled_test_dg.shape}\")\n",
        "\n",
        "# Preparing the data\n",
        "X_train, Y_train = prepare_data(all_train_features, downsampled_train_dg, lag=3)  # lag=3 corresponds to 150 ms if each step is 50 ms\n",
        "X_test, Y_test = prepare_data(all_test_features, downsampled_test_dg, lag=3)\n",
        "\n",
        "beta = ridgePrediction(X_train, Y_train)\n",
        "preds = np.matmul(X_test, beta)\n",
        "\n",
        "# '''\n",
        "trainPreds = moving_average_interpolated(preds, 8)\n",
        "\n",
        "print(\"Finger 1:\", stats.pearsonr(trainPreds[:, 0], Y_test[:, 0])[0])\n",
        "print(\"Finger 2:\", stats.pearsonr(trainPreds[:, 1], Y_test[:, 1])[0])\n",
        "print(\"Finger 3:\", stats.pearsonr(trainPreds[:, 2], Y_test[:, 2])[0])\n",
        "print(\"Finger 4:\", stats.pearsonr(trainPreds[:, 3], Y_test[:, 3])[0])\n",
        "print(\"Finger 5:\", stats.pearsonr(trainPreds[:, 4], Y_test[:, 4])[0])\n",
        "\n",
        "plt.plot(trainPreds[:1000,1])\n",
        "plt.plot(Y_test[:1000, 1])\n",
        "\n",
        "# Interpolate the predictions\n",
        "_, interpolated_predictions = cubic_spline_interpolation(trainPreds, old_freq=20, new_freq=1000, total_duration=total_duration)\n",
        "\n",
        "# Padding to match the original data's length\n",
        "padded_predictions = pad_data(interpolated_predictions, original_length)\n",
        "\n",
        "# Calculate correlation if dimensions are confirmed to be aligned\n",
        "correlations = calculate_correlations(test_data_glove[0], padded_predictions)\n",
        "print(\"Correlation Coefficients per Finger:\", correlations)\n"
      ],
      "metadata": {
        "id": "t_T6dNR3RVXr",
        "colab": {
          "base_uri": "https://localhost:8080/",
          "height": 611
        },
        "outputId": "e9ab17c5-274e-4b13-de7b-e4f37dd8ff1b"
      },
      "execution_count": 108,
      "outputs": [
        {
          "output_type": "stream",
          "name": "stdout",
          "text": [
            "Subject 1 - Extracted features shape: (3999, 496), Dataglove shape: (3999, 5)\n",
            "Subject 1 - Extracted features shape: (1999, 496), Dataglove shape: (1999, 5)\n",
            "Finger 1: 0.3412707254789784\n",
            "Finger 2: 0.5269319877852513\n",
            "Finger 3: 0.11816031071230863\n",
            "Finger 4: 0.42310111036442666\n",
            "Finger 5: 0.1811626956499251\n",
            "(99850, 5)\n",
            "Correlation Coefficients per Finger: [np.float64(0.34212673274283206), np.float64(0.5277143245733321), np.float64(0.11604908092549762), np.float64(0.4204650240225687), np.float64(0.1786519410061931)]\n"
          ]
        },
        {
          "output_type": "display_data",
          "data": {
            "text/plain": [
              "<Figure size 640x480 with 1 Axes>"
            ],
            "image/png": "[encoded data removed]"
          },
          "metadata": {}
        }
      ]
    },
    {
      "cell_type": "code",
      "source": [
        "#FINAL IMPLEMENTATION\n",
        "predicted_dg_python = []\n",
        "\n",
        "LBecog = pred_data['leaderboard_ecog']\n",
        "allBetas = []\n",
        "\n",
        "#TRAIN BETA ON WHOLE DATASET\n",
        "for i in range(len(ecog)):\n",
        "  window_length = 100  # ms\n",
        "  window_overlap = 50  # ms\n",
        "  feature_windows = gen_windows(ecog[i][0], window_length, window_overlap)\n",
        "  pred_windows = gen_windows(LBecog[i][0], window_length, window_overlap)\n",
        "\n",
        "  # Generate feature windows\n",
        "  all_features = np.array([extract_features(window) for window in feature_windows])\n",
        "  pred_features = np.array([extract_features(window) for window in pred_windows])\n",
        "\n",
        "  # Interpolate dataglove data to match the number of feature windows\n",
        "  downsampled_dg = interpolate_dataglove(data_glove[i][0], len(all_features))\n",
        "\n",
        "  print(f\"Subject {i+1} - Extracted features shape: {all_features.shape}, Dataglove shape: {downsampled_dg.shape}\")\n",
        "  print(f\"Subject {i+1} - Extracted features shape: {pred_features.shape}\")\n",
        "\n",
        "  lagVal = 3\n",
        "\n",
        "  X, Y = prepare_data(all_features, downsampled_dg, lagVal)  # lag=3 corresponds to 150 ms if each step is 50 ms\n",
        "  beta = ridgePrediction(X, Y)\n",
        "\n",
        "  X_pred = np.array([pred_features[i:i+lagVal].flatten() for i in range(len(pred_features) - lagVal + 1)])\n",
        "\n",
        "  #Generate predictions for leaderboard data\n",
        "  print(X_pred.shape)\n",
        "  print(beta.shape)\n",
        "  roughPreds = np.matmul(X_pred, beta)\n",
        "\n",
        "  allPreds = moving_average_interpolated(roughPreds, 8)\n",
        "\n",
        "  #Interpolate and structure for submission\n",
        "\n",
        "  # Assume Y_hat are the predicted values at 20 Hz (every 50 ms), and the original data length was at 1000 Hz\n",
        "  original_length = len(pred_data['leaderboard_ecog'][i][0])  # Calculate original length assuming original data was 1000 Hz over the same time period\n",
        "  total_duration = len(allPreds) * 0.05  # Total duration in seconds\n",
        "\n",
        "  # Interpolate the predictions\n",
        "  _, interpolated_predictions = cubic_spline_interpolation(allPreds, old_freq=20, new_freq=1000, total_duration=total_duration)\n",
        "\n",
        "  # Padding to match the original data's length\n",
        "  padded_predictions = pad_data(interpolated_predictions, original_length)\n",
        "\n",
        "  print(\"Interpolated and Padded Predictions Shape:\", padded_predictions.shape)\n",
        "\n",
        "  predicted_dg_python.append(padded_predictions)\n",
        "\n",
        "  allBetas.append(beta)"
      ],
      "metadata": {
        "id": "11Tn7PKcflD8",
        "colab": {
          "base_uri": "https://localhost:8080/"
        },
        "outputId": "029bdf35-8a79-465b-c8d4-0875b0182067"
      },
      "execution_count": 68,
      "outputs": [
        {
          "output_type": "stream",
          "name": "stdout",
          "text": [
            "Subject 1 - Extracted features shape: (5999, 496), Dataglove shape: (5999, 5)\n",
            "Subject 1 - Extracted features shape: (2949, 496)\n",
            "(2947, 1488)\n",
            "(1488, 5)\n",
            "(147350, 5)\n",
            "Interpolated and Padded Predictions Shape: (147500, 5)\n",
            "Subject 2 - Extracted features shape: (5999, 384), Dataglove shape: (5999, 5)\n",
            "Subject 2 - Extracted features shape: (2949, 384)\n",
            "(2947, 1152)\n",
            "(1152, 5)\n",
            "(147350, 5)\n",
            "Interpolated and Padded Predictions Shape: (147500, 5)\n",
            "Subject 3 - Extracted features shape: (5999, 512), Dataglove shape: (5999, 5)\n",
            "Subject 3 - Extracted features shape: (2949, 512)\n",
            "(2947, 1536)\n",
            "(1536, 5)\n",
            "(147350, 5)\n",
            "Interpolated and Padded Predictions Shape: (147500, 5)\n"
          ]
        }
      ]
    },
    {
      "cell_type": "code",
      "source": [
        "# Convert the dictionary to a MATLAB cell array structure\n",
        "predicted_dg = {'cell_array': scipy.io.matlab.mio5_params.mat_struct()}\n",
        "for key, value in predicted_dg_python.items():\n",
        "    predicted_dg['cell_array'].__dict__[key] = value\n",
        "\n",
        "# Save the MATLAB cell array to a .mat file\n",
        "scipy.io.savemat('5210_predicted_dg.mat', predicted_dg)"
      ],
      "metadata": {
        "id": "asO46Tg9uoNy",
        "colab": {
          "base_uri": "https://localhost:8080/",
          "height": 302
        },
        "outputId": "88edaeaf-15bb-4d2d-f4d5-f1cfe6cd9c1b"
      },
      "execution_count": null,
      "outputs": [
        {
          "output_type": "stream",
          "name": "stderr",
          "text": [
            "<ipython-input-22-acf39583d0a7>:2: DeprecationWarning: Please import `mat_struct` from the `scipy.io.matlab` namespace; the `scipy.io.matlab.mio5_params` namespace is deprecated and will be removed in SciPy 2.0.0.\n",
            "  predicted_dg = {'cell_array': scipy.io.matlab.mio5_params.mat_struct()}\n"
          ]
        },
        {
          "output_type": "error",
          "ename": "AttributeError",
          "evalue": "'list' object has no attribute 'items'",
          "traceback": [
            "\u001b[0;31m---------------------------------------------------------------------------\u001b[0m",
            "\u001b[0;31mAttributeError\u001b[0m                            Traceback (most recent call last)",
            "\u001b[0;32m<ipython-input-22-acf39583d0a7>\u001b[0m in \u001b[0;36m<cell line: 0>\u001b[0;34m()\u001b[0m\n\u001b[1;32m      1\u001b[0m \u001b[0;31m# Convert the dictionary to a MATLAB cell array structure\u001b[0m\u001b[0;34m\u001b[0m\u001b[0;34m\u001b[0m\u001b[0m\n\u001b[1;32m      2\u001b[0m \u001b[0mpredicted_dg\u001b[0m \u001b[0;34m=\u001b[0m \u001b[0;34m{\u001b[0m\u001b[0;34m'cell_array'\u001b[0m\u001b[0;34m:\u001b[0m \u001b[0mscipy\u001b[0m\u001b[0;34m.\u001b[0m\u001b[0mio\u001b[0m\u001b[0;34m.\u001b[0m\u001b[0mmatlab\u001b[0m\u001b[0;34m.\u001b[0m\u001b[0mmio5_params\u001b[0m\u001b[0;34m.\u001b[0m\u001b[0mmat_struct\u001b[0m\u001b[0;34m(\u001b[0m\u001b[0;34m)\u001b[0m\u001b[0;34m}\u001b[0m\u001b[0;34m\u001b[0m\u001b[0;34m\u001b[0m\u001b[0m\n\u001b[0;32m----> 3\u001b[0;31m \u001b[0;32mfor\u001b[0m \u001b[0mkey\u001b[0m\u001b[0;34m,\u001b[0m \u001b[0mvalue\u001b[0m \u001b[0;32min\u001b[0m \u001b[0mpredicted_dg_python\u001b[0m\u001b[0;34m.\u001b[0m\u001b[0mitems\u001b[0m\u001b[0;34m(\u001b[0m\u001b[0;34m)\u001b[0m\u001b[0;34m:\u001b[0m\u001b[0;34m\u001b[0m\u001b[0;34m\u001b[0m\u001b[0m\n\u001b[0m\u001b[1;32m      4\u001b[0m     \u001b[0mpredicted_dg\u001b[0m\u001b[0;34m[\u001b[0m\u001b[0;34m'cell_array'\u001b[0m\u001b[0;34m]\u001b[0m\u001b[0;34m.\u001b[0m\u001b[0m__dict__\u001b[0m\u001b[0;34m[\u001b[0m\u001b[0mkey\u001b[0m\u001b[0;34m]\u001b[0m \u001b[0;34m=\u001b[0m \u001b[0mvalue\u001b[0m\u001b[0;34m\u001b[0m\u001b[0;34m\u001b[0m\u001b[0m\n\u001b[1;32m      5\u001b[0m \u001b[0;34m\u001b[0m\u001b[0m\n",
            "\u001b[0;31mAttributeError\u001b[0m: 'list' object has no attribute 'items'"
          ]
        }
      ]
    },
    {
      "cell_type": "code",
      "source": [
        "plt.plot(predicted_dg_python['Subject 1'][:10000])"
      ],
      "metadata": {
        "id": "vIpnY93D1R9_",
        "colab": {
          "base_uri": "https://localhost:8080/"
        },
        "outputId": "799e9b36-b0c7-4703-c36a-b39a5d3c3a31"
      },
      "execution_count": null,
      "outputs": [
        {
          "output_type": "stream",
          "name": "stdout",
          "text": [
            "<class 'list'>\n",
            "<class 'numpy.ndarray'>\n",
            "(147500, 5)\n"
          ]
        }
      ]
    },
    {
      "cell_type": "code",
      "source": [
        "allBetasArray = np.array(allBetas, dtype = 'object')\n",
        "allBetasArray.dump('allBetas.pkl')"
      ],
      "metadata": {
        "id": "ofvlvy6_5T9H"
      },
      "execution_count": null,
      "outputs": []
    }
  ],
  "metadata": {
    "colab": {
      "provenance": []
    },
    "kernelspec": {
      "display_name": "Python 3",
      "name": "python3"
    },
    "language_info": {
      "name": "python"
    }
  },
  "nbformat": 4,
  "nbformat_minor": 0
}