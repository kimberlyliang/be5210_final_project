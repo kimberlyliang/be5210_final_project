{
  "cells": [
    {
      "cell_type": "markdown",
      "metadata": {
        "id": "sQb8UNexzK6U"
      },
      "source": [
        "# BE 521: Final Project Part 1\n",
        "Spring 2025\n",
        "\n",
        "Adapted by Kevin Xie\n",
        "\n",
        "Updated by Zhongchuan Xu\n",
        "\n",
        "32 Points\n",
        "\n",
        "Objective: Predict finger movements from ECoG Recordings\n",
        "\n",
        "Due: April 10th\n"
      ]
    },
    {
      "cell_type": "markdown",
      "metadata": {
        "id": "zUZMM3sHzR_P"
      },
      "source": [
        "# Project Overview\n",
        "\n",
        "This final project involves predicting finger flexion using intracranial EEG (ECoG) in three human subjects. The data and problem framing come from the 4th BCI Competition (Miller et al. 2008). For the details of the problem, experimental protocol, data, and evaluation, please see the original 4th BCI Competition documentation (included as separate document). The remainder of the current document details your deliverables for part 1 of the project.\n"
      ]
    },
    {
      "cell_type": "markdown",
      "metadata": {
        "id": "_ehuowkc1TVO"
      },
      "source": [
        "## Important Deadlines\n",
        "* Final Project Part 1 (Canvas)\n",
        " * Due: April 10th\n",
        " * 32 Points\n",
        "* Team Registration\n",
        " * Due: April 10th\n",
        " * 5 Points\n",
        "* Team Responsibilities (Canvas)\n",
        " * Due: April 14th\n",
        " * 3 Point\n",
        "* Checkpoint 1, r > 0.33\n",
        " * Due: April 17th\n",
        " * 20 Points\n",
        "* Checkpoint 2, r > 0.45\n",
        " * Due: April 24th\n",
        " * 15 Points\n",
        "* End of competition, submit algorithm (Canvas):\n",
        " * Due: April 25th\n",
        " * 15 Points\n",
        "* Final Report\n",
        " * Due: April 27th\n",
        " * 60 Points\n",
        "* Competition results (Final class session)\n",
        " * On: April 30th\n",
        "\n",
        "The grading is structured so that going the extra mile is definitely rewarded. We want you to show what you've learned this semester, and to have some fun!"
      ]
    },
    {
      "cell_type": "markdown",
      "metadata": {
        "id": "ZhDgvv4T1X4b"
      },
      "source": [
        "## Writing Your Code\n",
        "To get started with the final project we have provided a a series of method stubs for you to fill out. Your job for part 1 of the final project is to build a prediction pipeline that takes in the ECoG and dataglove finger angle recordings (serving as the data and labels respectively), then uses machine learning methods to generate predicted finger angles from the ECoG signals. The functions you will develop in this assignment are as follows:\n",
        "* `get_windowed_feats` This function will take in raw ECoG data, and use the 2 following helper functions to filter the data, calculate sliding-window features.\n",
        " * `filter_data` This function will apply a filter to the raw data and return cleaned data\n",
        " * `get_features` This function will take in a window of cleaned data and return a vector of features for that window\n",
        "* `create_R_matrix` This function will take in a feature matrix and return a response matrix as an adaptation of the optimal linear decoder method.\n",
        "\n"
      ]
    },
    {
      "cell_type": "markdown",
      "metadata": {
        "id": "8u5g0qVr2C2M"
      },
      "source": [
        "## Optimal Linear Decoder\n",
        "You will use a modified version of the **optimal linear decoder** method as described in Warland et al., 1997. We will recapitulate the method in this section, but consult the paper for more details. Our ultimate goal is to predict the angle of each finger as it moves over time using data recorded from the ECoG channels.\n",
        "\n",
        "The position data is captured for 300 seconds, which you will split up into $M$ total time bins, and the number of ECoG channels, $\\nu$, is 61, 46, and 64 for subject 1, 2, and 3 respectively.\n",
        "\n",
        "The paradigm we adapt here tries to predict finger angle at a given time window using ECoG features calculated over the preceding $N$ time windows, using\n",
        "the following steps:\n",
        "\n",
        "First, $p$ features will be calculated across all $\\nu$ ECoG channels over $M$ total time windows to get a feature matrix of shape $\\bigl(M, (\\nu \\times p)\\bigr)$\n",
        "\n",
        "Then, following the approach that Warland et al., 1997 takes, we will construct a row vector corresponding to each time bin, that contains features for all the ECoG channels over the preceding *N* time bins (in the paper, spike counts are their features and they index neurons instead of ECoG channels). Thus, there will be a good amount of redundancy between row vectors of adjacent time bins, but that is okay.\n",
        "\n",
        "Let $r^{c,\\phi}_t$ be the value of the feature in window $t \\in \\{1,2,\\dots,M\\}$, channel $c\\in\\{1,2,\\dots,\\nu\\}$ and with feature $\\phi\\in\\{1,2,\\dots,p\\}$. Let the response matrix $R \\in \\mathbb{R}^{M \\times (1+N \\cdot p \\cdot \\nu )}$ be defined as:\n",
        "\n",
        "$$R = \\begin{bmatrix}\n",
        "\\mathbf{1} & r^{(1,1)}_1 & r^{(1,1)}_1 & \\cdots & r^{(1,1)}_1 & r^{(1,1)}_1 & r^{(1,2)}_1 & \\cdots & r^{(1,2)}_1 & \\cdots & r^{(\\nu,p)}_1 & \\cdots & r^{(\\nu,p)}_1\\\\\n",
        "\\mathbf{1} & r^{(1,1)}_1 & r^{(1,1)}_1 & \\cdots & r^{(1,1)}_1 & r^{(1,1)}_2 & r^{(1,2)}_1 & \\cdots & r^{(1,2)}_2 & \\cdots & r^{(\\nu,p)}_1 & \\cdots & r^{(\\nu,p)}_2\\\\\n",
        "\\mathbf{1} & r^{(1,1)}_1 & r^{(1,1)}_1 & \\cdots & r^{(1,1)}_2 & r^{(1,1)}_3 & r^{(1,2)}_1 & \\cdots & r^{(1,2)}_3 & \\cdots & r^{(\\nu,p)}_1 & \\cdots & r^{(\\nu,p)}_3\\\\\n",
        "\\vdots   & \\vdots     & \\vdots     & \\ddots & \\vdots     & \\vdots     & \\vdots     & \\ddots & \\vdots   & \\cdots & \\vdots         & \\ddots & \\vdots\\\\\n",
        "\\mathbf{1} & r^{(1,1)}_1 & r^{(1,1)}_2 & \\cdots & r^{(1,1)}_{N-1} & r^{(1,1)}_N & r^{(1,2)}_1 & \\cdots & r^{(1,2)}_N & \\cdots & r^{(\\nu,p)}_1 & \\cdots & r^{(\\nu,p)}_N\\\\\n",
        "\\mathbf{1} & r^{(1,1)}_2 & r^{(1,1)}_3 & \\cdots &r^{(1,1)}_{N} & r^{(1,1)}_{N+1} & r^{(1,2)}_2 & \\cdots & r^{(1,2)}_{N+1} & \\cdots & r^{(\\nu,p)}_2 & \\cdots & r^{(\\nu,p)}_{N+1}\\\\\n",
        "\\vdots   & \\vdots     & \\vdots     & \\ddots & \\vdots     & \\vdots     & \\vdots     & \\ddots & \\vdots   & \\cdots & \\vdots         & \\ddots & \\vdots\\\\\n",
        "\\mathbf{1} & r^{(1,1)}_{M-N+1} & r^{(1,1)}_{M-N+2} & \\cdots & r^{(1,1)}_{M-1} & r^{(1,1)}_M & r^{(1,2)}_{M-N+1} & \\cdots & r^{(1,2)}_M & \\cdots & r^{(\\nu,p)}_{M-N+1} & \\cdots & r^{(\\nu,p)}_M\\\\\n",
        "\\end{bmatrix}$$\n",
        "\n"
      ]
    },
    {
      "cell_type": "markdown",
      "metadata": {
        "id": "YkrRTSYm3qlA"
      },
      "source": [
        "This is also referred to as the design or feature matrix, with each column being a predictor, or feature. The column of 1’s accounts for the intercept term in linear regression/decoding. Here we are repeating the first windows $N-1$ times as the padding of the first windows. Make sure you understand what this matrix means before moving on.\n",
        "\n",
        "We denote the target matrix as $Y \\in \\mathbb{R}^{M \\times 5}$ and the prediction matrix (e.g. the predicted finger angles) as $\\hat{Y} \\in \\mathbb{R}^{M \\times 5}$. Note that in Warland et al., 1997, this quantity is referred to as the stimulus vector since they are talking about decoding the stimulus from neural data after it. We, on the other hand, are trying to decode finger positions using the ECoG data before it, but we can conveniently use the same method. Our goal is to find some optimal weight matrix or filter $f \\in \\mathbb{R}^{(1+N \\cdot p \\cdot \\nu ) \\times 5}$ that minimizes the mean squared error:\n",
        "\n",
        "$$f^* = \\operatorname{argmin}_{f} \\, \\mathcal{L}(f) = \\operatorname{argmin}_{f} \\left\\|Y - \\hat{Y}\\right\\|^2,$$\n",
        "where $\\hat{Y} = Rf$\n",
        "\n",
        "We start with the mean squared error (MSE) loss function:\n",
        "$$\n",
        "\\mathcal{L}(f) = \\left\\|Y - R\\,f\\right\\|^2 = (Y - R\\,f)^\\top (Y - R\\,f)\n",
        "$$\n",
        "\n",
        "To minimize the loss, we take the derivative with respect to the weight matrix $f$ and set it equal to zero:\n",
        "$$\n",
        "\\frac{\\partial \\mathcal{L}}{\\partial f} = -2\\,R^\\top (Y - R\\,f) = 0\n",
        "$$\n",
        "\n",
        "This implies:\n",
        "$$\n",
        "R^\\top Y = R^\\top R\\,f\n",
        "$$\n",
        "\n",
        "Assuming that $R^\\top R$ is invertible, we solve for $f$:\n",
        "$$\n",
        "f = \\left(R^\\top R\\right)^{-1} R^\\top Y\n",
        "$$\n",
        "\n",
        "This is the the analytic form for the optimal filter $f$ that minimizes the MSE loss.\n",
        "\n",
        "This equation should take a familiar form. Warland et al., 1997 don’t refer to it as such, but this is exactly the same as linear regression, one of the most commonly used algorithms in practical machine learning. Not only is this algorithm remarkably powerful, but it has a beautiful analytic form for learning the “weights” (here, the $f$ matrix), a rarity in a field where almost all optimizations involve some sort of iterative algorithm. After learning the filter weights $f$, we can calculate the optimal predictions as: $$\\hat{Y} = Rf$$"
      ]
    },
    {
      "cell_type": "markdown",
      "metadata": {
        "id": "n0Nbsp0F1V_6"
      },
      "source": [
        "## Dataset\n",
        "The dataset for part 1 is stored within `final_proj_part1_data.pkl`. The `.pkl` file type is a pickle file, which stores python objects. You can open the `.pkl` file with this code.\n",
        "```\n",
        "with open('final_proj_part1_data.pkl', 'rb') as f:\n",
        "  proj_data = pickle.load(f)\n",
        "```\n",
        "This stores the data inside the file as a variable named proj_data.\n",
        "\n",
        "**NOTE: Python versions don't pickle with each other very well. This pickle file was made in Google Colab. If you are running your own installation of Python and cannot load the file, we recommend you use Colab**\n",
        "\n",
        "There are 3 subjects, each with their own Data Glove data (the glove they used to capture hand movements), and ECoG data. The data is represented as a dictionary with keys `'data_glove'` and `'ecog'`, storing the data glove and ecog data, respectively. These keys map to python lists of 3 items. Each item is an np.ndarray corresponding to a subject's data. See the pseudcode below.\n",
        "\n",
        "```\n",
        "proj_data = {\n",
        "  'data_glove':[np.ndarray for subject 1, np.ndarray for subject 2, np.ndarray for subject 3],\n",
        "  'ecog':[np.ndarray for subject 1, np.ndarray for subject 2, np.ndarray for subject 3]\n",
        "}\n",
        "```\n",
        "\n",
        "All np.ndarray shapes for `'data_glove'` should be $(T,5)$, where $T$ is the number of samples in the signal, and 5 is the number of fingers.\n",
        "\n",
        "The np.ndarray shapes for `'ecog'` are $(T, 61)$, $(T, 46)$, and $(T,64)$, where T is the number of samples in the signal, and each subject had 61, 46, and 64 ecog channels, respectively.\n",
        "\n",
        "**The sampling rate of the data glove and ecog was 1000 Hz**\n",
        "\n",
        "<!-- The dataset is also on IEEG\n",
        "* Subject 1\n",
        " * I521_Sub1_Training_ecog - Training ECoG \\\n",
        " * I521_Sub1_Training_dg - Training Data Glove \\\n",
        " * I521_Sub1_Leaderboard_ecog - Testing ECoG\n",
        "* Subject 2\n",
        " * I521_Sub2_Training_ecog - Training ECoG \\\n",
        " * I521_Sub2_Training_dg - Training Data Glove \\\n",
        " * I521_Sub2_Leaderboard_ecog - Testing ECoG\n",
        "* Subject 3\n",
        " * I521_Sub3_Training_ecog - Training ECoG \\\n",
        " * I521_Sub3_Training_dg - Training Data Glove \\\n",
        " * I521_Sub3_Leaderboard_ecog - Testing ECoG -->\n",
        "\n",
        "Your task is to develop an algorithm to use the ECoG to predict finger movements that are captured by the Data Glove."
      ]
    },
    {
      "cell_type": "markdown",
      "metadata": {
        "id": "CLzcML-x6jnB"
      },
      "source": [
        "# 1. Getting Started (4 pts)\n",
        "The following sections will walk you through the development of the prediction pipeline."
      ]
    },
    {
      "cell_type": "code",
      "execution_count": null,
      "metadata": {
        "ExecuteTime": {
          "end_time": "2025-03-24T22:12:01.882195Z",
          "start_time": "2025-03-24T22:12:01.879651Z"
        },
        "id": "8w4AGrXqUt5Q"
      },
      "outputs": [],
      "source": [
        "#Set up the notebook environment\n",
        "import matplotlib.pyplot as plt\n",
        "import numpy as np\n",
        "import pandas as pd\n",
        "import pickle\n",
        "from scipy.stats import pearsonr\n",
        "from scipy import signal as sig"
      ]
    },
    {
      "cell_type": "markdown",
      "metadata": {
        "id": "GA2hB_8a_Lu3"
      },
      "source": [
        "## 1.\n",
        "Extract the dataglove and ECoG data for each subject from the pickle file. Feel free to copy the code snippet above. Split the data into a training and testing set (at least 50% of the data should be in the training set).\n",
        "\n",
        "**How many samples are there in the full ECoG recording (before splitting)?** (1 pt)\n",
        "\n",
        "**How many samples do you have in your training set? In your testing set?** (1 pt)"
      ]
    },
    {
      "cell_type": "code",
      "execution_count": null,
      "metadata": {
        "id": "9WDHu4K0M3Ms"
      },
      "outputs": [],
      "source": [
        "with open('final_proj_part1_data.pkl', 'rb') as f:\n",
        "    proj_data = pickle.load(f)"
      ]
    },
    {
      "cell_type": "code",
      "execution_count": null,
      "metadata": {
        "ExecuteTime": {
          "end_time": "2025-03-24T22:12:01.915534Z",
          "start_time": "2025-03-24T22:12:01.913199Z"
        },
        "id": "QhWQLBAN_1JP"
      },
      "outputs": [],
      "source": [
        "data_glove = proj_data[\"data_glove\"]"
      ]
    },
    {
      "cell_type": "code",
      "execution_count": null,
      "metadata": {
        "id": "2mUa6hEQM3Ms",
        "outputId": "af849923-35a6-4402-b52c-37172a49ceb0"
      },
      "outputs": [
        {
          "data": {
            "text/plain": [
              "[array([[-0.11974525, -0.36549759, -0.73717308, -0.51092148, -0.71658897],\n",
              "        [-0.11974525, -0.36549759, -0.73717308, -0.51092148, -0.71658897],\n",
              "        [-0.11974525, -0.36549759, -0.73717308, -0.51092148, -0.71658897],\n",
              "        ...,\n",
              "        [ 2.0240593 , -0.35267067, -0.19278526, -0.19677258, -0.27182388],\n",
              "        [ 2.00303459, -0.35165787, -0.19276047, -0.19695473, -0.27204323],\n",
              "        [ 1.98193359, -0.3506403 , -0.19273472, -0.19713593, -0.27226353]]),\n",
              " array([[-0.69935513, -0.12379456, -0.20017529,  4.42933369, -0.51332283],\n",
              "        [-0.69935513, -0.12379456, -0.20017529,  4.42933369, -0.51332283],\n",
              "        [-0.69935513, -0.12379456, -0.20017529,  4.42933369, -0.51332283],\n",
              "        ...,\n",
              "        [-0.59470844,  0.30090046, -0.35142422,  0.05770493,  0.04432487],\n",
              "        [-0.59465694,  0.30065536, -0.35142422,  0.0579443 ,  0.04527092],\n",
              "        [-0.59460258,  0.30041122, -0.35142326,  0.05818367,  0.04621601]]),\n",
              " array([[-0.00501347,  0.68820906,  2.57802963,  0.48578787,  0.02674103],\n",
              "        [-0.00501347,  0.68820906,  2.57802963,  0.48578787,  0.02674103],\n",
              "        [-0.00501347,  0.68820906,  2.57802963,  0.48578787,  0.02674103],\n",
              "        ...,\n",
              "        [-0.24686241, -0.94949675, -0.25215101, -0.45340061, -0.56300163],\n",
              "        [-0.24658966, -0.94949961, -0.25224686, -0.45382118, -0.56321907],\n",
              "        [-0.24631977, -0.94950056, -0.25234175, -0.45423698, -0.56343555]])]"
            ]
          },
          "execution_count": 4,
          "metadata": {},
          "output_type": "execute_result"
        }
      ],
      "source": [
        "data_glove"
      ]
    },
    {
      "cell_type": "code",
      "execution_count": null,
      "metadata": {
        "id": "F2Eh-fCfM3Ms"
      },
      "outputs": [],
      "source": [
        "ecog = proj_data[\"ecog\"]"
      ]
    },
    {
      "cell_type": "code",
      "execution_count": null,
      "metadata": {
        "id": "UX0aHWQbM3Ms",
        "outputId": "e19d106e-5c79-40c3-c8f2-fef603f6d6fc"
      },
      "outputs": [
        {
          "data": {
            "text/plain": [
              "[array([[  612, -1490,  -996, ...,   205,  1046,  -214],\n",
              "        [  814, -1367,  -649, ...,   399,  1241,   -71],\n",
              "        [ 1111, -1182,  -318, ...,   642,  1459,    64],\n",
              "        ...,\n",
              "        [   83,  2673,  1550, ...,   790,  1269, -2325],\n",
              "        [  421,  2650,  1402, ...,   587,  1177, -2254],\n",
              "        [  823,  2686,  1346, ...,   507,  1155, -2088]], dtype=int32),\n",
              " array([[-3900,  -870,  2067, ...,  -229,   639,   185],\n",
              "        [-3837,  -569,  2067, ...,   -21,   883,   279],\n",
              "        [-3664,  -323,  2049, ...,   150,  1048,   354],\n",
              "        ...,\n",
              "        [  227, -1136,   761, ..., -1567, -2540,   136],\n",
              "        [  477, -1107,  1059, ..., -1256, -2096,   246],\n",
              "        [  741, -1094,  1335, ...,  -928, -1680,   344]], dtype=int32),\n",
              " array([[ 1888,  -915,   260, ..., -2160,  1388,  -335],\n",
              "        [ 1219, -1187,  -162, ..., -2841,  1065,  -728],\n",
              "        [  992, -1030,   -72, ..., -2947,  1136,  -720],\n",
              "        ...,\n",
              "        [  227,   436,   -61, ...,   566,  1894,  3444],\n",
              "        [  -11,   208,  -420, ...,   159,  1796,  3399],\n",
              "        [ -196,    58,  -675, ...,  -187,  1723,  3385]], dtype=int32)]"
            ]
          },
          "execution_count": 6,
          "metadata": {},
          "output_type": "execute_result"
        }
      ],
      "source": [
        "ecog"
      ]
    },
    {
      "cell_type": "markdown",
      "metadata": {
        "id": "XEoLhYHT_2Qr"
      },
      "source": [
        "There are 300,0000 samples in the full ECoG recording before splitting for each subject."
      ]
    },
    {
      "cell_type": "code",
      "execution_count": null,
      "metadata": {
        "id": "KQxHzqYuM3Mt"
      },
      "outputs": [],
      "source": [
        "train_ecog = []\n",
        "test_ecog = []\n",
        "train_glove = []\n",
        "test_glove = []\n",
        "\n",
        "train_len = int(0.8*len(ecog[0]))\n",
        "\n",
        "for subject_idx in range(3):\n",
        "    ecog_data = proj_data[\"ecog\"][subject_idx]\n",
        "    glove_data = proj_data[\"data_glove\"][subject_idx]\n",
        "    train_ecog.append(ecog_data[:train_len])\n",
        "    test_ecog.append(ecog_data[train_len:])\n",
        "    train_glove.append(glove_data[:train_len])\n",
        "    test_glove.append(glove_data[train_len:])"
      ]
    },
    {
      "cell_type": "code",
      "execution_count": null,
      "metadata": {
        "id": "g3BgSm-kM3Mt",
        "outputId": "32008718-5cf3-4ab0-88ca-ea9215cbc939"
      },
      "outputs": [
        {
          "data": {
            "text/plain": [
              "240000"
            ]
          },
          "execution_count": 9,
          "metadata": {},
          "output_type": "execute_result"
        }
      ],
      "source": [
        "train_len"
      ]
    },
    {
      "cell_type": "code",
      "execution_count": null,
      "metadata": {
        "id": "YUK3jgIaM3Mt",
        "outputId": "c2640bde-ffaa-4d43-8b22-31a2df0772b6"
      },
      "outputs": [
        {
          "data": {
            "text/plain": [
              "[array([[  612, -1490,  -996, ...,   205,  1046,  -214],\n",
              "        [  814, -1367,  -649, ...,   399,  1241,   -71],\n",
              "        [ 1111, -1182,  -318, ...,   642,  1459,    64],\n",
              "        ...,\n",
              "        [  803,   845,  -998, ...,  2462,  1948,  -142],\n",
              "        [  828,   706, -1034, ...,  2443,  2039,    36],\n",
              "        [ 1038,   646, -1001, ...,  2554,  2146,   450]], dtype=int32),\n",
              " array([[-3900,  -870,  2067, ...,  -229,   639,   185],\n",
              "        [-3837,  -569,  2067, ...,   -21,   883,   279],\n",
              "        [-3664,  -323,  2049, ...,   150,  1048,   354],\n",
              "        ...,\n",
              "        [-1049,  2804,  2302, ...,   629,  -682,   405],\n",
              "        [ -893,  2869,  2329, ...,   765,  -405,   476],\n",
              "        [ -842,  2904,  2333, ...,   854,  -161,   507]], dtype=int32),\n",
              " array([[ 1888,  -915,   260, ..., -2160,  1388,  -335],\n",
              "        [ 1219, -1187,  -162, ..., -2841,  1065,  -728],\n",
              "        [  992, -1030,   -72, ..., -2947,  1136,  -720],\n",
              "        ...,\n",
              "        [ 3654,  1368,  3217, ...,  1090,  3186,  1579],\n",
              "        [ 3623,  1128,  2958, ...,   870,  2975,  1334],\n",
              "        [ 3931,  1247,  2961, ...,  1054,  3147,  1388]], dtype=int32)]"
            ]
          },
          "execution_count": 10,
          "metadata": {},
          "output_type": "execute_result"
        }
      ],
      "source": [
        "train_ecog"
      ]
    },
    {
      "cell_type": "markdown",
      "metadata": {
        "id": "dsVoemRaM3Mt"
      },
      "source": [
        "I have split the samples into 240,000 samples for the training set and 60,000 samples for the testing set."
      ]
    },
    {
      "cell_type": "markdown",
      "metadata": {
        "id": "mQ9Nl70hkHBa"
      },
      "source": [
        "## 2.\n",
        "Next, complete the `filter_data` function. Test it using the raw data extracted in the prior step. What filter types and cutoff frequencies did you use? (2 pts)"
      ]
    },
    {
      "cell_type": "markdown",
      "metadata": {
        "id": "mgzI-CJRM3Mt"
      },
      "source": [
        "I decided to use the notch and butterworth filter to test the data, since it is similar to the type they talked about in the paper."
      ]
    },
    {
      "cell_type": "code",
      "execution_count": null,
      "metadata": {
        "ExecuteTime": {
          "end_time": "2025-03-24T22:12:01.921163Z",
          "start_time": "2025-03-24T22:12:01.915534Z"
        },
        "id": "CqfertGZGuYQ"
      },
      "outputs": [],
      "source": [
        "def filter_data(raw_eeg, fs=1000):\n",
        "  \"\"\"\n",
        "  Write a filter function to clean underlying data.\n",
        "  Filter type and parameters are up to you. Points will be awarded for reasonable filter type, parameters and application.\n",
        "  Please note there are many acceptable answers, but make sure you aren't throwing out crucial data or adversly\n",
        "  distorting the underlying data!\n",
        "\n",
        "  Input:\n",
        "    raw_eeg (samples x channels): the raw signal\n",
        "    fs: the sampling rate (1000 for this dataset)\n",
        "  Output:\n",
        "    clean_data (samples x channels): the filtered signal\n",
        "  \"\"\"\n",
        "  def notch_filter(data, freq, fs, Q=30):\n",
        "      b, a = sig.iirnotch(w0=freq/(fs/2), Q=Q)\n",
        "      return sig.filtfilt(b, a, data, axis=0)\n",
        "\n",
        "  def bandpass_filter(data, lowcut, highcut, fs, order=4):\n",
        "      nyq_level = 0.5 * fs\n",
        "      low = lowcut / nyq_level\n",
        "      high = highcut / nyq_level\n",
        "      b, a = sig.butter(order, [low, high], btype='band')\n",
        "      return sig.filtfilt(b, a, data, axis=0)\n",
        "\n",
        "  # notch filter at 60 Hz, 60 Hz increment till 300 Hz\n",
        "  filtered = raw_eeg.copy()\n",
        "  for freq in [60, 120, 180, 240, 300]:\n",
        "      filtered = notch_filter(filtered, freq, fs)\n",
        "\n",
        "  # bandpass filter\n",
        "  clean_data = bandpass_filter(filtered, lowcut=1, highcut=200, fs=fs)\n",
        "\n",
        "  return clean_data"
      ]
    },
    {
      "cell_type": "code",
      "execution_count": null,
      "metadata": {
        "ExecuteTime": {
          "end_time": "2025-03-24T22:12:01.925861Z",
          "start_time": "2025-03-24T22:12:01.921163Z"
        },
        "id": "iPc2lya7_7Af"
      },
      "outputs": [],
      "source": [
        "train_ecog_0 = train_ecog[0]"
      ]
    },
    {
      "cell_type": "code",
      "execution_count": null,
      "metadata": {
        "id": "aWZPN-_9M3Mu"
      },
      "outputs": [],
      "source": [
        "filtered_0 = filter_data(train_ecog[0])"
      ]
    },
    {
      "cell_type": "code",
      "execution_count": null,
      "metadata": {
        "id": "19aBW1SCM3Mu",
        "outputId": "80f44585-6a64-4e1d-9c89-94f993e2f514"
      },
      "outputs": [
        {
          "data": {
            "text/plain": [
              "<matplotlib.legend.Legend at 0x297b4d110>"
            ]
          },
          "execution_count": 74,
          "metadata": {},
          "output_type": "execute_result"
        },
        {
          "data": {
            "image/png": "[encoded data removed]",
            "text/plain": [
              "<Figure size 1500x600 with 1 Axes>"
            ]
          },
          "metadata": {},
          "output_type": "display_data"
        }
      ],
      "source": [
        "plt.figure(figsize=(15, 6))\n",
        "plt.plot(train_ecog_0[:, 0], label='Raw Channel', alpha=0.5)\n",
        "plt.plot(filtered_0[:, 0], label='Filtered Channel', linewidth=1)\n",
        "plt.title('Comparison of Raw vs Filtered ECoG Signal (Channel 0)')\n",
        "plt.xlabel('Sample')\n",
        "plt.ylabel('Amplitude')\n",
        "plt.xlim([0, 1000])\n",
        "plt.legend()"
      ]
    },
    {
      "cell_type": "code",
      "execution_count": null,
      "metadata": {
        "id": "4F_2-ScFM3Mu",
        "outputId": "fe1aae00-ad04-4dd0-ccaa-29dbe54ad92f"
      },
      "outputs": [
        {
          "data": {
            "text/plain": [
              "Text(0, 0.5, 'Power')"
            ]
          },
          "execution_count": 76,
          "metadata": {},
          "output_type": "execute_result"
        },
        {
          "data": {
            "image/png": "[encoded data removed]",
            "text/plain": [
              "<Figure size 640x480 with 1 Axes>"
            ]
          },
          "metadata": {},
          "output_type": "display_data"
        }
      ],
      "source": [
        "f, Pxx = sig.welch(train_ecog_0[:, 0], fs=1000, nperseg=1024)\n",
        "plt.semilogy(f, Pxx)\n",
        "plt.title(\"PSD for Raw Channel 0\")\n",
        "plt.xlabel(\"Frequency (Hz)\")\n",
        "plt.ylabel(\"Power\")"
      ]
    },
    {
      "cell_type": "markdown",
      "metadata": {
        "id": "mk7FyFRIM3Mu"
      },
      "source": [
        "I used a filter frequency of 1-200 Hz for the bandpass filter and a notch filter at 60Hz harmonics up to 300 Hz."
      ]
    },
    {
      "cell_type": "markdown",
      "metadata": {
        "id": "v1ZfISDvuuzI"
      },
      "source": [
        "# 2. Calculating Features (12 points)\n",
        "\n",
        "Here you will complete the `get_windowed_feats` and `get_features` functions."
      ]
    },
    {
      "cell_type": "markdown",
      "metadata": {
        "id": "qL3CMDPovL3l"
      },
      "source": [
        "## 1.\n",
        "We will calculate features across sliding time windows. if we use a suggested window length of 100ms with a 50ms window overlap, how many feature windows, $M$, will we have if we computed features using all the data in a given subject? Feel free to re-use code from previous homeworks."
      ]
    },
    {
      "cell_type": "code",
      "execution_count": null,
      "metadata": {
        "id": "Q1h85Ip_M3Mu"
      },
      "outputs": [],
      "source": [
        "fs = 1000\n",
        "xLen = len(train_ecog[0])"
      ]
    },
    {
      "cell_type": "code",
      "execution_count": null,
      "metadata": {
        "ExecuteTime": {
          "end_time": "2025-03-24T22:12:01.937092Z",
          "start_time": "2025-03-24T22:12:01.934644Z"
        },
        "id": "Gc5y0fcb__N3"
      },
      "outputs": [],
      "source": [
        "winLen= 100\n",
        "winDisp = 50\n",
        "\n",
        "def NumWins(xLen, fs, winLen, winDisp):\n",
        "  winLen = winLen * fs\n",
        "  winDisp = winDisp * fs\n",
        "  return int((xLen - winLen) // winDisp + 1)"
      ]
    },
    {
      "cell_type": "code",
      "execution_count": null,
      "metadata": {
        "id": "YQYWY8RdM3Mu",
        "outputId": "e8fa00f6-24d8-4a2c-84e5-abf429c91ce6"
      },
      "outputs": [
        {
          "data": {
            "text/plain": [
              "3"
            ]
          },
          "execution_count": 80,
          "metadata": {},
          "output_type": "execute_result"
        }
      ],
      "source": [
        "\n",
        "NumWins(xLen, fs, winLen, winDisp)"
      ]
    },
    {
      "cell_type": "code",
      "execution_count": null,
      "metadata": {
        "id": "AvQN7bbEM3Mu"
      },
      "outputs": [],
      "source": [
        "def moving_win_feats(x, fs, winLen, winDisp, featFn):\n",
        "  numWins = NumWins(len(x), fs, winLen, winDisp)\n",
        "  winLen = winLen * fs\n",
        "  winDisp = winDisp * fs\n",
        "  feature_values = np.zeros(int(numWins))\n",
        "  for i in range(int(numWins)):\n",
        "    start = int(i * winDisp)\n",
        "    end = int(start + winLen)\n",
        "    feature_values[i] = featFn(x[start:end])\n",
        "  return feature_values"
      ]
    },
    {
      "cell_type": "markdown",
      "metadata": {
        "id": "pK84lCZlM3Mu"
      },
      "source": [
        "We will have 3 feature windows if we computed features using all the data in a given subject."
      ]
    },
    {
      "cell_type": "markdown",
      "metadata": {
        "id": "iBBgRW2WwMFN"
      },
      "source": [
        "## 2.\n",
        "Now complete the `get_features` function. Please create **4 or more** different features to calculate for each channel in each time window. Features may include the average time-domain voltage, or the average frequency-domain magnitude in consecutive 15Hz frequency bands, bandpower of relevant frequency bands, etc..."
      ]
    },
    {
      "cell_type": "code",
      "execution_count": null,
      "metadata": {
        "ExecuteTime": {
          "end_time": "2025-03-24T22:12:01.969410Z",
          "start_time": "2025-03-24T22:12:01.967096Z"
        },
        "id": "yawiKb_ov4Ko"
      },
      "outputs": [],
      "source": [
        "from scipy.stats import skew, kurtosis\n",
        "from scipy import signal as sig\n",
        "\n",
        "def get_features(filtered_window, fs=1000):\n",
        "    \"\"\"\n",
        "    Calculates features for each channel in a window.\n",
        "    Features:\n",
        "      1. Mean (LMP)\n",
        "      2. Standard Deviation\n",
        "      3. Bandpower (5-15 Hz)\n",
        "      4. Bandpower (20-25 Hz)\n",
        "      5. Bandpower (75-115 Hz)\n",
        "\n",
        "    Inputs:\n",
        "      filtered_window (samples x channels): Filtered ECoG data for one window\n",
        "      fs: Sampling rate (default 1000 Hz)\n",
        "\n",
        "    Output:\n",
        "      features (channels x features): Matrix of features\n",
        "    \"\"\"\n",
        "\n",
        "    def bandpower(data, fs, fmin, fmax):\n",
        "        f, Pxx = sig.welch(data, fs=fs, nperseg=min(256, len(data)))\n",
        "        band = (f >= fmin) & (f <= fmax)\n",
        "        return np.trapz(Pxx[band], f[band])\n",
        "\n",
        "    num_samples, num_channels = filtered_window.shape\n",
        "    num_features = 5\n",
        "    features = np.zeros((num_channels, num_features))\n",
        "\n",
        "    for ch in range(num_channels):\n",
        "        signal_ch = filtered_window[:, ch]\n",
        "        features[ch, 0] = np.mean(signal_ch)\n",
        "        features[ch, 1] = np.std(signal_ch)\n",
        "        features[ch, 2] = bandpower(signal_ch, fs, 5, 15)\n",
        "        features[ch, 3] = bandpower(signal_ch, fs, 20, 25)\n",
        "        features[ch, 4] = bandpower(signal_ch, fs, 75, 115)\n",
        "\n",
        "    return features"
      ]
    },
    {
      "cell_type": "markdown",
      "metadata": {
        "id": "vPbDhVki7MnS"
      },
      "source": [
        "## 3.\n",
        "Now finish the `get_windowed_feats` function by putting the `filter_data` and `get_features` functions together to return a feature vector for each time window."
      ]
    },
    {
      "cell_type": "code",
      "execution_count": null,
      "metadata": {
        "ExecuteTime": {
          "end_time": "2025-03-24T22:12:01.982330Z",
          "start_time": "2025-03-24T22:12:01.979405Z"
        },
        "id": "STXDXJz27qZA"
      },
      "outputs": [],
      "source": [
        "def get_windowed_feats(raw_ecog, fs, window_length, window_overlap):\n",
        "  \"\"\"\n",
        "    Write a function which processes data through the steps of filtering and\n",
        "    feature calculation and returns features. Points will be awarded for completing\n",
        "    each step appropriately (note that if one of the functions you call within this script\n",
        "    returns a bad output, you won't be double penalized). Note that you will need\n",
        "    to run the filter_data and get_features functions within this function.\n",
        "\n",
        "    Inputs:\n",
        "      raw_eeg (samples x channels): the raw signal\n",
        "      fs: the sampling rate (1000 for this dataset)\n",
        "      window_length: in seconds\n",
        "      window_overlap: in seconds\n",
        "    Output:\n",
        "      all_feats (num_windows x (channels x features)): the features for each channel for each time window\n",
        "        note that this is a 2D array.\n",
        "  \"\"\"\n",
        "  filtered = filter_data(raw_ecog, fs)\n",
        "\n",
        "  window_length = int(window_length * fs)\n",
        "  window_overlap = int(window_overlap * fs)\n",
        "\n",
        "  step = window_length - window_overlap\n",
        "  num_samples, _ = filtered.shape\n",
        "  starts = np.arange(0, num_samples - window_length + 1, step)\n",
        "\n",
        "  all_feats = []\n",
        "\n",
        "  for start in starts:\n",
        "      end = start + window_length\n",
        "      window = filtered[start:end, :]\n",
        "      feats = get_features(window, fs)\n",
        "      all_feats.append(feats.flatten())\n",
        "\n",
        "  return np.array(all_feats)"
      ]
    },
    {
      "cell_type": "markdown",
      "metadata": {
        "id": "7tNcrgHN5A8G"
      },
      "source": [
        "# 3. Creating the Response Matrix (6 points)\n",
        "In this section, you will develop code for your *create_R_matrix* function"
      ]
    },
    {
      "cell_type": "markdown",
      "metadata": {
        "id": "7ni3kkMb5JnD"
      },
      "source": [
        "## 1.\n",
        "For our set of 62 channels in subject 1, what would the dimensions of the $R$ matrix be if we calculated 6 different feature types per channel, and $N = 3$ time bins where the number of total time bins $M$ is the number you calculated in 2.1? (1pt)"
      ]
    },
    {
      "cell_type": "code",
      "execution_count": null,
      "metadata": {
        "ExecuteTime": {
          "end_time": "2025-03-24T22:12:01.986859Z",
          "start_time": "2025-03-24T22:12:01.983328Z"
        },
        "id": "sERDgCJaAdWs",
        "outputId": "9b85ca36-f4f2-42a2-896a-814b7b9d7cb8"
      },
      "outputs": [
        {
          "name": "stdout",
          "output_type": "stream",
          "text": [
            "1116\n"
          ]
        }
      ],
      "source": [
        "#Your code here\n",
        "Num_columns = 62 * 6 * 3\n",
        "print(Num_columns)"
      ]
    },
    {
      "cell_type": "markdown",
      "metadata": {
        "id": "PYccl9qBAdZr"
      },
      "source": [
        "The size of our matrix would be 3 x 1116."
      ]
    },
    {
      "cell_type": "markdown",
      "metadata": {
        "id": "TDwxvZ7k5YNv"
      },
      "source": [
        "## 2.\n",
        "We do not have feature data to fill out the first $N-1$ data rows in the R matrix that will be used to predict the first $N-1$ finger angles. One way to work around this is to append a copy of the first rows $N-1$ times of your feature matrix to the beginning of your feature matrix before calculating R. Make this adjustment in `create_R_matrix`, then compute the response matrix R. You can test whether your function is running correctly by running `create_R_matrix` with data from `testRfunction.pkl` using 3 windows and verifying that the quantity `np.mean(R)` is 25.4669 (5 points)."
      ]
    },
    {
      "cell_type": "code",
      "execution_count": null,
      "metadata": {
        "ExecuteTime": {
          "end_time": "2025-03-24T22:12:01.992334Z",
          "start_time": "2025-03-24T22:12:01.986859Z"
        },
        "id": "B78sAA7p4Pr6"
      },
      "outputs": [],
      "source": [
        "def create_R_matrix(features, N_wind):\n",
        "  \"\"\"\n",
        "  Write a function to calculate the R matrix\n",
        "\n",
        "  Input:\n",
        "    features (num_windows x (channels x features)):\n",
        "      the features you calculated using get_windowed_feats\n",
        "    N_wind: number of windows to use in the R matrix\n",
        "\n",
        "  Output:\n",
        "    R (samples x (N_wind*channels*features))\n",
        "  \"\"\"\n",
        "  M, D = features.shape\n",
        "\n",
        "  padding = np.repeat(features[[0]], repeats=N_wind - 1, axis=0)  # shape: (N-1, D)\n",
        "  padded_feats = np.vstack((padding, features))  # shape: (M + N - 1, D)\n",
        "\n",
        "  R = np.zeros((M, N_wind * D))\n",
        "\n",
        "  for i in range(M):\n",
        "      window = padded_feats[i:i + N_wind, :]\n",
        "      R[i, :] = window.flatten(order='C')\n",
        "  bias = np.ones((M, 1))\n",
        "  R = np.hstack((bias, R))\n",
        "  return R"
      ]
    },
    {
      "cell_type": "code",
      "execution_count": null,
      "metadata": {
        "ExecuteTime": {
          "end_time": "2025-03-24T22:12:01.997296Z",
          "start_time": "2025-03-24T22:12:01.993331Z"
        },
        "id": "Yn5_Ox0PAi97"
      },
      "outputs": [],
      "source": [
        "#Your code here\n",
        "with open('testRfunction.pkl', 'rb') as f:\n",
        "    test_feats = pickle.load(f)"
      ]
    },
    {
      "cell_type": "code",
      "execution_count": null,
      "metadata": {
        "id": "1jstez4IM3M_",
        "outputId": "3bcfbe99-746d-4f6f-9581-a0ddd6021e0a"
      },
      "outputs": [
        {
          "name": "stdout",
          "output_type": "stream",
          "text": [
            "25.46694219254388\n"
          ]
        }
      ],
      "source": [
        "R = create_R_matrix(test_feats, N_wind=3)\n",
        "print(np.mean(R))"
      ]
    },
    {
      "cell_type": "markdown",
      "metadata": {
        "id": "4BRc82EMdfux"
      },
      "source": [
        "# 4. ML Training and Testing (10 points)\n",
        "Here we will use the optimal linear decoder framework to predict finger angles, and additionally you will use one or more models of your own choosing to make the prediction.\n",
        "\n",
        "NOTE: This is a regression task - we are asking you to predict the movement of each finger for each subject."
      ]
    },
    {
      "cell_type": "markdown",
      "metadata": {
        "id": "k-x6Ejq-dotg"
      },
      "source": [
        "## 1.\n",
        "\n",
        "Calculate the linear filter $f$ as defined above for all 5 finger angles using features calculated from your training data. You will have to first down-sample the finger flexion data so that your feature matrix, $R$, and your flexion data have the same number of time windows.\n",
        "\n",
        "You will likely find [np.matmul](https://numpy.org/doc/stable/reference/generated/numpy.matmul.html) or operator @, and [np.linalg.inv](https://numpy.org/doc/stable/reference/generated/numpy.linalg.inv.html) to be useful."
      ]
    },
    {
      "cell_type": "code",
      "execution_count": null,
      "metadata": {
        "id": "rld2poWYM3M_"
      },
      "outputs": [],
      "source": [
        "channels = [61, 46, 64]"
      ]
    },
    {
      "cell_type": "code",
      "execution_count": null,
      "metadata": {
        "id": "ZY_5LZmNM3M_",
        "outputId": "d48e77f6-3435-4b20-e756-6420affd53ee"
      },
      "outputs": [
        {
          "data": {
            "text/plain": [
              "[array([[  612, -1490,  -996, ...,   205,  1046,  -214],\n",
              "        [  814, -1367,  -649, ...,   399,  1241,   -71],\n",
              "        [ 1111, -1182,  -318, ...,   642,  1459,    64],\n",
              "        ...,\n",
              "        [  803,   845,  -998, ...,  2462,  1948,  -142],\n",
              "        [  828,   706, -1034, ...,  2443,  2039,    36],\n",
              "        [ 1038,   646, -1001, ...,  2554,  2146,   450]], dtype=int32),\n",
              " array([[-3900,  -870,  2067, ...,  -229,   639,   185],\n",
              "        [-3837,  -569,  2067, ...,   -21,   883,   279],\n",
              "        [-3664,  -323,  2049, ...,   150,  1048,   354],\n",
              "        ...,\n",
              "        [-1049,  2804,  2302, ...,   629,  -682,   405],\n",
              "        [ -893,  2869,  2329, ...,   765,  -405,   476],\n",
              "        [ -842,  2904,  2333, ...,   854,  -161,   507]], dtype=int32),\n",
              " array([[ 1888,  -915,   260, ..., -2160,  1388,  -335],\n",
              "        [ 1219, -1187,  -162, ..., -2841,  1065,  -728],\n",
              "        [  992, -1030,   -72, ..., -2947,  1136,  -720],\n",
              "        ...,\n",
              "        [ 3654,  1368,  3217, ...,  1090,  3186,  1579],\n",
              "        [ 3623,  1128,  2958, ...,   870,  2975,  1334],\n",
              "        [ 3931,  1247,  2961, ...,  1054,  3147,  1388]], dtype=int32)]"
            ]
          },
          "execution_count": 87,
          "metadata": {},
          "output_type": "execute_result"
        }
      ],
      "source": [
        "train_ecog"
      ]
    },
    {
      "cell_type": "code",
      "execution_count": null,
      "metadata": {
        "id": "gL3LSepjM3M_",
        "outputId": "32b7748b-1346-494e-99c7-df93e6a7cdc6"
      },
      "outputs": [
        {
          "data": {
            "text/plain": [
              "[array([[ 1222,   575,  -936, ...,  2648,  2208,   944],\n",
              "        [ 1318,   469,  -855, ...,  2645,  2193,  1389],\n",
              "        [ 1510,   600,  -469, ...,  2729,  2323,  1866],\n",
              "        ...,\n",
              "        [   83,  2673,  1550, ...,   790,  1269, -2325],\n",
              "        [  421,  2650,  1402, ...,   587,  1177, -2254],\n",
              "        [  823,  2686,  1346, ...,   507,  1155, -2088]], dtype=int32),\n",
              " array([[ -839,  2907,  2295, ...,   959,   136,   587],\n",
              "        [ -818,  2866,  2203, ...,  1082,   486,   735],\n",
              "        [ -772,  2883,  2024, ...,  1251,   803,   898],\n",
              "        ...,\n",
              "        [  227, -1136,   761, ..., -1567, -2540,   136],\n",
              "        [  477, -1107,  1059, ..., -1256, -2096,   246],\n",
              "        [  741, -1094,  1335, ...,  -928, -1680,   344]], dtype=int32),\n",
              " array([[4401, 1578, 3111, ..., 1472, 3515, 1590],\n",
              "        [4349, 1411, 2866, ..., 1362, 3325, 1268],\n",
              "        [3966,  951, 2411, ...,  912, 2820,  745],\n",
              "        ...,\n",
              "        [ 227,  436,  -61, ...,  566, 1894, 3444],\n",
              "        [ -11,  208, -420, ...,  159, 1796, 3399],\n",
              "        [-196,   58, -675, ..., -187, 1723, 3385]], dtype=int32)]"
            ]
          },
          "execution_count": 88,
          "metadata": {},
          "output_type": "execute_result"
        }
      ],
      "source": [
        "test_ecog"
      ]
    },
    {
      "cell_type": "code",
      "execution_count": null,
      "metadata": {
        "ExecuteTime": {
          "end_time": "2025-03-24T22:12:02.005855Z",
          "start_time": "2025-03-24T22:12:01.997296Z"
        },
        "id": "VAIHnBsMAmd0"
      },
      "outputs": [],
      "source": [
        "def compute_linear_filter(R, finger_flexion_raw, original_fs=1000, window_step=50):\n",
        "\n",
        "    M = R.shape[0]\n",
        "    T = finger_flexion_raw.shape[0]\n",
        "\n",
        "    # downsample finger flexion\n",
        "    factor = original_fs // window_step\n",
        "    Y = finger_flexion_raw[::factor]\n",
        "    Y = Y[:M, :] if Y.shape[0] > M else np.pad(Y, ((0, M - Y.shape[0]), (0, 0)), mode='edge')\n",
        "\n",
        "    alpha = 1e-2\n",
        "    RTR = R.T @ R + alpha * np.eye(R.shape[1])\n",
        "    return np.linalg.inv(RTR) @ R.T @ Y"
      ]
    },
    {
      "cell_type": "code",
      "execution_count": null,
      "metadata": {
        "id": "g0347b9LM3NA",
        "outputId": "8a655a84-05f1-4f42-f542-71c448c0e33d"
      },
      "outputs": [
        {
          "name": "stderr",
          "output_type": "stream",
          "text": [
            "Extracting Train Features: 100%|██████████| 3/3 [03:07<00:00, 62.52s/it]\n",
            "Extracting Test Features: 100%|██████████| 3/3 [00:47<00:00, 15.72s/it]\n"
          ]
        }
      ],
      "source": [
        "from tqdm import tqdm\n",
        "\n",
        "# Train Features with Progress Bar\n",
        "train_feats_1 = [\n",
        "    get_windowed_feats(x, fs=1000, window_length=0.1, window_overlap=0.05)\n",
        "    for x in tqdm(train_ecog, desc=\"Extracting Train Features\")\n",
        "]\n",
        "\n",
        "# Test Features with Progress Bar\n",
        "test_feats_2 = [\n",
        "    get_windowed_feats(x, fs=1000, window_length=0.1, window_overlap=0.05)\n",
        "    for x in tqdm(test_ecog, desc=\"Extracting Test Features\")\n",
        "]"
      ]
    },
    {
      "cell_type": "code",
      "execution_count": null,
      "metadata": {
        "id": "9GCaicR3M3NA",
        "outputId": "3205bb74-edff-416e-aa9b-4b5166fc702f"
      },
      "outputs": [
        {
          "name": "stderr",
          "output_type": "stream",
          "text": [
            "/var/folders/qz/fcb1r19x3b3byv4_j0ftwgkr0000gn/T/ipykernel_79121/3284816502.py:12: RuntimeWarning: invalid value encountered in matmul\n",
            "  RTR = R.T @ R + alpha * np.eye(R.shape[1])\n"
          ]
        },
        {
          "name": "stdout",
          "output_type": "stream",
          "text": [
            "[[ 2.78938213e-02 -2.72428905e-01 -1.40639004e-01  1.12271444e-01\n",
            "  -3.08451594e-01]\n",
            " [-2.03196552e-05  8.98104003e-06  1.21153018e-05  2.98600684e-05\n",
            "   4.58711667e-05]\n",
            " [ 0.00000000e+00  0.00000000e+00  0.00000000e+00  0.00000000e+00\n",
            "   0.00000000e+00]\n",
            " ...\n",
            " [-2.09744300e-06 -6.07355264e-07  1.87967880e-06 -1.63953951e-07\n",
            "  -1.81466334e-06]\n",
            " [ 2.08564089e-05  6.33804327e-07 -2.45719832e-05 -8.03897974e-07\n",
            "  -1.59341736e-05]\n",
            " [-3.93444599e-05  1.09054365e-04 -3.70546800e-05 -5.18271096e-05\n",
            "   4.72783765e-05]]\n",
            "(1199, 5)\n",
            "[[ 0.35743409  0.54943365 -1.3127302  -1.26623854 -0.15761559]\n",
            " [ 0.56138331  0.84030375 -1.44266621 -0.94958738 -0.02449283]\n",
            " [ 0.41543633  0.54062202 -0.8353809  -0.97756174 -0.07024351]\n",
            " [ 0.0804099   0.99345905 -0.51986527 -1.06894267  0.02290862]\n",
            " [-0.01277044  0.88642923 -0.32847284 -0.77581138  0.17850722]]\n"
          ]
        }
      ],
      "source": [
        "# creating R matrices\n",
        "R_train = [create_R_matrix(train_feats_thing, N_wind=5) for train_feats_thing in train_feats_1]\n",
        "R_test = [create_R_matrix(test_feats_thing, N_wind=5) for test_feats_thing in test_feats_2]\n",
        "\n",
        "# loop through each subject's R filter\n",
        "f_list = [compute_linear_filter(R, train_glove[i]) for i, R in enumerate(R_train)]\n",
        "\n",
        "# print result and predict\n",
        "print(f_list[0])\n",
        "Y_pred_1 = R_test[0] @ f_list[0]\n",
        "print(Y_pred_1.shape)\n",
        "print(Y_pred_1[:5])  # show first 5 rows of predictions"
      ]
    },
    {
      "cell_type": "code",
      "execution_count": null,
      "metadata": {
        "id": "OaTRElATM3NA",
        "outputId": "2eb794ce-8235-4b10-8ac4-1db758cecef6"
      },
      "outputs": [
        {
          "data": {
            "text/plain": [
              "array([[ 1.00000000e+00, -1.53937311e+03,  0.00000000e+00, ...,\n",
              "         3.63673632e+04,  1.78416495e+03,  1.99959821e+02],\n",
              "       [ 1.00000000e+00, -1.53937311e+03,  0.00000000e+00, ...,\n",
              "         1.13247370e+05,  5.78896772e+03,  8.27940535e+02],\n",
              "       [ 1.00000000e+00, -1.53937311e+03,  0.00000000e+00, ...,\n",
              "         8.62759140e+03,  9.64708295e+02,  1.02974376e+02],\n",
              "       ...,\n",
              "       [ 1.00000000e+00,  3.27373477e+02,  0.00000000e+00, ...,\n",
              "         4.57284333e+04,  4.48990310e+03,  2.04487079e+02],\n",
              "       [ 1.00000000e+00, -1.15049691e+03,  0.00000000e+00, ...,\n",
              "         2.63715518e+04,  4.26721924e+03,  5.89224282e+02],\n",
              "       [ 1.00000000e+00,  9.32495576e+02,  0.00000000e+00, ...,\n",
              "         2.20963124e+04,  5.58447828e+02,  1.86423409e+02]])"
            ]
          },
          "execution_count": 93,
          "metadata": {},
          "output_type": "execute_result"
        }
      ],
      "source": [
        "R_train[0]"
      ]
    },
    {
      "cell_type": "code",
      "execution_count": null,
      "metadata": {
        "id": "8vy6tcu8M3NA",
        "outputId": "259e008a-5d33-4981-f82c-d84efa3a9ae2"
      },
      "outputs": [
        {
          "name": "stderr",
          "output_type": "stream",
          "text": [
            "/var/folders/qz/fcb1r19x3b3byv4_j0ftwgkr0000gn/T/ipykernel_79121/3284816502.py:12: RuntimeWarning: invalid value encountered in matmul\n",
            "  RTR = R.T @ R + alpha * np.eye(R.shape[1])\n"
          ]
        },
        {
          "data": {
            "text/plain": [
              "array([[ 2.78938213e-02, -2.72428905e-01, -1.40639004e-01,\n",
              "         1.12271444e-01, -3.08451594e-01],\n",
              "       [-2.03196552e-05,  8.98104003e-06,  1.21153018e-05,\n",
              "         2.98600684e-05,  4.58711667e-05],\n",
              "       [ 0.00000000e+00,  0.00000000e+00,  0.00000000e+00,\n",
              "         0.00000000e+00,  0.00000000e+00],\n",
              "       ...,\n",
              "       [-2.09744300e-06, -6.07355264e-07,  1.87967880e-06,\n",
              "        -1.63953951e-07, -1.81466334e-06],\n",
              "       [ 2.08564089e-05,  6.33804327e-07, -2.45719832e-05,\n",
              "        -8.03897974e-07, -1.59341736e-05],\n",
              "       [-3.93444599e-05,  1.09054365e-04, -3.70546800e-05,\n",
              "        -5.18271096e-05,  4.72783765e-05]])"
            ]
          },
          "execution_count": 94,
          "metadata": {},
          "output_type": "execute_result"
        }
      ],
      "source": [
        "compute_linear_filter(R_train[0], train_glove[0])"
      ]
    },
    {
      "cell_type": "code",
      "execution_count": null,
      "metadata": {
        "id": "QVlsqmCsM3NA",
        "outputId": "3d9ea726-7d5f-4ea5-e59b-b306eb9fc841"
      },
      "outputs": [
        {
          "name": "stdout",
          "output_type": "stream",
          "text": [
            "0\n"
          ]
        }
      ],
      "source": [
        "print(np.isnan(R_train[0]).sum())"
      ]
    },
    {
      "cell_type": "code",
      "execution_count": null,
      "metadata": {
        "id": "wAE1UpAbM3NA",
        "outputId": "fa77e0c6-456e-414f-f397-747c5e7a21ef"
      },
      "outputs": [
        {
          "name": "stdout",
          "output_type": "stream",
          "text": [
            "0\n"
          ]
        }
      ],
      "source": [
        "print(np.isnan(train_feats_1[0]).sum())\n"
      ]
    },
    {
      "cell_type": "markdown",
      "metadata": {
        "id": "joHhIH8YwH5O"
      },
      "source": [
        "## 2.\n",
        "Try one other machine learning models using your features and finger angle labels. Look back through previous homeworks to get some ideas"
      ]
    },
    {
      "cell_type": "markdown",
      "metadata": {
        "id": "AN-iNS6iM3NA"
      },
      "source": [
        "Ridge Regression"
      ]
    },
    {
      "cell_type": "code",
      "execution_count": null,
      "metadata": {
        "ExecuteTime": {
          "end_time": "2025-03-24T22:12:02.011765Z",
          "start_time": "2025-03-24T22:12:02.006853Z"
        },
        "id": "c3ZKwmsCwOSC"
      },
      "outputs": [],
      "source": [
        "from sklearn.linear_model import Ridge\n",
        "\n",
        "def train_ridge_model(R, Y, alpha=1.0):\n",
        "    model = Ridge(alpha=alpha)\n",
        "    model.fit(R, Y)\n",
        "    return model"
      ]
    },
    {
      "cell_type": "markdown",
      "metadata": {
        "id": "4rxqSJ24M3NA"
      },
      "source": [
        "Random Forest Regressor"
      ]
    },
    {
      "cell_type": "code",
      "execution_count": null,
      "metadata": {
        "id": "xYV_VFo-M3NA"
      },
      "outputs": [],
      "source": [
        "from sklearn.ensemble import RandomForestRegressor\n",
        "\n",
        "def train_rf_model(R, Y):\n",
        "    \"\"\"\n",
        "    Train a Random Forest model to predict finger flexion\n",
        "    \"\"\"\n",
        "    model = RandomForestRegressor(n_estimators=100, max_depth=10, random_state=42)\n",
        "    model.fit(R, Y)\n",
        "    return model\n"
      ]
    },
    {
      "cell_type": "markdown",
      "metadata": {
        "id": "OpgrbnR2M3NA"
      },
      "source": [
        "Multi-layer perceptron"
      ]
    },
    {
      "cell_type": "code",
      "execution_count": null,
      "metadata": {
        "id": "LVRFoZ4oM3NB"
      },
      "outputs": [],
      "source": [
        "from sklearn.neural_network import MLPRegressor\n",
        "\n",
        "def train_mlp_model(R, Y):\n",
        "    model = MLPRegressor(hidden_layer_sizes=(128, 64), activation='relu',\n",
        "                         solver='adam', max_iter=500, random_state=42)\n",
        "    model.fit(R, Y)\n",
        "    return model"
      ]
    },
    {
      "cell_type": "code",
      "execution_count": null,
      "metadata": {
        "id": "UYoPy-ZtM3NB"
      },
      "outputs": [],
      "source": [
        "from sklearn.preprocessing import StandardScaler\n",
        "\n",
        "scaler = StandardScaler()\n",
        "R_train_scaled = scaler.fit_transform(R_train[0])\n",
        "R_test_scaled = scaler.transform(R_test[0])"
      ]
    },
    {
      "cell_type": "markdown",
      "metadata": {
        "id": "iDqxnI-zvVN1"
      },
      "source": [
        "## 3.\n",
        "Produce predictions on the testing set for each finger angle.\n",
        "\n",
        "Report your correlations here using the linear filter, and when using the other model(s) that you tried, as follows:\n",
        "\n",
        "> For each subject, calculate the correlation coefficient between the predicted and test finger angles for each finger separately.\n",
        "\n",
        "> You therefore should have 15 correlations: five per subject, with three subjects.\n",
        "\n",
        "You will find  [pearsonr](https://docs.scipy.org/doc/scipy/reference/generated/scipy.stats.pearsonr.html) to be helpful and already imported."
      ]
    },
    {
      "cell_type": "code",
      "execution_count": null,
      "metadata": {
        "ExecuteTime": {
          "end_time": "2025-03-24T22:12:02.017165Z",
          "start_time": "2025-03-24T22:12:02.012761Z"
        },
        "id": "IbyHoKlxAsL1",
        "outputId": "d0907df6-5a66-4004-8b5c-6a3a8893a4ec"
      },
      "outputs": [
        {
          "name": "stderr",
          "output_type": "stream",
          "text": [
            "Training Ridge Models:   0%|          | 0/3 [00:00<?, ?it/s]/Library/Frameworks/Python.framework/Versions/3.11/lib/python3.11/site-packages/sklearn/utils/extmath.py:203: RuntimeWarning: invalid value encountered in matmul\n",
            "  ret = a @ b\n",
            "Training Ridge Models:  33%|███▎      | 1/3 [00:00<00:01,  1.04it/s]/Library/Frameworks/Python.framework/Versions/3.11/lib/python3.11/site-packages/sklearn/utils/extmath.py:203: RuntimeWarning: invalid value encountered in matmul\n",
            "  ret = a @ b\n",
            "Training Ridge Models:  67%|██████▋   | 2/3 [00:01<00:00,  1.10it/s]/Library/Frameworks/Python.framework/Versions/3.11/lib/python3.11/site-packages/sklearn/utils/extmath.py:203: RuntimeWarning: invalid value encountered in matmul\n",
            "  ret = a @ b\n",
            "Training Ridge Models: 100%|██████████| 3/3 [00:02<00:00,  1.03it/s]"
          ]
        },
        {
          "name": "stdout",
          "output_type": "stream",
          "text": [
            "\n",
            "Subject 1 Ridge Correlations:\n",
            "Finger 1: 0.5182033414697428\n",
            "Finger 2: 0.528944802083784\n",
            "Finger 3: 0.08661322332494815\n",
            "Finger 4: 0.5383597713064157\n",
            "Finger 5: -0.13805161710831426\n",
            "\n",
            "Subject 2 Ridge Correlations:\n",
            "Finger 1: 0.42213058833639094\n",
            "Finger 2: 0.3060821039624836\n",
            "Finger 3: 0.22464362060773013\n",
            "Finger 4: 0.5238840597801495\n",
            "Finger 5: 0.20726597141273304\n",
            "\n",
            "Subject 3 Ridge Correlations:\n",
            "Finger 1: 0.6179058488423845\n",
            "Finger 2: 0.3726217872395569\n",
            "Finger 3: 0.5559903515932215\n",
            "Finger 4: 0.5327508106599032\n",
            "Finger 5: 0.4588243484251474\n"
          ]
        },
        {
          "name": "stderr",
          "output_type": "stream",
          "text": [
            "\n"
          ]
        }
      ],
      "source": [
        "from scipy import signal as sig\n",
        "from sklearn.linear_model import Ridge\n",
        "from scipy.stats import pearsonr\n",
        "from tqdm import tqdm\n",
        "\n",
        "# store models, filters, predictions, correlations\n",
        "ridge_models = []\n",
        "f_all = []\n",
        "correlations = []\n",
        "\n",
        "for i in tqdm(range(3), desc=\"Training Ridge Models\"):\n",
        "    # downsampling\n",
        "    Y_train = sig.resample(train_glove[i], len(R_train[i]))\n",
        "    Y_test = sig.resample(test_glove[i], len(R_test[i]))\n",
        "\n",
        "    # ridge model\n",
        "    model = Ridge(alpha=1.0)\n",
        "    model.fit(R_train[i], Y_train)\n",
        "    ridge_models.append(model)\n",
        "\n",
        "    # predictions\n",
        "    Y_pred = model.predict(R_test[i])\n",
        "\n",
        "    # correlation evaluations\n",
        "    corrs = []\n",
        "    for j in range(5):\n",
        "        corr, _ = pearsonr(Y_pred[:, j], Y_test[:, j])\n",
        "        corrs.append(corr)\n",
        "\n",
        "    correlations.append(corrs)\n",
        "\n",
        "# showing results\n",
        "for subj in range(3):\n",
        "    print(f\"\\nSubject {subj+1} Ridge Correlations:\")\n",
        "    for finger in range(5):\n",
        "        print(f\"Finger {finger+1}: {correlations[subj][finger]}\")"
      ]
    },
    {
      "cell_type": "code",
      "source": [],
      "metadata": {
        "id": "Mw7LAPVnM8HP"
      },
      "execution_count": null,
      "outputs": []
    }
  ],
  "metadata": {
    "colab": {
      "collapsed_sections": [
        "_ehuowkc1TVO",
        "ZhDgvv4T1X4b",
        "n0Nbsp0F1V_6"
      ],
      "provenance": []
    },
    "kernelspec": {
      "display_name": "Python 3 (ipykernel)",
      "language": "python",
      "name": "python3"
    },
    "language_info": {
      "codemirror_mode": {
        "name": "ipython",
        "version": 3
      },
      "file_extension": ".py",
      "mimetype": "text/x-python",
      "name": "python",
      "nbconvert_exporter": "python",
      "pygments_lexer": "ipython3",
      "version": "3.11.4"
    }
  },
  "nbformat": 4,
  "nbformat_minor": 0
}