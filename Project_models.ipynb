{
  "cells": [
    {
      "cell_type": "markdown",
      "metadata": {
        "id": "sQb8UNexzK6U"
      },
      "source": [
        "# BE 521: Final Project Part 1\n",
        "Spring 2025\n",
        "\n",
        "Adapted by Kevin Xie\n",
        "\n",
        "Updated by Zhongchuan Xu\n",
        "\n",
        "32 Points\n",
        "\n",
        "Objective: Predict finger movements from ECoG Recordings\n",
        "\n",
        "Due: April 10th\n"
      ]
    },
    {
      "cell_type": "markdown",
      "metadata": {
        "id": "_ehuowkc1TVO"
      },
      "source": [
        "## Important Deadlines\n",
        "* Final Project Part 1 (Canvas)\n",
        " * Due: April 10th\n",
        " * 32 Points\n",
        "* Team Registration\n",
        " * Due: April 10th\n",
        " * 5 Points\n",
        "* Team Responsibilities (Canvas)\n",
        " * Due: April 14th\n",
        " * 3 Point\n",
        "* Checkpoint 1, r > 0.33\n",
        " * Due: April 17th\n",
        " * 20 Points\n",
        "* Checkpoint 2, r > 0.45\n",
        " * Due: April 24th\n",
        " * 15 Points\n",
        "* End of competition, submit algorithm (Canvas):\n",
        " * Due: April 25th\n",
        " * 15 Points\n",
        "* Final Report\n",
        " * Due: April 27th\n",
        " * 60 Points\n",
        "* Competition results (Final class session)\n",
        " * On: April 30th\n",
        "\n",
        "The grading is structured so that going the extra mile is definitely rewarded. We want you to show what you've learned this semester, and to have some fun!"
      ]
    },
    {
      "cell_type": "markdown",
      "metadata": {
        "id": "ZhDgvv4T1X4b"
      },
      "source": [
        "## Writing Your Code\n",
        "To get started with the final project we have provided a a series of method stubs for you to fill out. Your job for part 1 of the final project is to build a prediction pipeline that takes in the ECoG and dataglove finger angle recordings (serving as the data and labels respectively), then uses machine learning methods to generate predicted finger angles from the ECoG signals. The functions you will develop in this assignment are as follows:\n",
        "* `get_windowed_feats` This function will take in raw ECoG data, and use the 2 following helper functions to filter the data, calculate sliding-window features.\n",
        " * `filter_data` This function will apply a filter to the raw data and return cleaned data\n",
        " * `get_features` This function will take in a window of cleaned data and return a vector of features for that window\n",
        "* `create_R_matrix` This function will take in a feature matrix and return a response matrix as an adaptation of the optimal linear decoder method.\n",
        "\n"
      ]
    },
    {
      "cell_type": "markdown",
      "metadata": {
        "id": "8u5g0qVr2C2M"
      },
      "source": [
        "## Optimal Linear Decoder\n",
        "You will use a modified version of the **optimal linear decoder** method as described in Warland et al., 1997. We will recapitulate the method in this section, but consult the paper for more details. Our ultimate goal is to predict the angle of each finger as it moves over time using data recorded from the ECoG channels.\n",
        "\n",
        "The position data is captured for 300 seconds, which you will split up into $M$ total time bins, and the number of ECoG channels, $\\nu$, is 61, 46, and 64 for subject 1, 2, and 3 respectively.\n",
        "\n",
        "The paradigm we adapt here tries to predict finger angle at a given time window using ECoG features calculated over the preceding $N$ time windows, using\n",
        "the following steps:\n",
        "\n",
        "First, $p$ features will be calculated across all $\\nu$ ECoG channels over $M$ total time windows to get a feature matrix of shape $\\bigl(M, (\\nu \\times p)\\bigr)$\n",
        "\n",
        "Then, following the approach that Warland et al., 1997 takes, we will construct a row vector corresponding to each time bin, that contains features for all the ECoG channels over the preceding *N* time bins (in the paper, spike counts are their features and they index neurons instead of ECoG channels). Thus, there will be a good amount of redundancy between row vectors of adjacent time bins, but that is okay.\n",
        "\n",
        "Let $r^{c,\\phi}_t$ be the value of the feature in window $t \\in \\{1,2,\\dots,M\\}$, channel $c\\in\\{1,2,\\dots,\\nu\\}$ and with feature $\\phi\\in\\{1,2,\\dots,p\\}$. Let the response matrix $R \\in \\mathbb{R}^{M \\times (1+N \\cdot p \\cdot \\nu )}$ be defined as:\n",
        "\n",
        "$$R = \\begin{bmatrix}\n",
        "\\mathbf{1} & r^{(1,1)}_1 & r^{(1,1)}_1 & \\cdots & r^{(1,1)}_1 & r^{(1,1)}_1 & r^{(1,2)}_1 & \\cdots & r^{(1,2)}_1 & \\cdots & r^{(\\nu,p)}_1 & \\cdots & r^{(\\nu,p)}_1\\\\\n",
        "\\mathbf{1} & r^{(1,1)}_1 & r^{(1,1)}_1 & \\cdots & r^{(1,1)}_1 & r^{(1,1)}_2 & r^{(1,2)}_1 & \\cdots & r^{(1,2)}_2 & \\cdots & r^{(\\nu,p)}_1 & \\cdots & r^{(\\nu,p)}_2\\\\\n",
        "\\mathbf{1} & r^{(1,1)}_1 & r^{(1,1)}_1 & \\cdots & r^{(1,1)}_2 & r^{(1,1)}_3 & r^{(1,2)}_1 & \\cdots & r^{(1,2)}_3 & \\cdots & r^{(\\nu,p)}_1 & \\cdots & r^{(\\nu,p)}_3\\\\\n",
        "\\vdots   & \\vdots     & \\vdots     & \\ddots & \\vdots     & \\vdots     & \\vdots     & \\ddots & \\vdots   & \\cdots & \\vdots         & \\ddots & \\vdots\\\\\n",
        "\\mathbf{1} & r^{(1,1)}_1 & r^{(1,1)}_2 & \\cdots & r^{(1,1)}_{N-1} & r^{(1,1)}_N & r^{(1,2)}_1 & \\cdots & r^{(1,2)}_N & \\cdots & r^{(\\nu,p)}_1 & \\cdots & r^{(\\nu,p)}_N\\\\\n",
        "\\mathbf{1} & r^{(1,1)}_2 & r^{(1,1)}_3 & \\cdots &r^{(1,1)}_{N} & r^{(1,1)}_{N+1} & r^{(1,2)}_2 & \\cdots & r^{(1,2)}_{N+1} & \\cdots & r^{(\\nu,p)}_2 & \\cdots & r^{(\\nu,p)}_{N+1}\\\\\n",
        "\\vdots   & \\vdots     & \\vdots     & \\ddots & \\vdots     & \\vdots     & \\vdots     & \\ddots & \\vdots   & \\cdots & \\vdots         & \\ddots & \\vdots\\\\\n",
        "\\mathbf{1} & r^{(1,1)}_{M-N+1} & r^{(1,1)}_{M-N+2} & \\cdots & r^{(1,1)}_{M-1} & r^{(1,1)}_M & r^{(1,2)}_{M-N+1} & \\cdots & r^{(1,2)}_M & \\cdots & r^{(\\nu,p)}_{M-N+1} & \\cdots & r^{(\\nu,p)}_M\\\\\n",
        "\\end{bmatrix}$$\n",
        "\n"
      ]
    },
    {
      "cell_type": "markdown",
      "metadata": {
        "id": "YkrRTSYm3qlA"
      },
      "source": [
        "This is also referred to as the design or feature matrix, with each column being a predictor, or feature. The column of 1’s accounts for the intercept term in linear regression/decoding. Here we are repeating the first windows $N-1$ times as the padding of the first windows. Make sure you understand what this matrix means before moving on.\n",
        "\n",
        "We denote the target matrix as $Y \\in \\mathbb{R}^{M \\times 5}$ and the prediction matrix (e.g. the predicted finger angles) as $\\hat{Y} \\in \\mathbb{R}^{M \\times 5}$. Note that in Warland et al., 1997, this quantity is referred to as the stimulus vector since they are talking about decoding the stimulus from neural data after it. We, on the other hand, are trying to decode finger positions using the ECoG data before it, but we can conveniently use the same method. Our goal is to find some optimal weight matrix or filter $f \\in \\mathbb{R}^{(1+N \\cdot p \\cdot \\nu ) \\times 5}$ that minimizes the mean squared error:\n",
        "\n",
        "$$f^* = \\operatorname{argmin}_{f} \\, \\mathcal{L}(f) = \\operatorname{argmin}_{f} \\left\\|Y - \\hat{Y}\\right\\|^2,$$\n",
        "where $\\hat{Y} = Rf$\n",
        "\n",
        "We start with the mean squared error (MSE) loss function:\n",
        "$$\n",
        "\\mathcal{L}(f) = \\left\\|Y - R\\,f\\right\\|^2 = (Y - R\\,f)^\\top (Y - R\\,f)\n",
        "$$\n",
        "\n",
        "To minimize the loss, we take the derivative with respect to the weight matrix $f$ and set it equal to zero:\n",
        "$$\n",
        "\\frac{\\partial \\mathcal{L}}{\\partial f} = -2\\,R^\\top (Y - R\\,f) = 0\n",
        "$$\n",
        "\n",
        "This implies:\n",
        "$$\n",
        "R^\\top Y = R^\\top R\\,f\n",
        "$$\n",
        "\n",
        "Assuming that $R^\\top R$ is invertible, we solve for $f$:\n",
        "$$\n",
        "f = \\left(R^\\top R\\right)^{-1} R^\\top Y\n",
        "$$\n",
        "\n",
        "This is the the analytic form for the optimal filter $f$ that minimizes the MSE loss.\n",
        "\n",
        "This equation should take a familiar form. Warland et al., 1997 don’t refer to it as such, but this is exactly the same as linear regression, one of the most commonly used algorithms in practical machine learning. Not only is this algorithm remarkably powerful, but it has a beautiful analytic form for learning the “weights” (here, the $f$ matrix), a rarity in a field where almost all optimizations involve some sort of iterative algorithm. After learning the filter weights $f$, we can calculate the optimal predictions as: $$\\hat{Y} = Rf$$"
      ]
    },
    {
      "cell_type": "markdown",
      "metadata": {
        "id": "n0Nbsp0F1V_6"
      },
      "source": [
        "## Dataset\n",
        "The dataset for part 1 is stored within `final_proj_part1_data.pkl`. The `.pkl` file type is a pickle file, which stores python objects. You can open the `.pkl` file with this code.\n",
        "```\n",
        "with open('final_proj_part1_data.pkl', 'rb') as f:\n",
        "  proj_data = pickle.load(f)\n",
        "```\n",
        "This stores the data inside the file as a variable named proj_data.\n",
        "\n",
        "**NOTE: Python versions don't pickle with each other very well. This pickle file was made in Google Colab. If you are running your own installation of Python and cannot load the file, we recommend you use Colab**\n",
        "\n",
        "There are 3 subjects, each with their own Data Glove data (the glove they used to capture hand movements), and ECoG data. The data is represented as a dictionary with keys `'data_glove'` and `'ecog'`, storing the data glove and ecog data, respectively. These keys map to python lists of 3 items. Each item is an np.ndarray corresponding to a subject's data. See the pseudcode below.\n",
        "\n",
        "```\n",
        "proj_data = {\n",
        "  'data_glove':[np.ndarray for subject 1, np.ndarray for subject 2, np.ndarray for subject 3],\n",
        "  'ecog':[np.ndarray for subject 1, np.ndarray for subject 2, np.ndarray for subject 3]\n",
        "}\n",
        "```\n",
        "\n",
        "All np.ndarray shapes for `'data_glove'` should be $(T,5)$, where $T$ is the number of samples in the signal, and 5 is the number of fingers.\n",
        "\n",
        "The np.ndarray shapes for `'ecog'` are $(T, 61)$, $(T, 46)$, and $(T,64)$, where T is the number of samples in the signal, and each subject had 61, 46, and 64 ecog channels, respectively.\n",
        "\n",
        "**The sampling rate of the data glove and ecog was 1000 Hz**\n",
        "\n",
        "<!-- The dataset is also on IEEG\n",
        "* Subject 1\n",
        " * I521_Sub1_Training_ecog - Training ECoG \\\n",
        " * I521_Sub1_Training_dg - Training Data Glove \\\n",
        " * I521_Sub1_Leaderboard_ecog - Testing ECoG\n",
        "* Subject 2\n",
        " * I521_Sub2_Training_ecog - Training ECoG \\\n",
        " * I521_Sub2_Training_dg - Training Data Glove \\\n",
        " * I521_Sub2_Leaderboard_ecog - Testing ECoG\n",
        "* Subject 3\n",
        " * I521_Sub3_Training_ecog - Training ECoG \\\n",
        " * I521_Sub3_Training_dg - Training Data Glove \\\n",
        " * I521_Sub3_Leaderboard_ecog - Testing ECoG -->\n",
        "\n",
        "Your task is to develop an algorithm to use the ECoG to predict finger movements that are captured by the Data Glove."
      ]
    },
    {
      "cell_type": "code",
      "execution_count": 4,
      "metadata": {
        "ExecuteTime": {
          "end_time": "2025-03-24T22:12:01.882195Z",
          "start_time": "2025-03-24T22:12:01.879651Z"
        },
        "id": "8w4AGrXqUt5Q"
      },
      "outputs": [],
      "source": [
        "import scipy.io as sio\n",
        "import matplotlib.pyplot as plt\n",
        "import numpy as np\n",
        "import pandas as pd\n",
        "import pickle\n",
        "from scipy.stats import pearsonr\n",
        "from scipy import signal as sig"
      ]
    },
    {
      "cell_type": "code",
      "execution_count": 5,
      "metadata": {},
      "outputs": [],
      "source": [
        "train_file = 'raw_training_data.mat' # file path\n",
        "test_file = 'leaderboard_data.mat'\n",
        "\n",
        "# load training data\n",
        "train_data = sio.loadmat(train_file) # returns dict with keys and values as numpy arrays\n",
        "ecog = train_data['train_ecog']\n",
        "data_glove = train_data['train_dg']\n",
        "\n",
        "# leaderboard testing data\n",
        "test_data = sio.loadmat(test_file)\n",
        "leaderboard_ecog = test_data['leaderboard_ecog']"
      ]
    },
    {
      "cell_type": "code",
      "execution_count": 6,
      "metadata": {},
      "outputs": [],
      "source": [
        "train_ecog = []\n",
        "test_ecog = []\n",
        "train_glove = []\n",
        "test_glove = []\n",
        "\n",
        "train_len = int(0.8*len(ecog[0][0]))\n",
        "\n",
        "for subject_idx in range(3):\n",
        "    ecog_data = ecog[subject_idx]\n",
        "    glove_data = data_glove[subject_idx]\n",
        "    train_ecog.append(ecog_data[0][:train_len])\n",
        "    test_ecog.append(ecog_data[0][train_len:])\n",
        "    train_glove.append(glove_data[0][:train_len])\n",
        "    test_glove.append(glove_data[0][train_len:])"
      ]
    },
    {
      "cell_type": "code",
      "execution_count": 7,
      "metadata": {
        "ExecuteTime": {
          "end_time": "2025-03-24T22:12:01.921163Z",
          "start_time": "2025-03-24T22:12:01.915534Z"
        },
        "id": "CqfertGZGuYQ"
      },
      "outputs": [],
      "source": [
        "def filter_data(raw_eeg, fs=1000):\n",
        "  \"\"\"\n",
        "  Write a filter function to clean underlying data.\n",
        "  Filter type and parameters are up to you. Points will be awarded for reasonable filter type, parameters and application.\n",
        "  Please note there are many acceptable answers, but make sure you aren't throwing out crucial data or adversly\n",
        "  distorting the underlying data!\n",
        "\n",
        "  Input:\n",
        "    raw_eeg (samples x channels): the raw signal\n",
        "    fs: the sampling rate (1000 for this dataset)\n",
        "  Output:\n",
        "    clean_data (samples x channels): the filtered signal\n",
        "  \"\"\"\n",
        "  def notch_filter(data, freq, fs, Q=30):\n",
        "      \"\"\"Apply a notch filter at a specific frequency.\"\"\"\n",
        "      b, a = sig.iirnotch(w0=freq/(fs/2), Q=Q)\n",
        "      return sig.filtfilt(b, a, data, axis=0)\n",
        "\n",
        "  def bandpass_filter(data, lowcut, highcut, fs, order=4):\n",
        "      \"\"\"Apply a Butterworth bandpass filter.\"\"\"\n",
        "      nyq = 0.5 * fs\n",
        "      low = lowcut / nyq\n",
        "      high = highcut / nyq\n",
        "      b, a = sig.butter(order, [low, high], btype='band')\n",
        "      return sig.filtfilt(b, a, data, axis=0)\n",
        "\n",
        "    # Apply notch filters at 60 Hz harmonics (up to 300 Hz)\n",
        "  filtered = raw_eeg.copy()\n",
        "  for freq in [60, 120, 180, 240, 300]:\n",
        "      filtered = notch_filter(filtered, freq, fs)\n",
        "\n",
        "    # Apply bandpass filter (default 1–200 Hz)\n",
        "  clean_data = bandpass_filter(filtered, lowcut=1, highcut=200, fs=fs)\n",
        "\n",
        "  return clean_data"
      ]
    },
    {
      "cell_type": "code",
      "execution_count": 8,
      "metadata": {
        "ExecuteTime": {
          "end_time": "2025-03-24T22:12:01.925861Z",
          "start_time": "2025-03-24T22:12:01.921163Z"
        },
        "id": "iPc2lya7_7Af"
      },
      "outputs": [],
      "source": [
        "#Your code here\n",
        "train_ecog_0 = train_ecog[0][0]"
      ]
    },
    {
      "cell_type": "code",
      "execution_count": 9,
      "metadata": {},
      "outputs": [
        {
          "data": {
            "text/plain": [
              "array([ 1888,  -915,   260,  -600,  -723,  -746,   825,  1925,  3013,\n",
              "       -2395, -1195, -1129,   776,   567,  1906,   941, -1909,  1785,\n",
              "        2219,   871,   230,  -600,  2919,  1129,  -956,  1911,   442,\n",
              "       -1527,  -226,  1150,  -129,  1301,  -785,  -933,  -160,   141,\n",
              "        2327,  1556,  -174,     8,   619,  -125,   128, -1932,   920,\n",
              "         423,    98,    -7,   884,   440,   234,  -442,   652,  2631,\n",
              "         550,  1812,   686,   717,   467,  1699, -1043, -2160,  1388,\n",
              "        -335], dtype=int32)"
            ]
          },
          "execution_count": 9,
          "metadata": {},
          "output_type": "execute_result"
        }
      ],
      "source": [
        "train_ecog[2][0]"
      ]
    },
    {
      "cell_type": "code",
      "execution_count": 10,
      "metadata": {},
      "outputs": [],
      "source": [
        "filtered_0 = filter_data(train_ecog[0][0])"
      ]
    },
    {
      "cell_type": "code",
      "execution_count": 11,
      "metadata": {},
      "outputs": [
        {
          "data": {
            "text/plain": [
              "array([  612, -1490,  -996,  -678,  1346,   504,   940,  -977,  2456,\n",
              "        -334,  3114,   528,  -930,   439,  1203,   379,   190,   617,\n",
              "         748,  2762, -1650,  -326, -2523,  1398, -2233, -1023,  -721,\n",
              "       -2708,   -92,  3271,   991,   484,  2720,  4723,   417,  -307,\n",
              "         823,  2762, -1673, -3079, -2541, -1259,   473,  -937, -4102,\n",
              "         971, -1402,  1631,  3424, -1880,  1360,   704, -2611, -2691,\n",
              "        -780, -3169,   211,  -921,  1142,   205,  1046,  -214],\n",
              "      dtype=int32)"
            ]
          },
          "execution_count": 11,
          "metadata": {},
          "output_type": "execute_result"
        }
      ],
      "source": [
        "train_ecog_0"
      ]
    },
    {
      "cell_type": "code",
      "execution_count": 12,
      "metadata": {},
      "outputs": [
        {
          "data": {
            "text/plain": [
              "<matplotlib.legend.Legend at 0x2a0595e80>"
            ]
          },
          "execution_count": 12,
          "metadata": {},
          "output_type": "execute_result"
        },
        {
          "data": {
            "image/png": "[encoded data removed]",
            "text/plain": [
              "<Figure size 1500x600 with 1 Axes>"
            ]
          },
          "metadata": {},
          "output_type": "display_data"
        }
      ],
      "source": [
        "plt.figure(figsize=(15, 6))\n",
        "plt.plot(train_ecog_0, label='Raw Channel 0', alpha=0.5)\n",
        "plt.plot(filtered_0, label='Filtered Channel 0', linewidth=1)\n",
        "plt.title('Comparison of Raw vs Filtered ECoG Signal (Channel 0)')\n",
        "plt.xlabel('Sample')\n",
        "plt.ylabel('Amplitude')\n",
        "plt.legend()"
      ]
    },
    {
      "cell_type": "markdown",
      "metadata": {},
      "source": [
        "I used a filter frequency of 1-200 Hz for the bandpass filter and a notch filter at 60Hz harmonics up to 300 Hz."
      ]
    },
    {
      "cell_type": "markdown",
      "metadata": {
        "id": "v1ZfISDvuuzI"
      },
      "source": [
        "# 2. Calculating Features (12 points)\n",
        "\n",
        "Here you will complete the `get_windowed_feats` and `get_features` functions."
      ]
    },
    {
      "cell_type": "markdown",
      "metadata": {
        "id": "qL3CMDPovL3l"
      },
      "source": [
        "## 1.\n",
        "We will calculate features across sliding time windows. if we use a suggested window length of 100ms with a 50ms window overlap, how many feature windows, $M$, will we have if we computed features using all the data in a given subject? Feel free to re-use code from previous homeworks."
      ]
    },
    {
      "cell_type": "code",
      "execution_count": 13,
      "metadata": {},
      "outputs": [],
      "source": [
        "fs = 1000\n",
        "xLen = len(train_ecog[0])"
      ]
    },
    {
      "cell_type": "code",
      "execution_count": 14,
      "metadata": {
        "ExecuteTime": {
          "end_time": "2025-03-24T22:12:01.937092Z",
          "start_time": "2025-03-24T22:12:01.934644Z"
        },
        "id": "Gc5y0fcb__N3"
      },
      "outputs": [],
      "source": [
        "#Your code here\n",
        "winLen= 0.1\n",
        "winDisp = 0.05\n",
        "\n",
        "def NumWins(xLen, fs, winLen, winDisp):\n",
        "  winLen = winLen * fs\n",
        "  winDisp = winDisp * fs\n",
        "  return int((xLen - winLen) // winDisp + 1)"
      ]
    },
    {
      "cell_type": "code",
      "execution_count": 15,
      "metadata": {},
      "outputs": [
        {
          "data": {
            "text/plain": [
              "4799"
            ]
          },
          "execution_count": 15,
          "metadata": {},
          "output_type": "execute_result"
        }
      ],
      "source": [
        "NumWins(xLen, fs, winLen, winDisp)"
      ]
    },
    {
      "cell_type": "code",
      "execution_count": 16,
      "metadata": {},
      "outputs": [],
      "source": [
        "def moving_win_feats(x, fs, winLen, winDisp, featFn):\n",
        "  numWins = NumWins(len(x), fs, winLen, winDisp)\n",
        "  winLen = winLen * fs\n",
        "  winDisp = winDisp * fs\n",
        "  feature_values = np.zeros(int(numWins))\n",
        "  for i in range(int(numWins)):\n",
        "    start = int(i * winDisp)\n",
        "    end = int(start + winLen)\n",
        "    feature_values[i] = featFn(x[start:end])\n",
        "  return feature_values"
      ]
    },
    {
      "cell_type": "code",
      "execution_count": 17,
      "metadata": {
        "ExecuteTime": {
          "end_time": "2025-03-24T22:12:01.969410Z",
          "start_time": "2025-03-24T22:12:01.967096Z"
        },
        "id": "yawiKb_ov4Ko"
      },
      "outputs": [],
      "source": [
        "from scipy.stats import skew, kurtosis\n",
        "def bandpower(data, fs, fmin, fmax):\n",
        "      f, Pxx = sig.welch(data, fs=fs, nperseg=min(256, len(data)), nfft=1024)\n",
        "      band = (f >= fmin) & (f <= fmax)\n",
        "      return np.trapz(Pxx[band], f[band])\n",
        "\n",
        "def get_features(filtered_window, fs=1000):\n",
        "  \"\"\"\n",
        "    Write a function that calculates features for a given filtered window.\n",
        "    Feel free to use features you have seen before in this class, features that\n",
        "    have been used in the literature, or design your own!\n",
        "\n",
        "    Input:\n",
        "      filtered_window (window_samples x channels): the window of the filtered ecog signal\n",
        "      fs: sampling rate\n",
        "    Output:\n",
        "      features (channels x num_features): the features calculated on each channel for the window\n",
        "  \"\"\"\n",
        "  \n",
        "  window_samples, num_channels = filtered_window.shape\n",
        "  num_features = 6\n",
        "  features = np.zeros((num_channels, num_features))\n",
        "\n",
        "  for ch in range(num_channels):\n",
        "      signal = filtered_window[:, ch]\n",
        "      features[ch, 0] = np.mean(signal)                        # average\n",
        "      # commented out a couple of features because I wanted to keep it the same as the paper for now but will uncomment out for the future trials\n",
        "      # features[ch, 1] = np.std(signal)                         # STD\n",
        "      # features[ch, 2] = skew(signal)                           # Skewness\n",
        "      # features[ch, 3] = kurtosis(signal)                       # Kurtosis\n",
        "      features[ch, 1] = bandpower(signal, fs, 5, 15)           # Mu band\n",
        "      features[ch, 2] = bandpower(signal, fs, 20, 25)          # Beta band\n",
        "      features[ch, 3] = bandpower(signal, fs, 75, 115)         # High gamma\n",
        "      features[ch, 4] = bandpower(signal, fs, 125, 160)        # Upper high gamma\n",
        "      features[ch, 5] = bandpower(signal, fs, 160, 175)\n",
        "  return features"
      ]
    },
    {
      "cell_type": "code",
      "execution_count": 18,
      "metadata": {
        "ExecuteTime": {
          "end_time": "2025-03-24T22:12:01.982330Z",
          "start_time": "2025-03-24T22:12:01.979405Z"
        },
        "id": "STXDXJz27qZA"
      },
      "outputs": [],
      "source": [
        "def get_windowed_feats(raw_ecog, fs, window_length, window_overlap):\n",
        "  \"\"\"\n",
        "    Write a function which processes data through the steps of filtering and\n",
        "    feature calculation and returns features. Points will be awarded for completing\n",
        "    each step appropriately (note that if one of the functions you call within this script\n",
        "    returns a bad output, you won't be double penalized). Note that you will need\n",
        "    to run the filter_data and get_features functions within this function.\n",
        "\n",
        "    Inputs:\n",
        "      raw_eeg (samples x channels): the raw signal\n",
        "      fs: the sampling rate (1000 for this dataset)\n",
        "      window_length: in seconds\n",
        "      window_overlap: in seconds\n",
        "    Output:\n",
        "      all_feats (num_windows x (channels x features)): the features for each channel for each time window\n",
        "        note that this is a 2D array.\n",
        "  \"\"\"\n",
        "  filtered = filter_data(raw_ecog, fs)\n",
        "\n",
        "  window_length = int(window_length * fs)\n",
        "  window_overlap = int(window_overlap * fs)\n",
        "\n",
        "  step = window_length - window_overlap\n",
        "  num_samples, _ = filtered.shape\n",
        "  starts = np.arange(0, num_samples - window_length + 1, step)\n",
        "\n",
        "  all_feats = []\n",
        "\n",
        "  for start in starts:\n",
        "      end = start + window_length\n",
        "      window = filtered[start:end, :]\n",
        "      feats = get_features(window, fs)\n",
        "      all_feats.append(feats.flatten())\n",
        "\n",
        "  return np.array(all_feats)"
      ]
    },
    {
      "cell_type": "code",
      "execution_count": 19,
      "metadata": {
        "ExecuteTime": {
          "end_time": "2025-03-24T22:12:01.986859Z",
          "start_time": "2025-03-24T22:12:01.983328Z"
        },
        "id": "sERDgCJaAdWs"
      },
      "outputs": [
        {
          "name": "stdout",
          "output_type": "stream",
          "text": [
            "1117\n"
          ]
        }
      ],
      "source": [
        "#Your code here\n",
        "Num_columns = 62 * 6 * 3 + 1\n",
        "print(Num_columns)"
      ]
    },
    {
      "cell_type": "markdown",
      "metadata": {
        "id": "PYccl9qBAdZr"
      },
      "source": [
        "The size of our matrix would be 5999 x 1117. "
      ]
    },
    {
      "cell_type": "code",
      "execution_count": 20,
      "metadata": {
        "ExecuteTime": {
          "end_time": "2025-03-24T22:12:01.992334Z",
          "start_time": "2025-03-24T22:12:01.986859Z"
        },
        "id": "B78sAA7p4Pr6"
      },
      "outputs": [],
      "source": [
        "def create_R_matrix(features, N_wind):\n",
        "  \"\"\"\n",
        "  Write a function to calculate the R matrix\n",
        "\n",
        "  Input:\n",
        "    features (num_windows x (channels x features)):\n",
        "      the features you calculated using get_windowed_feats\n",
        "    N_wind: number of windows to use in the R matrix\n",
        "\n",
        "  Output:\n",
        "    R (samples x (N_wind*channels*features))\n",
        "  \"\"\"\n",
        "  M, D = features.shape\n",
        "\n",
        "  padding = np.repeat(features[[0]], repeats=N_wind - 1, axis=0)  # shape: (N-1, D)\n",
        "  padded_feats = np.vstack((padding, features))  # shape: (M + N - 1, D)\n",
        "\n",
        "  R = np.zeros((M, N_wind * D))\n",
        "\n",
        "  for i in range(M):\n",
        "      window = padded_feats[i:i + N_wind, :]\n",
        "      R[i, :] = window.flatten(order='C')\n",
        "  bias = np.ones((M, 1))\n",
        "  R = np.hstack((bias, R))\n",
        "  return R"
      ]
    },
    {
      "cell_type": "code",
      "execution_count": 21,
      "metadata": {},
      "outputs": [
        {
          "data": {
            "text/plain": [
              "array([[  612, -1490,  -996, ...,   205,  1046,  -214],\n",
              "       [  814, -1367,  -649, ...,   399,  1241,   -71],\n",
              "       [ 1111, -1182,  -318, ...,   642,  1459,    64],\n",
              "       ...,\n",
              "       [  803,   845,  -998, ...,  2462,  1948,  -142],\n",
              "       [  828,   706, -1034, ...,  2443,  2039,    36],\n",
              "       [ 1038,   646, -1001, ...,  2554,  2146,   450]],\n",
              "      shape=(240000, 62), dtype=int32)"
            ]
          },
          "execution_count": 21,
          "metadata": {},
          "output_type": "execute_result"
        }
      ],
      "source": [
        "train_ecog[0]"
      ]
    },
    {
      "cell_type": "code",
      "execution_count": 22,
      "metadata": {},
      "outputs": [],
      "source": [
        "train_ecog = train_ecog"
      ]
    },
    {
      "cell_type": "code",
      "execution_count": 23,
      "metadata": {},
      "outputs": [],
      "source": [
        "test_ecog = test_ecog"
      ]
    },
    {
      "cell_type": "code",
      "execution_count": 24,
      "metadata": {
        "ExecuteTime": {
          "end_time": "2025-03-24T22:12:02.005855Z",
          "start_time": "2025-03-24T22:12:01.997296Z"
        },
        "id": "VAIHnBsMAmd0"
      },
      "outputs": [],
      "source": [
        "#Your code here\n",
        "def compute_linear_filter(R, finger_flexion_raw, original_fs=1000, window_step=50):\n",
        "\n",
        "    M = R.shape[0]\n",
        "    T = finger_flexion_raw.shape[0]\n",
        "    Y = sig.resample(finger_flexion_raw, len(R))\n",
        "\n",
        "    alpha = 0\n",
        "    RTR = R.T @ R + alpha * np.eye(R.shape[1])\n",
        "    return np.linalg.inv(RTR) @ (R.T @ Y)"
      ]
    },
    {
      "cell_type": "code",
      "execution_count": 25,
      "metadata": {},
      "outputs": [
        {
          "name": "stderr",
          "output_type": "stream",
          "text": [
            "/var/folders/fq/t46mbxyj54j1d9t60j44v_j80000gn/T/ipykernel_35093/3204606161.py:5: DeprecationWarning: `trapz` is deprecated. Use `trapezoid` instead, or one of the numerical integration functions in `scipy.integrate`.\n",
            "  return np.trapz(Pxx[band], f[band])\n"
          ]
        }
      ],
      "source": [
        "train_feats_1 = [get_windowed_feats(train_ecog_thing, fs=1000, window_length=0.1, window_overlap=0.05) for train_ecog_thing in train_ecog]\n",
        "test_feats_2 = [get_windowed_feats(test_ecog_thing, fs=1000, window_length=0.1, window_overlap=0.05) for test_ecog_thing in test_ecog]\n",
        "    "
      ]
    },
    {
      "cell_type": "code",
      "execution_count": 26,
      "metadata": {},
      "outputs": [],
      "source": [
        "# test ecog r matrix\n",
        "R_train = [create_R_matrix(train_feats_thing, N_wind=3) for train_feats_thing in train_feats_1]\n",
        "R_test = [create_R_matrix(test_feats_thing, N_wind=3) for test_feats_thing in test_feats_2]"
      ]
    },
    {
      "cell_type": "code",
      "execution_count": 27,
      "metadata": {},
      "outputs": [
        {
          "data": {
            "text/plain": [
              "array([[ 1.00000000e+00, -1.53937304e+03,  8.21380044e+05, ...,\n",
              "         4.98260809e+04,  2.08469215e+03,  2.37062320e+02],\n",
              "       [ 1.00000000e+00, -1.53937304e+03,  8.21380044e+05, ...,\n",
              "         1.34536203e+05,  6.62685424e+03,  1.22717247e+03],\n",
              "       [ 1.00000000e+00, -1.53937304e+03,  8.21380044e+05, ...,\n",
              "         1.10030791e+04,  1.23692031e+03,  1.04805364e+02],\n",
              "       ...,\n",
              "       [ 1.00000000e+00,  9.32495615e+02,  6.96643655e+05, ...,\n",
              "         5.41933922e+04,  4.92034764e+03,  3.27958144e+02],\n",
              "       [ 1.00000000e+00,  2.59494267e+03,  1.26186349e+06, ...,\n",
              "         3.78902539e+04,  6.35052573e+03,  4.86639613e+02],\n",
              "       [ 1.00000000e+00,  1.88911968e+02,  8.94261071e+05, ...,\n",
              "         2.81813299e+04,  6.47496745e+02,  2.66376028e+02]],\n",
              "      shape=(4799, 1117))"
            ]
          },
          "execution_count": 27,
          "metadata": {},
          "output_type": "execute_result"
        }
      ],
      "source": [
        "R_train[0]"
      ]
    },
    {
      "cell_type": "code",
      "execution_count": 28,
      "metadata": {},
      "outputs": [],
      "source": [
        "f = [compute_linear_filter(R_train_thing, train_glove_thing) for R_train_thing, train_glove_thing in zip(R_train, train_glove)]"
      ]
    },
    {
      "cell_type": "markdown",
      "metadata": {
        "id": "joHhIH8YwH5O"
      },
      "source": [
        "## 2.\n",
        "Try one other machine learning models using your features and finger angle labels. Look back through previous homeworks to get some ideas"
      ]
    },
    {
      "cell_type": "markdown",
      "metadata": {},
      "source": [
        "Ridge Regression"
      ]
    },
    {
      "cell_type": "code",
      "execution_count": 29,
      "metadata": {
        "ExecuteTime": {
          "end_time": "2025-03-24T22:12:02.011765Z",
          "start_time": "2025-03-24T22:12:02.006853Z"
        },
        "id": "c3ZKwmsCwOSC"
      },
      "outputs": [],
      "source": [
        "#your code here\n",
        "from sklearn.linear_model import Ridge\n",
        "\n",
        "def train_ridge_model(R, Y, alpha=1.0):\n",
        "    model = Ridge(alpha=alpha)\n",
        "    model.fit(R, Y)\n",
        "    return model"
      ]
    },
    {
      "cell_type": "markdown",
      "metadata": {},
      "source": [
        "Random Forest Regressor"
      ]
    },
    {
      "cell_type": "code",
      "execution_count": 30,
      "metadata": {},
      "outputs": [],
      "source": [
        "from sklearn.ensemble import RandomForestRegressor\n",
        "\n",
        "def train_rf_model(R, Y):\n",
        "    model = RandomForestRegressor(n_estimators=100, max_depth=10, random_state=42)\n",
        "    model.fit(R, Y)\n",
        "    return model\n"
      ]
    },
    {
      "cell_type": "markdown",
      "metadata": {},
      "source": [
        "Multi-layer perceptron"
      ]
    },
    {
      "cell_type": "code",
      "execution_count": 31,
      "metadata": {},
      "outputs": [],
      "source": [
        "from sklearn.neural_network import MLPRegressor\n",
        "\n",
        "def train_mlp_model(R, Y):\n",
        "    model = MLPRegressor(hidden_layer_sizes=(128, 64), activation='relu',\n",
        "                         solver='adam', max_iter=500, random_state=42)\n",
        "    model.fit(R, Y)\n",
        "    return model"
      ]
    },
    {
      "cell_type": "markdown",
      "metadata": {
        "id": "iDqxnI-zvVN1"
      },
      "source": [
        "## 3.\n",
        "Produce predictions on the testing set for each finger angle.\n",
        "\n",
        "Report your correlations here using the linear filter, and when using the other model(s) that you tried, as follows:\n",
        "\n",
        "> For each subject, calculate the correlation coefficient between the predicted and test finger angles for each finger separately.\n",
        "\n",
        "> You therefore should have 15 correlations: five per subject, with three subjects.\n",
        "\n",
        "You will find  [pearsonr](https://docs.scipy.org/doc/scipy/reference/generated/scipy.stats.pearsonr.html) to be helpful and already imported."
      ]
    },
    {
      "cell_type": "code",
      "execution_count": 32,
      "metadata": {},
      "outputs": [
        {
          "data": {
            "text/plain": [
              "array([[ 1.00000000e+00, -8.68735103e+02,  1.61426597e+05, ...,\n",
              "         2.39769768e+04,  1.01962158e+03,  1.04673156e+03],\n",
              "       [ 1.00000000e+00, -8.68735103e+02,  1.61426597e+05, ...,\n",
              "         3.60743780e+04,  4.06327923e+03,  1.98274407e+02],\n",
              "       [ 1.00000000e+00, -8.68735103e+02,  1.61426597e+05, ...,\n",
              "         4.98071558e+04,  2.41475242e+03,  4.13035742e+02],\n",
              "       ...,\n",
              "       [ 1.00000000e+00,  1.13040414e+03,  1.21826837e+06, ...,\n",
              "         1.55022694e+04,  1.75086120e+03,  3.57134596e+02],\n",
              "       [ 1.00000000e+00,  1.19604942e+02,  9.04437719e+04, ...,\n",
              "         1.07488671e+04,  3.27297839e+03,  3.12071365e+02],\n",
              "       [ 1.00000000e+00, -3.69065640e+02,  1.74054634e+06, ...,\n",
              "         2.11983655e+04,  1.19186963e+03,  6.60259306e+01]],\n",
              "      shape=(1199, 1117))"
            ]
          },
          "execution_count": 32,
          "metadata": {},
          "output_type": "execute_result"
        }
      ],
      "source": [
        "R_test[0]"
      ]
    },
    {
      "cell_type": "code",
      "execution_count": 33,
      "metadata": {},
      "outputs": [
        {
          "data": {
            "text/plain": [
              "array([[-1.55525231e-01, -1.78121121e-01,  1.57537929e-01,\n",
              "        -4.00798991e-01, -4.23502009e-01],\n",
              "       [-6.56835193e-05,  7.31426699e-05,  7.86627244e-05,\n",
              "         7.70685442e-06, -1.21451993e-05],\n",
              "       [-4.88882833e-08,  1.05930788e-07,  1.43214920e-07,\n",
              "         3.52799704e-09, -4.26493728e-08],\n",
              "       ...,\n",
              "       [ 1.36887329e-06, -8.79661863e-08, -1.30757562e-06,\n",
              "         1.18787257e-06,  1.50106945e-06],\n",
              "       [ 2.84918626e-06, -9.60589285e-06, -8.70543058e-06,\n",
              "        -1.38168740e-06, -3.28272488e-06],\n",
              "       [-3.49285502e-05,  4.00685679e-05,  6.22632591e-05,\n",
              "         2.04332348e-05, -1.90183290e-05]], shape=(1117, 5))"
            ]
          },
          "execution_count": 33,
          "metadata": {},
          "output_type": "execute_result"
        }
      ],
      "source": [
        "f[0]"
      ]
    },
    {
      "cell_type": "code",
      "execution_count": 34,
      "metadata": {},
      "outputs": [
        {
          "data": {
            "text/plain": [
              "array([[ 1.20781857,  0.10366324,  0.88204698, -0.18055179, -0.1756931 ],\n",
              "       [ 1.1155405 ,  0.30926899,  1.02664012,  0.22421409,  0.08267142],\n",
              "       [ 0.70110762, -0.15862184, -0.23199374, -0.17211381, -0.17125933],\n",
              "       ...,\n",
              "       [-0.33455805, -0.15640174,  1.21882785, -0.40785141, -1.18938136],\n",
              "       [ 0.17503925, -0.73276373,  0.90861255, -0.59114404, -1.50544398],\n",
              "       [ 0.48268757,  0.18865125, -0.03904754, -1.03035425, -0.47835258]],\n",
              "      shape=(1199, 5))"
            ]
          },
          "execution_count": 34,
          "metadata": {},
          "output_type": "execute_result"
        }
      ],
      "source": [
        "R_test[0] @ f[0]"
      ]
    },
    {
      "cell_type": "code",
      "execution_count": 35,
      "metadata": {},
      "outputs": [
        {
          "data": {
            "text/plain": [
              "array([[ 3.81389046, -0.24837303, -0.23643494, -0.27740097,  0.46798992],\n",
              "       [ 3.81389046, -0.24837303, -0.23643494, -0.27740097,  0.46798992],\n",
              "       [ 3.81389046, -0.24837303, -0.23643494, -0.27740097,  0.46798992],\n",
              "       ...,\n",
              "       [ 2.0240593 , -0.35267067, -0.19278526, -0.19677258, -0.27182388],\n",
              "       [ 2.00303459, -0.35165787, -0.19276047, -0.19695473, -0.27204323],\n",
              "       [ 1.98193359, -0.3506403 , -0.19273472, -0.19713593, -0.27226353]],\n",
              "      shape=(60000, 5))"
            ]
          },
          "execution_count": 35,
          "metadata": {},
          "output_type": "execute_result"
        }
      ],
      "source": [
        "test_glove[0]"
      ]
    },
    {
      "cell_type": "code",
      "execution_count": 36,
      "metadata": {},
      "outputs": [],
      "source": [
        "fingers = np.array([0, 1, 2, 4])"
      ]
    },
    {
      "cell_type": "code",
      "execution_count": 37,
      "metadata": {
        "ExecuteTime": {
          "end_time": "2025-03-24T22:12:02.017165Z",
          "start_time": "2025-03-24T22:12:02.012761Z"
        },
        "id": "IbyHoKlxAsL1"
      },
      "outputs": [
        {
          "name": "stdout",
          "output_type": "stream",
          "text": [
            "1199\n",
            "\n",
            "Subject 1 finger correlations:\n",
            "Finger 1: 0.432\n",
            "Finger 2: 0.533\n",
            "Finger 3: 0.129\n",
            "Finger 4: 0.457\n",
            "Finger 5: -0.048\n",
            "1199\n",
            "\n",
            "Subject 2 finger correlations:\n",
            "Finger 1: 0.348\n",
            "Finger 2: 0.260\n",
            "Finger 3: 0.155\n",
            "Finger 4: 0.495\n",
            "Finger 5: 0.201\n",
            "1199\n",
            "\n",
            "Subject 3 finger correlations:\n",
            "Finger 1: 0.535\n",
            "Finger 2: 0.373\n",
            "Finger 3: 0.500\n",
            "Finger 4: 0.513\n",
            "Finger 5: 0.455\n",
            "\n",
            "Average correlation across all subjects and fingers: 0.356\n",
            "\n",
            "Average correlation without 4th finger: 0.323\n"
          ]
        }
      ],
      "source": [
        "#Your code here\n",
        "# this is the first part for the method described in the paper\n",
        "correlations = []\n",
        "\n",
        "for subject_idx in range(3):\n",
        "    R_test_subject = R_test[subject_idx]\n",
        "    test_glove_subject = test_glove[subject_idx]\n",
        "\n",
        "    downsampled_glove = sig.resample(test_glove_subject, len(R_test_subject))\n",
        "    print(len(downsampled_glove))\n",
        "    Y_pred =  R_test_subject @ f[subject_idx]\n",
        "    \n",
        "    finger_correlations = []\n",
        "    for finger_idx in range(5):\n",
        "        r, _ = pearsonr(Y_pred[:, finger_idx], downsampled_glove[:, finger_idx])\n",
        "        finger_correlations.append(r)\n",
        "    \n",
        "    correlations.append(finger_correlations)\n",
        "    print(f\"\\nSubject {subject_idx + 1} finger correlations:\")\n",
        "    for finger, r in enumerate(finger_correlations):\n",
        "        print(f\"Finger {finger + 1}: {r:.3f}\")\n",
        "\n",
        "correlations_np = np.array(correlations)\n",
        "avg_wout_4th_finger = np.mean(correlations_np[:, fingers])\n",
        "avg_correlation = np.mean(correlations_np)\n",
        "print(f\"\\nAverage correlation across all subjects and fingers: {avg_correlation:.3f}\")\n",
        "print(f\"\\nAverage correlation without 4th finger: {avg_wout_4th_finger:.3f}\")"
      ]
    },
    {
      "cell_type": "markdown",
      "metadata": {},
      "source": [
        "Using the linear filter model described in the paper, the average correlation that I got was 0.356 (I did a training, test split of 80, 20). This is not the worst, but I will try to do a bit better using the other models that I had above. "
      ]
    },
    {
      "cell_type": "code",
      "execution_count": 38,
      "metadata": {},
      "outputs": [
        {
          "data": {
            "text/plain": [
              "array([[ 1.00000000e+00, -1.53937304e+03,  8.21380044e+05, ...,\n",
              "         4.98260809e+04,  2.08469215e+03,  2.37062320e+02],\n",
              "       [ 1.00000000e+00, -1.53937304e+03,  8.21380044e+05, ...,\n",
              "         1.34536203e+05,  6.62685424e+03,  1.22717247e+03],\n",
              "       [ 1.00000000e+00, -1.53937304e+03,  8.21380044e+05, ...,\n",
              "         1.10030791e+04,  1.23692031e+03,  1.04805364e+02],\n",
              "       ...,\n",
              "       [ 1.00000000e+00,  9.32495615e+02,  6.96643655e+05, ...,\n",
              "         5.41933922e+04,  4.92034764e+03,  3.27958144e+02],\n",
              "       [ 1.00000000e+00,  2.59494267e+03,  1.26186349e+06, ...,\n",
              "         3.78902539e+04,  6.35052573e+03,  4.86639613e+02],\n",
              "       [ 1.00000000e+00,  1.88911968e+02,  8.94261071e+05, ...,\n",
              "         2.81813299e+04,  6.47496745e+02,  2.66376028e+02]],\n",
              "      shape=(4799, 1117))"
            ]
          },
          "execution_count": 38,
          "metadata": {},
          "output_type": "execute_result"
        }
      ],
      "source": [
        "R_train[0]"
      ]
    },
    {
      "cell_type": "code",
      "execution_count": 39,
      "metadata": {},
      "outputs": [
        {
          "data": {
            "text/plain": [
              "array([[-0.11974525, -0.36549759, -0.73717308, -0.51092148, -0.71658897],\n",
              "       [-0.11974525, -0.36549759, -0.73717308, -0.51092148, -0.71658897],\n",
              "       [-0.11974525, -0.36549759, -0.73717308, -0.51092148, -0.71658897],\n",
              "       ...,\n",
              "       [ 3.83088303, -0.25422955, -0.23643494, -0.28338814,  0.45993233],\n",
              "       [ 3.83088303, -0.25422955, -0.23643494, -0.28338814,  0.45993233],\n",
              "       [ 3.83088303, -0.25422955, -0.23643494, -0.28338814,  0.45993233]],\n",
              "      shape=(240000, 5))"
            ]
          },
          "execution_count": 39,
          "metadata": {},
          "output_type": "execute_result"
        }
      ],
      "source": [
        "train_glove[0]"
      ]
    },
    {
      "cell_type": "code",
      "execution_count": 62,
      "metadata": {},
      "outputs": [
        {
          "ename": "NameError",
          "evalue": "name 'get_num_wins' is not defined",
          "output_type": "error",
          "traceback": [
            "\u001b[0;31m---------------------------------------------------------------------------\u001b[0m",
            "\u001b[0;31mNameError\u001b[0m                                 Traceback (most recent call last)",
            "Cell \u001b[0;32mIn[62], line 1\u001b[0m\n\u001b[0;32m----> 1\u001b[0m \u001b[43mget_num_wins\u001b[49m(\u001b[38;5;28mlen\u001b[39m(leaderboard_ecog[\u001b[38;5;241m0\u001b[39m][\u001b[38;5;241m0\u001b[39m]), \u001b[38;5;241m1000\u001b[39m, \u001b[38;5;241m0.1\u001b[39m, \u001b[38;5;241m0.05\u001b[39m)\n",
            "\u001b[0;31mNameError\u001b[0m: name 'get_num_wins' is not defined"
          ]
        }
      ],
      "source": [
        "get_num_wins(len(leaderboard_ecog[0][0]), 1000, 0.1, 0.05)"
      ]
    },
    {
      "cell_type": "code",
      "execution_count": 40,
      "metadata": {},
      "outputs": [
        {
          "name": "stderr",
          "output_type": "stream",
          "text": [
            "/var/folders/fq/t46mbxyj54j1d9t60j44v_j80000gn/T/ipykernel_35093/3204606161.py:5: DeprecationWarning: `trapz` is deprecated. Use `trapezoid` instead, or one of the numerical integration functions in `scipy.integrate`.\n",
            "  return np.trapz(Pxx[band], f[band])\n"
          ]
        }
      ],
      "source": [
        "leaderboard_feats = [get_windowed_feats(leaderboard_thing[0], fs=1000, window_length=0.1, window_overlap=0.05) for leaderboard_thing in leaderboard_ecog]"
      ]
    },
    {
      "cell_type": "code",
      "execution_count": 61,
      "metadata": {},
      "outputs": [
        {
          "data": {
            "text/plain": [
              "(2949, 372)"
            ]
          },
          "execution_count": 61,
          "metadata": {},
          "output_type": "execute_result"
        }
      ],
      "source": [
        "leaderboard_feats[0].shape"
      ]
    },
    {
      "cell_type": "code",
      "execution_count": 41,
      "metadata": {},
      "outputs": [],
      "source": [
        "R_leaderboard = [create_R_matrix(test_feats_thing, N_wind=3) for test_feats_thing in leaderboard_feats]"
      ]
    },
    {
      "cell_type": "code",
      "execution_count": 42,
      "metadata": {},
      "outputs": [
        {
          "data": {
            "text/plain": [
              "(2949, 1117)"
            ]
          },
          "execution_count": 42,
          "metadata": {},
          "output_type": "execute_result"
        }
      ],
      "source": [
        "R_leaderboard[0].shape"
      ]
    },
    {
      "cell_type": "code",
      "execution_count": 44,
      "metadata": {},
      "outputs": [
        {
          "data": {
            "text/plain": [
              "(4799, 1117)"
            ]
          },
          "execution_count": 44,
          "metadata": {},
          "output_type": "execute_result"
        }
      ],
      "source": [
        "R_train[0].shape"
      ]
    },
    {
      "cell_type": "code",
      "execution_count": null,
      "metadata": {},
      "outputs": [
        {
          "name": "stdout",
          "output_type": "stream",
          "text": [
            "\n",
            "Subject 1:\n"
          ]
        },
        {
          "name": "stderr",
          "output_type": "stream",
          "text": [
            "/Library/Frameworks/Python.framework/Versions/3.13/lib/python3.13/site-packages/sklearn/linear_model/_ridge.py:215: LinAlgWarning: Ill-conditioned matrix (rcond=3.77969e-23): result may not be accurate.\n",
            "  return linalg.solve(A, Xy, assume_a=\"pos\", overwrite_a=True).T\n",
            "/Library/Frameworks/Python.framework/Versions/3.13/lib/python3.13/site-packages/sklearn/neural_network/_multilayer_perceptron.py:698: UserWarning: Training interrupted by user.\n",
            "  warnings.warn(\"Training interrupted by user.\")\n"
          ]
        },
        {
          "name": "stdout",
          "output_type": "stream",
          "text": [
            "\n",
            "Linear Filter:\n",
            "Finger 1: 0.432\n",
            "Finger 2: 0.533\n",
            "Finger 3: 0.129\n",
            "Finger 4: 0.457\n",
            "Finger 5: -0.048\n",
            "\n",
            "Average correlation across all subjects and fingers: 0.300\n",
            "\n",
            "Average correlation without 4th finger: 0.261\n",
            "\n",
            "Ridge:\n",
            "Finger 1: 0.432\n",
            "Finger 2: 0.533\n",
            "Finger 3: 0.129\n",
            "Finger 4: 0.457\n",
            "Finger 5: -0.048\n",
            "\n",
            "Average correlation across all subjects and fingers: 0.300\n",
            "\n",
            "Average correlation without 4th finger: 0.261\n",
            "\n",
            "Random Forest:\n",
            "Finger 1: 0.415\n",
            "Finger 2: 0.519\n",
            "Finger 3: 0.079\n",
            "Finger 4: 0.549\n",
            "Finger 5: -0.228\n",
            "\n",
            "Average correlation across all subjects and fingers: 0.267\n",
            "\n",
            "Average correlation without 4th finger: 0.196\n",
            "\n",
            "MLP:\n",
            "Finger 1: 0.009\n",
            "Finger 2: -0.122\n",
            "Finger 3: -0.021\n",
            "Finger 4: 0.018\n",
            "Finger 5: -0.030\n",
            "\n",
            "Average correlation across all subjects and fingers: -0.029\n",
            "\n",
            "Average correlation without 4th finger: -0.041\n",
            "\n",
            "Subject 2:\n"
          ]
        },
        {
          "name": "stderr",
          "output_type": "stream",
          "text": [
            "/Library/Frameworks/Python.framework/Versions/3.13/lib/python3.13/site-packages/sklearn/linear_model/_ridge.py:215: LinAlgWarning: Ill-conditioned matrix (rcond=1.52709e-22): result may not be accurate.\n",
            "  return linalg.solve(A, Xy, assume_a=\"pos\", overwrite_a=True).T\n"
          ]
        },
        {
          "ename": "KeyboardInterrupt",
          "evalue": "",
          "output_type": "error",
          "traceback": [
            "\u001b[0;31m---------------------------------------------------------------------------\u001b[0m",
            "\u001b[0;31mKeyboardInterrupt\u001b[0m                         Traceback (most recent call last)",
            "Cell \u001b[0;32mIn[43], line 26\u001b[0m\n\u001b[1;32m     23\u001b[0m Y_pred_ridge \u001b[38;5;241m=\u001b[39m ridge_model\u001b[38;5;241m.\u001b[39mpredict(R_test_subject)\n\u001b[1;32m     25\u001b[0m \u001b[38;5;66;03m# Random Forest\u001b[39;00m\n\u001b[0;32m---> 26\u001b[0m rf_model \u001b[38;5;241m=\u001b[39m \u001b[43mtrain_rf_model\u001b[49m\u001b[43m(\u001b[49m\u001b[43mR_train_subject\u001b[49m\u001b[43m,\u001b[49m\u001b[43m \u001b[49m\u001b[43mtrain_glove_downsampled\u001b[49m\u001b[43m)\u001b[49m\n\u001b[1;32m     27\u001b[0m Y_pred_rf \u001b[38;5;241m=\u001b[39m rf_model\u001b[38;5;241m.\u001b[39mpredict(R_test_subject)\n\u001b[1;32m     29\u001b[0m \u001b[38;5;66;03m# MLP\u001b[39;00m\n",
            "Cell \u001b[0;32mIn[30], line 5\u001b[0m, in \u001b[0;36mtrain_rf_model\u001b[0;34m(R, Y)\u001b[0m\n\u001b[1;32m      3\u001b[0m \u001b[38;5;28;01mdef\u001b[39;00m \u001b[38;5;21mtrain_rf_model\u001b[39m(R, Y):\n\u001b[1;32m      4\u001b[0m     model \u001b[38;5;241m=\u001b[39m RandomForestRegressor(n_estimators\u001b[38;5;241m=\u001b[39m\u001b[38;5;241m100\u001b[39m, max_depth\u001b[38;5;241m=\u001b[39m\u001b[38;5;241m10\u001b[39m, random_state\u001b[38;5;241m=\u001b[39m\u001b[38;5;241m42\u001b[39m)\n\u001b[0;32m----> 5\u001b[0m     \u001b[43mmodel\u001b[49m\u001b[38;5;241;43m.\u001b[39;49m\u001b[43mfit\u001b[49m\u001b[43m(\u001b[49m\u001b[43mR\u001b[49m\u001b[43m,\u001b[49m\u001b[43m \u001b[49m\u001b[43mY\u001b[49m\u001b[43m)\u001b[49m\n\u001b[1;32m      6\u001b[0m     \u001b[38;5;28;01mreturn\u001b[39;00m model\n",
            "File \u001b[0;32m/Library/Frameworks/Python.framework/Versions/3.13/lib/python3.13/site-packages/sklearn/base.py:1389\u001b[0m, in \u001b[0;36m_fit_context.<locals>.decorator.<locals>.wrapper\u001b[0;34m(estimator, *args, **kwargs)\u001b[0m\n\u001b[1;32m   1382\u001b[0m     estimator\u001b[38;5;241m.\u001b[39m_validate_params()\n\u001b[1;32m   1384\u001b[0m \u001b[38;5;28;01mwith\u001b[39;00m config_context(\n\u001b[1;32m   1385\u001b[0m     skip_parameter_validation\u001b[38;5;241m=\u001b[39m(\n\u001b[1;32m   1386\u001b[0m         prefer_skip_nested_validation \u001b[38;5;129;01mor\u001b[39;00m global_skip_validation\n\u001b[1;32m   1387\u001b[0m     )\n\u001b[1;32m   1388\u001b[0m ):\n\u001b[0;32m-> 1389\u001b[0m     \u001b[38;5;28;01mreturn\u001b[39;00m \u001b[43mfit_method\u001b[49m\u001b[43m(\u001b[49m\u001b[43mestimator\u001b[49m\u001b[43m,\u001b[49m\u001b[43m \u001b[49m\u001b[38;5;241;43m*\u001b[39;49m\u001b[43margs\u001b[49m\u001b[43m,\u001b[49m\u001b[43m \u001b[49m\u001b[38;5;241;43m*\u001b[39;49m\u001b[38;5;241;43m*\u001b[39;49m\u001b[43mkwargs\u001b[49m\u001b[43m)\u001b[49m\n",
            "File \u001b[0;32m/Library/Frameworks/Python.framework/Versions/3.13/lib/python3.13/site-packages/sklearn/ensemble/_forest.py:487\u001b[0m, in \u001b[0;36mBaseForest.fit\u001b[0;34m(self, X, y, sample_weight)\u001b[0m\n\u001b[1;32m    476\u001b[0m trees \u001b[38;5;241m=\u001b[39m [\n\u001b[1;32m    477\u001b[0m     \u001b[38;5;28mself\u001b[39m\u001b[38;5;241m.\u001b[39m_make_estimator(append\u001b[38;5;241m=\u001b[39m\u001b[38;5;28;01mFalse\u001b[39;00m, random_state\u001b[38;5;241m=\u001b[39mrandom_state)\n\u001b[1;32m    478\u001b[0m     \u001b[38;5;28;01mfor\u001b[39;00m i \u001b[38;5;129;01min\u001b[39;00m \u001b[38;5;28mrange\u001b[39m(n_more_estimators)\n\u001b[1;32m    479\u001b[0m ]\n\u001b[1;32m    481\u001b[0m \u001b[38;5;66;03m# Parallel loop: we prefer the threading backend as the Cython code\u001b[39;00m\n\u001b[1;32m    482\u001b[0m \u001b[38;5;66;03m# for fitting the trees is internally releasing the Python GIL\u001b[39;00m\n\u001b[1;32m    483\u001b[0m \u001b[38;5;66;03m# making threading more efficient than multiprocessing in\u001b[39;00m\n\u001b[1;32m    484\u001b[0m \u001b[38;5;66;03m# that case. However, for joblib 0.12+ we respect any\u001b[39;00m\n\u001b[1;32m    485\u001b[0m \u001b[38;5;66;03m# parallel_backend contexts set at a higher level,\u001b[39;00m\n\u001b[1;32m    486\u001b[0m \u001b[38;5;66;03m# since correctness does not rely on using threads.\u001b[39;00m\n\u001b[0;32m--> 487\u001b[0m trees \u001b[38;5;241m=\u001b[39m \u001b[43mParallel\u001b[49m\u001b[43m(\u001b[49m\n\u001b[1;32m    488\u001b[0m \u001b[43m    \u001b[49m\u001b[43mn_jobs\u001b[49m\u001b[38;5;241;43m=\u001b[39;49m\u001b[38;5;28;43mself\u001b[39;49m\u001b[38;5;241;43m.\u001b[39;49m\u001b[43mn_jobs\u001b[49m\u001b[43m,\u001b[49m\n\u001b[1;32m    489\u001b[0m \u001b[43m    \u001b[49m\u001b[43mverbose\u001b[49m\u001b[38;5;241;43m=\u001b[39;49m\u001b[38;5;28;43mself\u001b[39;49m\u001b[38;5;241;43m.\u001b[39;49m\u001b[43mverbose\u001b[49m\u001b[43m,\u001b[49m\n\u001b[1;32m    490\u001b[0m \u001b[43m    \u001b[49m\u001b[43mprefer\u001b[49m\u001b[38;5;241;43m=\u001b[39;49m\u001b[38;5;124;43m\"\u001b[39;49m\u001b[38;5;124;43mthreads\u001b[39;49m\u001b[38;5;124;43m\"\u001b[39;49m\u001b[43m,\u001b[49m\n\u001b[1;32m    491\u001b[0m \u001b[43m\u001b[49m\u001b[43m)\u001b[49m\u001b[43m(\u001b[49m\n\u001b[1;32m    492\u001b[0m \u001b[43m    \u001b[49m\u001b[43mdelayed\u001b[49m\u001b[43m(\u001b[49m\u001b[43m_parallel_build_trees\u001b[49m\u001b[43m)\u001b[49m\u001b[43m(\u001b[49m\n\u001b[1;32m    493\u001b[0m \u001b[43m        \u001b[49m\u001b[43mt\u001b[49m\u001b[43m,\u001b[49m\n\u001b[1;32m    494\u001b[0m \u001b[43m        \u001b[49m\u001b[38;5;28;43mself\u001b[39;49m\u001b[38;5;241;43m.\u001b[39;49m\u001b[43mbootstrap\u001b[49m\u001b[43m,\u001b[49m\n\u001b[1;32m    495\u001b[0m \u001b[43m        \u001b[49m\u001b[43mX\u001b[49m\u001b[43m,\u001b[49m\n\u001b[1;32m    496\u001b[0m \u001b[43m        \u001b[49m\u001b[43my\u001b[49m\u001b[43m,\u001b[49m\n\u001b[1;32m    497\u001b[0m \u001b[43m        \u001b[49m\u001b[43msample_weight\u001b[49m\u001b[43m,\u001b[49m\n\u001b[1;32m    498\u001b[0m \u001b[43m        \u001b[49m\u001b[43mi\u001b[49m\u001b[43m,\u001b[49m\n\u001b[1;32m    499\u001b[0m \u001b[43m        \u001b[49m\u001b[38;5;28;43mlen\u001b[39;49m\u001b[43m(\u001b[49m\u001b[43mtrees\u001b[49m\u001b[43m)\u001b[49m\u001b[43m,\u001b[49m\n\u001b[1;32m    500\u001b[0m \u001b[43m        \u001b[49m\u001b[43mverbose\u001b[49m\u001b[38;5;241;43m=\u001b[39;49m\u001b[38;5;28;43mself\u001b[39;49m\u001b[38;5;241;43m.\u001b[39;49m\u001b[43mverbose\u001b[49m\u001b[43m,\u001b[49m\n\u001b[1;32m    501\u001b[0m \u001b[43m        \u001b[49m\u001b[43mclass_weight\u001b[49m\u001b[38;5;241;43m=\u001b[39;49m\u001b[38;5;28;43mself\u001b[39;49m\u001b[38;5;241;43m.\u001b[39;49m\u001b[43mclass_weight\u001b[49m\u001b[43m,\u001b[49m\n\u001b[1;32m    502\u001b[0m \u001b[43m        \u001b[49m\u001b[43mn_samples_bootstrap\u001b[49m\u001b[38;5;241;43m=\u001b[39;49m\u001b[43mn_samples_bootstrap\u001b[49m\u001b[43m,\u001b[49m\n\u001b[1;32m    503\u001b[0m \u001b[43m        \u001b[49m\u001b[43mmissing_values_in_feature_mask\u001b[49m\u001b[38;5;241;43m=\u001b[39;49m\u001b[43mmissing_values_in_feature_mask\u001b[49m\u001b[43m,\u001b[49m\n\u001b[1;32m    504\u001b[0m \u001b[43m    \u001b[49m\u001b[43m)\u001b[49m\n\u001b[1;32m    505\u001b[0m \u001b[43m    \u001b[49m\u001b[38;5;28;43;01mfor\u001b[39;49;00m\u001b[43m \u001b[49m\u001b[43mi\u001b[49m\u001b[43m,\u001b[49m\u001b[43m \u001b[49m\u001b[43mt\u001b[49m\u001b[43m \u001b[49m\u001b[38;5;129;43;01min\u001b[39;49;00m\u001b[43m \u001b[49m\u001b[38;5;28;43menumerate\u001b[39;49m\u001b[43m(\u001b[49m\u001b[43mtrees\u001b[49m\u001b[43m)\u001b[49m\n\u001b[1;32m    506\u001b[0m \u001b[43m\u001b[49m\u001b[43m)\u001b[49m\n\u001b[1;32m    508\u001b[0m \u001b[38;5;66;03m# Collect newly grown trees\u001b[39;00m\n\u001b[1;32m    509\u001b[0m \u001b[38;5;28mself\u001b[39m\u001b[38;5;241m.\u001b[39mestimators_\u001b[38;5;241m.\u001b[39mextend(trees)\n",
            "File \u001b[0;32m/Library/Frameworks/Python.framework/Versions/3.13/lib/python3.13/site-packages/sklearn/utils/parallel.py:77\u001b[0m, in \u001b[0;36mParallel.__call__\u001b[0;34m(self, iterable)\u001b[0m\n\u001b[1;32m     72\u001b[0m config \u001b[38;5;241m=\u001b[39m get_config()\n\u001b[1;32m     73\u001b[0m iterable_with_config \u001b[38;5;241m=\u001b[39m (\n\u001b[1;32m     74\u001b[0m     (_with_config(delayed_func, config), args, kwargs)\n\u001b[1;32m     75\u001b[0m     \u001b[38;5;28;01mfor\u001b[39;00m delayed_func, args, kwargs \u001b[38;5;129;01min\u001b[39;00m iterable\n\u001b[1;32m     76\u001b[0m )\n\u001b[0;32m---> 77\u001b[0m \u001b[38;5;28;01mreturn\u001b[39;00m \u001b[38;5;28;43msuper\u001b[39;49m\u001b[43m(\u001b[49m\u001b[43m)\u001b[49m\u001b[38;5;241;43m.\u001b[39;49m\u001b[38;5;21;43m__call__\u001b[39;49m\u001b[43m(\u001b[49m\u001b[43miterable_with_config\u001b[49m\u001b[43m)\u001b[49m\n",
            "File \u001b[0;32m/Library/Frameworks/Python.framework/Versions/3.13/lib/python3.13/site-packages/joblib/parallel.py:1918\u001b[0m, in \u001b[0;36mParallel.__call__\u001b[0;34m(self, iterable)\u001b[0m\n\u001b[1;32m   1916\u001b[0m     output \u001b[38;5;241m=\u001b[39m \u001b[38;5;28mself\u001b[39m\u001b[38;5;241m.\u001b[39m_get_sequential_output(iterable)\n\u001b[1;32m   1917\u001b[0m     \u001b[38;5;28mnext\u001b[39m(output)\n\u001b[0;32m-> 1918\u001b[0m     \u001b[38;5;28;01mreturn\u001b[39;00m output \u001b[38;5;28;01mif\u001b[39;00m \u001b[38;5;28mself\u001b[39m\u001b[38;5;241m.\u001b[39mreturn_generator \u001b[38;5;28;01melse\u001b[39;00m \u001b[38;5;28;43mlist\u001b[39;49m\u001b[43m(\u001b[49m\u001b[43moutput\u001b[49m\u001b[43m)\u001b[49m\n\u001b[1;32m   1920\u001b[0m \u001b[38;5;66;03m# Let's create an ID that uniquely identifies the current call. If the\u001b[39;00m\n\u001b[1;32m   1921\u001b[0m \u001b[38;5;66;03m# call is interrupted early and that the same instance is immediately\u001b[39;00m\n\u001b[1;32m   1922\u001b[0m \u001b[38;5;66;03m# re-used, this id will be used to prevent workers that were\u001b[39;00m\n\u001b[1;32m   1923\u001b[0m \u001b[38;5;66;03m# concurrently finalizing a task from the previous call to run the\u001b[39;00m\n\u001b[1;32m   1924\u001b[0m \u001b[38;5;66;03m# callback.\u001b[39;00m\n\u001b[1;32m   1925\u001b[0m \u001b[38;5;28;01mwith\u001b[39;00m \u001b[38;5;28mself\u001b[39m\u001b[38;5;241m.\u001b[39m_lock:\n",
            "File \u001b[0;32m/Library/Frameworks/Python.framework/Versions/3.13/lib/python3.13/site-packages/joblib/parallel.py:1847\u001b[0m, in \u001b[0;36mParallel._get_sequential_output\u001b[0;34m(self, iterable)\u001b[0m\n\u001b[1;32m   1845\u001b[0m \u001b[38;5;28mself\u001b[39m\u001b[38;5;241m.\u001b[39mn_dispatched_batches \u001b[38;5;241m+\u001b[39m\u001b[38;5;241m=\u001b[39m \u001b[38;5;241m1\u001b[39m\n\u001b[1;32m   1846\u001b[0m \u001b[38;5;28mself\u001b[39m\u001b[38;5;241m.\u001b[39mn_dispatched_tasks \u001b[38;5;241m+\u001b[39m\u001b[38;5;241m=\u001b[39m \u001b[38;5;241m1\u001b[39m\n\u001b[0;32m-> 1847\u001b[0m res \u001b[38;5;241m=\u001b[39m \u001b[43mfunc\u001b[49m\u001b[43m(\u001b[49m\u001b[38;5;241;43m*\u001b[39;49m\u001b[43margs\u001b[49m\u001b[43m,\u001b[49m\u001b[43m \u001b[49m\u001b[38;5;241;43m*\u001b[39;49m\u001b[38;5;241;43m*\u001b[39;49m\u001b[43mkwargs\u001b[49m\u001b[43m)\u001b[49m\n\u001b[1;32m   1848\u001b[0m \u001b[38;5;28mself\u001b[39m\u001b[38;5;241m.\u001b[39mn_completed_tasks \u001b[38;5;241m+\u001b[39m\u001b[38;5;241m=\u001b[39m \u001b[38;5;241m1\u001b[39m\n\u001b[1;32m   1849\u001b[0m \u001b[38;5;28mself\u001b[39m\u001b[38;5;241m.\u001b[39mprint_progress()\n",
            "File \u001b[0;32m/Library/Frameworks/Python.framework/Versions/3.13/lib/python3.13/site-packages/sklearn/utils/parallel.py:139\u001b[0m, in \u001b[0;36m_FuncWrapper.__call__\u001b[0;34m(self, *args, **kwargs)\u001b[0m\n\u001b[1;32m    137\u001b[0m     config \u001b[38;5;241m=\u001b[39m {}\n\u001b[1;32m    138\u001b[0m \u001b[38;5;28;01mwith\u001b[39;00m config_context(\u001b[38;5;241m*\u001b[39m\u001b[38;5;241m*\u001b[39mconfig):\n\u001b[0;32m--> 139\u001b[0m     \u001b[38;5;28;01mreturn\u001b[39;00m \u001b[38;5;28;43mself\u001b[39;49m\u001b[38;5;241;43m.\u001b[39;49m\u001b[43mfunction\u001b[49m\u001b[43m(\u001b[49m\u001b[38;5;241;43m*\u001b[39;49m\u001b[43margs\u001b[49m\u001b[43m,\u001b[49m\u001b[43m \u001b[49m\u001b[38;5;241;43m*\u001b[39;49m\u001b[38;5;241;43m*\u001b[39;49m\u001b[43mkwargs\u001b[49m\u001b[43m)\u001b[49m\n",
            "File \u001b[0;32m/Library/Frameworks/Python.framework/Versions/3.13/lib/python3.13/site-packages/sklearn/ensemble/_forest.py:189\u001b[0m, in \u001b[0;36m_parallel_build_trees\u001b[0;34m(tree, bootstrap, X, y, sample_weight, tree_idx, n_trees, verbose, class_weight, n_samples_bootstrap, missing_values_in_feature_mask)\u001b[0m\n\u001b[1;32m    186\u001b[0m     \u001b[38;5;28;01melif\u001b[39;00m class_weight \u001b[38;5;241m==\u001b[39m \u001b[38;5;124m\"\u001b[39m\u001b[38;5;124mbalanced_subsample\u001b[39m\u001b[38;5;124m\"\u001b[39m:\n\u001b[1;32m    187\u001b[0m         curr_sample_weight \u001b[38;5;241m*\u001b[39m\u001b[38;5;241m=\u001b[39m compute_sample_weight(\u001b[38;5;124m\"\u001b[39m\u001b[38;5;124mbalanced\u001b[39m\u001b[38;5;124m\"\u001b[39m, y, indices\u001b[38;5;241m=\u001b[39mindices)\n\u001b[0;32m--> 189\u001b[0m     \u001b[43mtree\u001b[49m\u001b[38;5;241;43m.\u001b[39;49m\u001b[43m_fit\u001b[49m\u001b[43m(\u001b[49m\n\u001b[1;32m    190\u001b[0m \u001b[43m        \u001b[49m\u001b[43mX\u001b[49m\u001b[43m,\u001b[49m\n\u001b[1;32m    191\u001b[0m \u001b[43m        \u001b[49m\u001b[43my\u001b[49m\u001b[43m,\u001b[49m\n\u001b[1;32m    192\u001b[0m \u001b[43m        \u001b[49m\u001b[43msample_weight\u001b[49m\u001b[38;5;241;43m=\u001b[39;49m\u001b[43mcurr_sample_weight\u001b[49m\u001b[43m,\u001b[49m\n\u001b[1;32m    193\u001b[0m \u001b[43m        \u001b[49m\u001b[43mcheck_input\u001b[49m\u001b[38;5;241;43m=\u001b[39;49m\u001b[38;5;28;43;01mFalse\u001b[39;49;00m\u001b[43m,\u001b[49m\n\u001b[1;32m    194\u001b[0m \u001b[43m        \u001b[49m\u001b[43mmissing_values_in_feature_mask\u001b[49m\u001b[38;5;241;43m=\u001b[39;49m\u001b[43mmissing_values_in_feature_mask\u001b[49m\u001b[43m,\u001b[49m\n\u001b[1;32m    195\u001b[0m \u001b[43m    \u001b[49m\u001b[43m)\u001b[49m\n\u001b[1;32m    196\u001b[0m \u001b[38;5;28;01melse\u001b[39;00m:\n\u001b[1;32m    197\u001b[0m     tree\u001b[38;5;241m.\u001b[39m_fit(\n\u001b[1;32m    198\u001b[0m         X,\n\u001b[1;32m    199\u001b[0m         y,\n\u001b[0;32m   (...)\u001b[0m\n\u001b[1;32m    202\u001b[0m         missing_values_in_feature_mask\u001b[38;5;241m=\u001b[39mmissing_values_in_feature_mask,\n\u001b[1;32m    203\u001b[0m     )\n",
            "File \u001b[0;32m/Library/Frameworks/Python.framework/Versions/3.13/lib/python3.13/site-packages/sklearn/tree/_classes.py:472\u001b[0m, in \u001b[0;36mBaseDecisionTree._fit\u001b[0;34m(self, X, y, sample_weight, check_input, missing_values_in_feature_mask)\u001b[0m\n\u001b[1;32m    461\u001b[0m \u001b[38;5;28;01melse\u001b[39;00m:\n\u001b[1;32m    462\u001b[0m     builder \u001b[38;5;241m=\u001b[39m BestFirstTreeBuilder(\n\u001b[1;32m    463\u001b[0m         splitter,\n\u001b[1;32m    464\u001b[0m         min_samples_split,\n\u001b[0;32m   (...)\u001b[0m\n\u001b[1;32m    469\u001b[0m         \u001b[38;5;28mself\u001b[39m\u001b[38;5;241m.\u001b[39mmin_impurity_decrease,\n\u001b[1;32m    470\u001b[0m     )\n\u001b[0;32m--> 472\u001b[0m \u001b[43mbuilder\u001b[49m\u001b[38;5;241;43m.\u001b[39;49m\u001b[43mbuild\u001b[49m\u001b[43m(\u001b[49m\u001b[38;5;28;43mself\u001b[39;49m\u001b[38;5;241;43m.\u001b[39;49m\u001b[43mtree_\u001b[49m\u001b[43m,\u001b[49m\u001b[43m \u001b[49m\u001b[43mX\u001b[49m\u001b[43m,\u001b[49m\u001b[43m \u001b[49m\u001b[43my\u001b[49m\u001b[43m,\u001b[49m\u001b[43m \u001b[49m\u001b[43msample_weight\u001b[49m\u001b[43m,\u001b[49m\u001b[43m \u001b[49m\u001b[43mmissing_values_in_feature_mask\u001b[49m\u001b[43m)\u001b[49m\n\u001b[1;32m    474\u001b[0m \u001b[38;5;28;01mif\u001b[39;00m \u001b[38;5;28mself\u001b[39m\u001b[38;5;241m.\u001b[39mn_outputs_ \u001b[38;5;241m==\u001b[39m \u001b[38;5;241m1\u001b[39m \u001b[38;5;129;01mand\u001b[39;00m is_classifier(\u001b[38;5;28mself\u001b[39m):\n\u001b[1;32m    475\u001b[0m     \u001b[38;5;28mself\u001b[39m\u001b[38;5;241m.\u001b[39mn_classes_ \u001b[38;5;241m=\u001b[39m \u001b[38;5;28mself\u001b[39m\u001b[38;5;241m.\u001b[39mn_classes_[\u001b[38;5;241m0\u001b[39m]\n",
            "\u001b[0;31mKeyboardInterrupt\u001b[0m: "
          ]
        }
      ],
      "source": [
        "# linear_correlations = []\n",
        "# ridge_correlations = []\n",
        "# rf_correlations = []\n",
        "# mlp_correlations = []\n",
        "\n",
        "# for subject_idx in range(3):\n",
        "#     print(f\"\\nSubject {subject_idx + 1}:\")\n",
        "    \n",
        "#     R_train_subject = R_train[subject_idx]\n",
        "#     R_test_subject = R_test[subject_idx]\n",
        "#     train_glove_subject = train_glove[subject_idx]\n",
        "#     test_glove_subject = test_glove[subject_idx]\n",
        "\n",
        "#     train_glove_downsampled = sig.resample(train_glove_subject, len(R_train_subject))\n",
        "#     test_glove_downsampled = sig.resample(test_glove_subject, len(R_test_subject))\n",
        "\n",
        "#     # # Linear Filter\n",
        "#     # f = compute_linear_filter(R_train_subject, train_glove_downsampled)\n",
        "#     # Y_pred_linear = R_test_subject @ f\n",
        "    \n",
        "#     # # Ridge Regression\n",
        "#     # ridge_model = train_ridge_model(R_train_subject, train_glove_downsampled)\n",
        "#     # Y_pred_ridge = ridge_model.predict(R_test_subject)\n",
        "    \n",
        "#     # Random Forest\n",
        "#     rf_model = train_rf_model(R_train_subject, train_glove_downsampled)\n",
        "#     Y_pred_rf = rf_model.predict(R_test_subject)\n",
        "    \n",
        "#     # # MLP\n",
        "#     # mlp_model = train_mlp_model(R_train_subject, train_glove_downsampled)\n",
        "#     # Y_pred_mlp = mlp_model.predict(R_test_subject)\n",
        "\n",
        "#     # correlations for each model and fiinds\n",
        "#     for model_name, Y_pred in [\n",
        "#         # ('Linear Filter', Y_pred_linear),\n",
        "#         # ('Ridge', Y_pred_ridge),\n",
        "#         ('Random Forest', Y_pred_rf)\n",
        "#         # ('MLP', Y_pred_mlp)\n",
        "#     ]:\n",
        "#         print(f\"\\n{model_name}:\")\n",
        "#         finger_correlations = []\n",
        "#         for finger_idx in range(5):\n",
        "#             r, _ = pearsonr(Y_pred[:, finger_idx], test_glove_downsampled[:, finger_idx])\n",
        "#             finger_correlations.append(r)\n",
        "#             print(f\"Finger {finger_idx + 1}: {r:.3f}\")\n",
        "#         correlations_np = np.array(finger_correlations)\n",
        "#         avg_wout_4th_finger = np.mean(correlations_np[fingers])\n",
        "#         avg_correlation = np.mean(correlations_np)\n",
        "#         print(f\"\\nAverage correlation across all subjects and fingers: {avg_correlation:.3f}\")\n",
        "#         print(f\"\\nAverage correlation without 4th finger: {avg_wout_4th_finger:.3f}\")"
      ]
    },
    {
      "cell_type": "code",
      "execution_count": 50,
      "metadata": {},
      "outputs": [
        {
          "name": "stdout",
          "output_type": "stream",
          "text": [
            "\n",
            "Subject 1:\n",
            "\n",
            "Random Forest:\n",
            "Finger 1: 0.415\n",
            "Finger 2: 0.519\n",
            "Finger 3: 0.079\n",
            "Finger 4: 0.549\n",
            "Finger 5: -0.228\n",
            "\n",
            "Average correlation across all subjects and fingers: 0.267\n",
            "\n",
            "Average correlation without 4th finger: 0.196\n",
            "\n",
            "Subject 2:\n",
            "\n",
            "Random Forest:\n",
            "Finger 1: 0.510\n",
            "Finger 2: 0.339\n",
            "Finger 3: 0.285\n",
            "Finger 4: 0.549\n",
            "Finger 5: 0.414\n",
            "\n",
            "Average correlation across all subjects and fingers: 0.419\n",
            "\n",
            "Average correlation without 4th finger: 0.387\n",
            "\n",
            "Subject 3:\n",
            "\n",
            "Random Forest:\n",
            "Finger 1: 0.622\n",
            "Finger 2: 0.424\n",
            "Finger 3: 0.529\n",
            "Finger 4: 0.555\n",
            "Finger 5: 0.455\n",
            "\n",
            "Average correlation across all subjects and fingers: 0.517\n",
            "\n",
            "Average correlation without 4th finger: 0.508\n"
          ]
        }
      ],
      "source": [
        "linear_correlations = []\n",
        "ridge_correlations = []\n",
        "rf_correlations = []\n",
        "mlp_correlations = []\n",
        "\n",
        "# Store models for each subject\n",
        "rf_models = []\n",
        "\n",
        "for subject_idx in range(3):\n",
        "    print(f\"\\nSubject {subject_idx + 1}:\")\n",
        "    \n",
        "    R_train_subject = R_train[subject_idx]\n",
        "    R_test_subject = R_test[subject_idx]\n",
        "    train_glove_subject = train_glove[subject_idx]\n",
        "    test_glove_subject = test_glove[subject_idx]\n",
        "\n",
        "    train_glove_downsampled = sig.resample(train_glove_subject, len(R_train_subject))\n",
        "    test_glove_downsampled = sig.resample(test_glove_subject, len(R_test_subject))\n",
        "\n",
        "    # Random Forest - train a separate model for this subject\n",
        "    rf_model = train_rf_model(R_train_subject, train_glove_downsampled)\n",
        "    rf_models.append(rf_model)  # Store the model\n",
        "    Y_pred_rf = rf_model.predict(R_test_subject)\n",
        "    \n",
        "    # correlations for each model and fingers\n",
        "    for model_name, Y_pred in [\n",
        "        ('Random Forest', Y_pred_rf)\n",
        "    ]:\n",
        "        print(f\"\\n{model_name}:\")\n",
        "        finger_correlations = []\n",
        "        for finger_idx in range(5):\n",
        "            r, _ = pearsonr(Y_pred[:, finger_idx], test_glove_downsampled[:, finger_idx])\n",
        "            finger_correlations.append(r)\n",
        "            print(f\"Finger {finger_idx + 1}: {r:.3f}\")\n",
        "        correlations_np = np.array(finger_correlations)\n",
        "        avg_wout_4th_finger = np.mean(correlations_np[fingers])\n",
        "        avg_correlation = np.mean(correlations_np)\n",
        "        print(f\"\\nAverage correlation across all subjects and fingers: {avg_correlation:.3f}\")\n",
        "        print(f\"\\nAverage correlation without 4th finger: {avg_wout_4th_finger:.3f}\")\n",
        "\n",
        "# Now you can use rf_models to make predictions on new data\n",
        "# Each model in rf_models corresponds to a subject"
      ]
    },
    {
      "cell_type": "code",
      "execution_count": 71,
      "metadata": {},
      "outputs": [
        {
          "data": {
            "text/plain": [
              "array([[array([[-2328,  1708, -2017, ..., -2398,  -626,  1081],\n",
              "               [-2366,  1355, -2129, ..., -2953,  -991,   894],\n",
              "               [-2129,  1368, -1583, ..., -3209, -1033,   940],\n",
              "               ...,\n",
              "               [-1021,   -95,  -895, ...,   799,   -69,  -166],\n",
              "               [ -797,   153, -1140, ...,  1043,   140,  -161],\n",
              "               [ -761,   292, -1288, ...,  1254,   235,     2]],\n",
              "              shape=(147500, 62), dtype=int16)                  ],\n",
              "       [array([[  580,   813,   270, ...,  4119,  8385,   690],\n",
              "               [  442,   525,     6, ...,  3982,  8156,   563],\n",
              "               [  259,   273,  -328, ...,  3726,  7789,   380],\n",
              "               ...,\n",
              "               [-2613,   621, -3343, ...,  -432,  -430,  -428],\n",
              "               [-2834,   305, -3581, ...,  -484,  -500,  -558],\n",
              "               [-3060,    82, -3865, ...,  -564,  -561,  -686]],\n",
              "              shape=(147500, 48), dtype=int32)                  ],\n",
              "       [array([[ 1068,   328, -1627, ..., -2985,  3338,  1916],\n",
              "               [  710,   -25, -1763, ..., -3123,  3159,  1402],\n",
              "               [  714,    85, -1582, ..., -2716,  3384,  1278],\n",
              "               ...,\n",
              "               [-2233,  -173,    87, ...,  2894, -1241,  5125],\n",
              "               [-1805,    99,   460, ...,  3237,  -884,  5384],\n",
              "               [-1343,   435,  1013, ...,  3666,  -338,  5578]],\n",
              "              shape=(147500, 64), dtype=int16)                  ]],\n",
              "      dtype=object)"
            ]
          },
          "execution_count": 71,
          "metadata": {},
          "output_type": "execute_result"
        }
      ],
      "source": [
        "leaderboard_ecog"
      ]
    },
    {
      "cell_type": "code",
      "execution_count": 83,
      "metadata": {},
      "outputs": [
        {
          "name": "stdout",
          "output_type": "stream",
          "text": [
            "Subject 1 R matrix shape: (2949, 1117)\n",
            "Raw predictions shape: (2949, 5)\n",
            "Resampled predictions shape: (147500, 5)\n",
            "Subject 2 R matrix shape: (2949, 865)\n",
            "Raw predictions shape: (2949, 5)\n",
            "Resampled predictions shape: (147500, 5)\n",
            "Subject 3 R matrix shape: (2949, 1153)\n",
            "Raw predictions shape: (2949, 5)\n",
            "Resampled predictions shape: (147500, 5)\n",
            "Loaded predictions shape: (3, 1)\n",
            "Sample of loaded predictions: [[-0.07004403  0.63652039 -0.06311678 -0.37746294 -0.09565256]\n",
            " [-0.06876803  0.63905135 -0.07674555 -0.38238218 -0.09398768]\n",
            " [-0.06748246  0.64133035 -0.08976102 -0.38698451 -0.09223088]\n",
            " [-0.06618732  0.64335308 -0.10214141 -0.39127147 -0.09039562]\n",
            " [-0.0648827   0.64511549 -0.11386686 -0.39524512 -0.08849526]]\n"
          ]
        }
      ],
      "source": [
        "all_predictions = []\n",
        "\n",
        "for subject_idx in range(3):\n",
        "    subject_data = R_leaderboard[subject_idx]\n",
        "    print(f\"Subject {subject_idx + 1} R matrix shape: {subject_data.shape}\")\n",
        "    \n",
        "    subject_predictions = rf_models[subject_idx].predict(subject_data)\n",
        "    print(f\"Raw predictions shape: {subject_predictions.shape}\")\n",
        "    \n",
        "    # Resample each finger's predictions separately\n",
        "    resampled_predictions = np.zeros((147500, 5))\n",
        "    for finger in range(5):\n",
        "        resampled_predictions[:, finger] = sig.resample(subject_predictions[:, finger], 147500)\n",
        "    \n",
        "    print(f\"Resampled predictions shape: {resampled_predictions.shape}\")\n",
        "    \n",
        "    # Add predictions to list\n",
        "    all_predictions.append(resampled_predictions)\n",
        "\n",
        "# Create the 3x1 cell array format\n",
        "predicted_dg = np.empty((3, 1), dtype=object)\n",
        "for i in range(3):\n",
        "    predicted_dg[i, 0] = all_predictions[i]\n",
        "\n",
        "# Save in .mat format\n",
        "sio.savemat('predictions.mat', {'predicted_dg': predicted_dg}, format='5')\n",
        "\n",
        "# Verify the saved file\n",
        "loaded = sio.loadmat('predictions.mat')\n",
        "print(f\"Loaded predictions shape: {loaded['predicted_dg'].shape}\")\n",
        "print(f\"Sample of loaded predictions: {loaded['predicted_dg'][0,0][:5, :]}\")"
      ]
    },
    {
      "cell_type": "code",
      "execution_count": null,
      "metadata": {},
      "outputs": [
        {
          "ename": "ValueError",
          "evalue": "X has 62 features, but RandomForestRegressor is expecting 1117 features as input.",
          "output_type": "error",
          "traceback": [
            "\u001b[0;31m---------------------------------------------------------------------------\u001b[0m",
            "\u001b[0;31mValueError\u001b[0m                                Traceback (most recent call last)",
            "Cell \u001b[0;32mIn[77], line 8\u001b[0m\n\u001b[1;32m      5\u001b[0m subject_data \u001b[38;5;241m=\u001b[39m leaderboard_ecog[subject_idx][\u001b[38;5;241m0\u001b[39m]\n\u001b[1;32m      7\u001b[0m \u001b[38;5;66;03m# Make predictions\u001b[39;00m\n\u001b[0;32m----> 8\u001b[0m subject_predictions \u001b[38;5;241m=\u001b[39m \u001b[43mrf_models\u001b[49m\u001b[43m[\u001b[49m\u001b[43msubject_idx\u001b[49m\u001b[43m]\u001b[49m\u001b[38;5;241;43m.\u001b[39;49m\u001b[43mpredict\u001b[49m\u001b[43m(\u001b[49m\u001b[43msubject_data\u001b[49m\u001b[43m)\u001b[49m\n\u001b[1;32m     10\u001b[0m \u001b[38;5;66;03m# Ensure predictions are 147500 x 5\u001b[39;00m\n\u001b[1;32m     11\u001b[0m \u001b[38;5;28;01mif\u001b[39;00m subject_predictions\u001b[38;5;241m.\u001b[39mshape \u001b[38;5;241m!=\u001b[39m (\u001b[38;5;241m147500\u001b[39m, \u001b[38;5;241m5\u001b[39m):\n",
            "File \u001b[0;32m/Library/Frameworks/Python.framework/Versions/3.13/lib/python3.13/site-packages/sklearn/ensemble/_forest.py:1066\u001b[0m, in \u001b[0;36mForestRegressor.predict\u001b[0;34m(self, X)\u001b[0m\n\u001b[1;32m   1064\u001b[0m check_is_fitted(\u001b[38;5;28mself\u001b[39m)\n\u001b[1;32m   1065\u001b[0m \u001b[38;5;66;03m# Check data\u001b[39;00m\n\u001b[0;32m-> 1066\u001b[0m X \u001b[38;5;241m=\u001b[39m \u001b[38;5;28;43mself\u001b[39;49m\u001b[38;5;241;43m.\u001b[39;49m\u001b[43m_validate_X_predict\u001b[49m\u001b[43m(\u001b[49m\u001b[43mX\u001b[49m\u001b[43m)\u001b[49m\n\u001b[1;32m   1068\u001b[0m \u001b[38;5;66;03m# Assign chunk of trees to jobs\u001b[39;00m\n\u001b[1;32m   1069\u001b[0m n_jobs, _, _ \u001b[38;5;241m=\u001b[39m _partition_estimators(\u001b[38;5;28mself\u001b[39m\u001b[38;5;241m.\u001b[39mn_estimators, \u001b[38;5;28mself\u001b[39m\u001b[38;5;241m.\u001b[39mn_jobs)\n",
            "File \u001b[0;32m/Library/Frameworks/Python.framework/Versions/3.13/lib/python3.13/site-packages/sklearn/ensemble/_forest.py:638\u001b[0m, in \u001b[0;36mBaseForest._validate_X_predict\u001b[0;34m(self, X)\u001b[0m\n\u001b[1;32m    635\u001b[0m \u001b[38;5;28;01melse\u001b[39;00m:\n\u001b[1;32m    636\u001b[0m     ensure_all_finite \u001b[38;5;241m=\u001b[39m \u001b[38;5;28;01mTrue\u001b[39;00m\n\u001b[0;32m--> 638\u001b[0m X \u001b[38;5;241m=\u001b[39m \u001b[43mvalidate_data\u001b[49m\u001b[43m(\u001b[49m\n\u001b[1;32m    639\u001b[0m \u001b[43m    \u001b[49m\u001b[38;5;28;43mself\u001b[39;49m\u001b[43m,\u001b[49m\n\u001b[1;32m    640\u001b[0m \u001b[43m    \u001b[49m\u001b[43mX\u001b[49m\u001b[43m,\u001b[49m\n\u001b[1;32m    641\u001b[0m \u001b[43m    \u001b[49m\u001b[43mdtype\u001b[49m\u001b[38;5;241;43m=\u001b[39;49m\u001b[43mDTYPE\u001b[49m\u001b[43m,\u001b[49m\n\u001b[1;32m    642\u001b[0m \u001b[43m    \u001b[49m\u001b[43maccept_sparse\u001b[49m\u001b[38;5;241;43m=\u001b[39;49m\u001b[38;5;124;43m\"\u001b[39;49m\u001b[38;5;124;43mcsr\u001b[39;49m\u001b[38;5;124;43m\"\u001b[39;49m\u001b[43m,\u001b[49m\n\u001b[1;32m    643\u001b[0m \u001b[43m    \u001b[49m\u001b[43mreset\u001b[49m\u001b[38;5;241;43m=\u001b[39;49m\u001b[38;5;28;43;01mFalse\u001b[39;49;00m\u001b[43m,\u001b[49m\n\u001b[1;32m    644\u001b[0m \u001b[43m    \u001b[49m\u001b[43mensure_all_finite\u001b[49m\u001b[38;5;241;43m=\u001b[39;49m\u001b[43mensure_all_finite\u001b[49m\u001b[43m,\u001b[49m\n\u001b[1;32m    645\u001b[0m \u001b[43m\u001b[49m\u001b[43m)\u001b[49m\n\u001b[1;32m    646\u001b[0m \u001b[38;5;28;01mif\u001b[39;00m issparse(X) \u001b[38;5;129;01mand\u001b[39;00m (X\u001b[38;5;241m.\u001b[39mindices\u001b[38;5;241m.\u001b[39mdtype \u001b[38;5;241m!=\u001b[39m np\u001b[38;5;241m.\u001b[39mintc \u001b[38;5;129;01mor\u001b[39;00m X\u001b[38;5;241m.\u001b[39mindptr\u001b[38;5;241m.\u001b[39mdtype \u001b[38;5;241m!=\u001b[39m np\u001b[38;5;241m.\u001b[39mintc):\n\u001b[1;32m    647\u001b[0m     \u001b[38;5;28;01mraise\u001b[39;00m \u001b[38;5;167;01mValueError\u001b[39;00m(\u001b[38;5;124m\"\u001b[39m\u001b[38;5;124mNo support for np.int64 index based sparse matrices\u001b[39m\u001b[38;5;124m\"\u001b[39m)\n",
            "File \u001b[0;32m/Library/Frameworks/Python.framework/Versions/3.13/lib/python3.13/site-packages/sklearn/utils/validation.py:2965\u001b[0m, in \u001b[0;36mvalidate_data\u001b[0;34m(_estimator, X, y, reset, validate_separately, skip_check_array, **check_params)\u001b[0m\n\u001b[1;32m   2962\u001b[0m     out \u001b[38;5;241m=\u001b[39m X, y\n\u001b[1;32m   2964\u001b[0m \u001b[38;5;28;01mif\u001b[39;00m \u001b[38;5;129;01mnot\u001b[39;00m no_val_X \u001b[38;5;129;01mand\u001b[39;00m check_params\u001b[38;5;241m.\u001b[39mget(\u001b[38;5;124m\"\u001b[39m\u001b[38;5;124mensure_2d\u001b[39m\u001b[38;5;124m\"\u001b[39m, \u001b[38;5;28;01mTrue\u001b[39;00m):\n\u001b[0;32m-> 2965\u001b[0m     \u001b[43m_check_n_features\u001b[49m\u001b[43m(\u001b[49m\u001b[43m_estimator\u001b[49m\u001b[43m,\u001b[49m\u001b[43m \u001b[49m\u001b[43mX\u001b[49m\u001b[43m,\u001b[49m\u001b[43m \u001b[49m\u001b[43mreset\u001b[49m\u001b[38;5;241;43m=\u001b[39;49m\u001b[43mreset\u001b[49m\u001b[43m)\u001b[49m\n\u001b[1;32m   2967\u001b[0m \u001b[38;5;28;01mreturn\u001b[39;00m out\n",
            "File \u001b[0;32m/Library/Frameworks/Python.framework/Versions/3.13/lib/python3.13/site-packages/sklearn/utils/validation.py:2829\u001b[0m, in \u001b[0;36m_check_n_features\u001b[0;34m(estimator, X, reset)\u001b[0m\n\u001b[1;32m   2826\u001b[0m     \u001b[38;5;28;01mreturn\u001b[39;00m\n\u001b[1;32m   2828\u001b[0m \u001b[38;5;28;01mif\u001b[39;00m n_features \u001b[38;5;241m!=\u001b[39m estimator\u001b[38;5;241m.\u001b[39mn_features_in_:\n\u001b[0;32m-> 2829\u001b[0m     \u001b[38;5;28;01mraise\u001b[39;00m \u001b[38;5;167;01mValueError\u001b[39;00m(\n\u001b[1;32m   2830\u001b[0m         \u001b[38;5;124mf\u001b[39m\u001b[38;5;124m\"\u001b[39m\u001b[38;5;124mX has \u001b[39m\u001b[38;5;132;01m{\u001b[39;00mn_features\u001b[38;5;132;01m}\u001b[39;00m\u001b[38;5;124m features, but \u001b[39m\u001b[38;5;132;01m{\u001b[39;00mestimator\u001b[38;5;241m.\u001b[39m\u001b[38;5;18m__class__\u001b[39m\u001b[38;5;241m.\u001b[39m\u001b[38;5;18m__name__\u001b[39m\u001b[38;5;132;01m}\u001b[39;00m\u001b[38;5;124m \u001b[39m\u001b[38;5;124m\"\u001b[39m\n\u001b[1;32m   2831\u001b[0m         \u001b[38;5;124mf\u001b[39m\u001b[38;5;124m\"\u001b[39m\u001b[38;5;124mis expecting \u001b[39m\u001b[38;5;132;01m{\u001b[39;00mestimator\u001b[38;5;241m.\u001b[39mn_features_in_\u001b[38;5;132;01m}\u001b[39;00m\u001b[38;5;124m features as input.\u001b[39m\u001b[38;5;124m\"\u001b[39m\n\u001b[1;32m   2832\u001b[0m     )\n",
            "\u001b[0;31mValueError\u001b[0m: X has 62 features, but RandomForestRegressor is expecting 1117 features as input."
          ]
        }
      ],
      "source": [
        "import torch\n",
        "import torch.nn as nn\n",
        "import torch.optim as optim\n",
        "from torch.utils.data import DataLoader, TensorDataset\n",
        "import numpy as np\n",
        "import scipy.io as sio\n",
        "from scipy import signal as sig\n",
        "\n",
        "class ECoGCNN(nn.Module):\n",
        "    def __init__(self, input_channels):\n",
        "        super(ECoGCNN, self).__init__()\n",
        "        \n",
        "        # Convolutional layers\n",
        "        self.conv1 = nn.Sequential(\n",
        "            nn.Conv1d(input_channels, 64, kernel_size=5, padding=2),\n",
        "            nn.BatchNorm1d(64),\n",
        "            nn.ReLU(),\n",
        "            nn.MaxPool1d(2),\n",
        "            nn.Dropout(0.3)\n",
        "        )\n",
        "        \n",
        "        self.conv2 = nn.Sequential(\n",
        "            nn.Conv1d(64, 128, kernel_size=5, padding=2),\n",
        "            nn.BatchNorm1d(128),\n",
        "            nn.ReLU(),\n",
        "            nn.MaxPool1d(2),\n",
        "            nn.Dropout(0.3)\n",
        "        )\n",
        "        \n",
        "        self.conv3 = nn.Sequential(\n",
        "            nn.Conv1d(128, 256, kernel_size=5, padding=2),\n",
        "            nn.BatchNorm1d(256),\n",
        "            nn.ReLU(),\n",
        "            nn.MaxPool1d(2),\n",
        "            nn.Dropout(0.3)\n",
        "        )\n",
        "        \n",
        "        # Calculate the size after convolutions\n",
        "        self._to_linear = None\n",
        "        \n",
        "        # Fully connected layers\n",
        "        self.fc1 = nn.Sequential(\n",
        "            nn.Linear(256 * 8, 512),  # Adjusted based on input size\n",
        "            nn.ReLU(),\n",
        "            nn.BatchNorm1d(512),\n",
        "            nn.Dropout(0.3)\n",
        "        )\n",
        "        \n",
        "        self.fc2 = nn.Sequential(\n",
        "            nn.Linear(512, 256),\n",
        "            nn.ReLU(),\n",
        "            nn.BatchNorm1d(256),\n",
        "            nn.Dropout(0.2)\n",
        "        )\n",
        "        \n",
        "        self.fc3 = nn.Linear(256, 5)  # 5 fingers\n",
        "\n",
        "    def forward(self, x):\n",
        "        # Input shape: (batch_size, channels, time_steps)\n",
        "        x = self.conv1(x)\n",
        "        x = self.conv2(x)\n",
        "        x = self.conv3(x)\n",
        "        \n",
        "        # Flatten\n",
        "        x = x.view(x.size(0), -1)\n",
        "        \n",
        "        # Fully connected layers\n",
        "        x = self.fc1(x)\n",
        "        x = self.fc2(x)\n",
        "        x = self.fc3(x)\n",
        "        \n",
        "        return x\n",
        "\n",
        "def train_model(model, train_loader, val_loader, device, num_epochs=100):\n",
        "    criterion = nn.MSELoss()\n",
        "    optimizer = optim.Adam(model.parameters(), lr=0.001)\n",
        "    \n",
        "    best_val_loss = float('inf')\n",
        "    patience = 10\n",
        "    patience_counter = 0\n",
        "    \n",
        "    for epoch in range(num_epochs):\n",
        "        # Training\n",
        "        model.train()\n",
        "        train_loss = 0.0\n",
        "        for inputs, targets in train_loader:\n",
        "            inputs, targets = inputs.to(device), targets.to(device)\n",
        "            \n",
        "            optimizer.zero_grad()\n",
        "            outputs = model(inputs)\n",
        "            loss = criterion(outputs, targets)\n",
        "            loss.backward()\n",
        "            optimizer.step()\n",
        "            \n",
        "            train_loss += loss.item()\n",
        "        \n",
        "        # Validation\n",
        "        model.eval()\n",
        "        val_loss = 0.0\n",
        "        with torch.no_grad():\n",
        "            for inputs, targets in val_loader:\n",
        "                inputs, targets = inputs.to(device), targets.to(device)\n",
        "                outputs = model(inputs)\n",
        "                val_loss += criterion(outputs, targets).item()\n",
        "        \n",
        "        # Early stopping\n",
        "        if val_loss < best_val_loss:\n",
        "            best_val_loss = val_loss\n",
        "            patience_counter = 0\n",
        "            torch.save(model.state_dict(), 'best_model.pth')\n",
        "        else:\n",
        "            patience_counter += 1\n",
        "            if patience_counter >= patience:\n",
        "                print(f\"Early stopping at epoch {epoch}\")\n",
        "                break\n",
        "        \n",
        "        print(f\"Epoch {epoch+1}/{num_epochs} - Train Loss: {train_loss/len(train_loader):.4f} - Val Loss: {val_loss/len(val_loader):.4f}\")\n",
        "# Load training data\n",
        "train_file = 'raw_training_data.mat'\n",
        "train_data = sio.loadmat(train_file)\n",
        "ecog = train_data['train_ecog']\n",
        "data_glove = train_data['train_dg']\n",
        "\n",
        "# Train a model for each subject\n",
        "cnn_models = []\n",
        "\n",
        "for subject_idx in range(3):\n",
        "    print(f\"\\nTraining CNN for subject {subject_idx + 1}\")\n",
        "    \n",
        "    # Get subject data\n",
        "    X = ecog[subject_idx][0]  # Raw ECoG data\n",
        "    y = data_glove[subject_idx][0]  # Glove data\n",
        "    \n",
        "    # Reshape data for CNN (batch_size, channels, time_steps)\n",
        "    X = torch.FloatTensor(X)  # Shape: (time_steps, channels)\n",
        "    X = X.permute(1, 0)      # Shape: (channels, time_steps)\n",
        "    \n",
        "    # Create train/val split\n",
        "    train_size = int(0.8 * X.shape[1])\n",
        "    X_train = X[:, :train_size]  # Shape: (channels, train_time_steps)\n",
        "    X_val = X[:, train_size:]    # Shape: (channels, val_time_steps)\n",
        "    \n",
        "    # Reshape y to match X\n",
        "    y = torch.FloatTensor(y)\n",
        "    y_train = y[:train_size]     # Shape: (train_time_steps, 5)\n",
        "    y_val = y[train_size:]       # Shape: (val_time_steps, 5)\n",
        "    \n",
        "    # Create data loaders\n",
        "    train_dataset = TensorDataset(X_train.T.unsqueeze(0), y_train)  # Add batch dimension\n",
        "    val_dataset = TensorDataset(X_val.T.unsqueeze(0), y_val)        # Add batch dimension\n",
        "    \n",
        "    train_loader = DataLoader(train_dataset, batch_size=32, shuffle=True)\n",
        "    val_loader = DataLoader(val_dataset, batch_size=32)\n",
        "    \n",
        "    # Create and train model\n",
        "    model = ECoGCNN(input_channels=X.shape[0]).to(device)\n",
        "    train_model(model, train_loader, val_loader, device)\n",
        "    \n",
        "    # Load best model\n",
        "    model.load_state_dict(torch.load('best_model.pth'))\n",
        "    cnn_models.append(model)\n",
        "\n",
        "# Load leaderboard data\n",
        "test_file = 'leaderboard_data.mat'\n",
        "test_data = sio.loadmat(test_file)\n",
        "leaderboard_ecog = test_data['leaderboard_ecog']\n",
        "\n",
        "# Make predictions on leaderboard data\n",
        "all_predictions = []\n",
        "\n",
        "for subject_idx in range(3):\n",
        "    print(f\"\\nMaking predictions for subject {subject_idx + 1}\")\n",
        "    \n",
        "    # Get leaderboard data for this subject\n",
        "    subject_data = leaderboard_ecog[subject_idx][0]\n",
        "    \n",
        "    # Prepare data for prediction\n",
        "    subject_data = torch.FloatTensor(subject_data)  # Shape: (time_steps, channels)\n",
        "    subject_data = subject_data.permute(1, 0)       # Shape: (channels, time_steps)\n",
        "    subject_data = subject_data.unsqueeze(0)        # Add batch dimension\n",
        "    \n",
        "    # Make predictions\n",
        "    model = cnn_models[subject_idx]\n",
        "    model.eval()\n",
        "    with torch.no_grad():\n",
        "        subject_predictions = model(subject_data)\n",
        "    \n",
        "    # Convert to numpy and ensure correct shape\n",
        "    subject_predictions = subject_predictions.cpu().numpy()\n",
        "    if subject_predictions.shape != (147500, 5):\n",
        "        print(f\"Warning: Subject {subject_idx + 1} predictions shape is {subject_predictions.shape}, expected (147500, 5)\")\n",
        "    \n",
        "    all_predictions.append(subject_predictions)\n",
        "\n",
        "# Save predictions\n",
        "predicted_dg = np.array(all_predictions, dtype=object).reshape(3, 1)\n",
        "sio.savemat('predictions.mat', {'predicted_dg': predicted_dg})"
      ]
    },
    {
      "cell_type": "code",
      "execution_count": 79,
      "metadata": {},
      "outputs": [
        {
          "data": {
            "text/plain": [
              "array([[[[-0.07004402868614872, 0.6365203894944518,\n",
              "          -0.06311677901494209, -0.37746294409485776,\n",
              "          -0.09565256062601207],\n",
              "         [-0.06876803228523684, 0.6390513502026006,\n",
              "          -0.07674554528613538, -0.3823821806261533,\n",
              "          -0.09398768487466631],\n",
              "         [-0.06748246320529962, 0.6413303507188032,\n",
              "          -0.08976101770024308, -0.38698450681899693,\n",
              "          -0.09223088328409079],\n",
              "         ...,\n",
              "         [-0.0738159830145107, 0.6274623968253409,\n",
              "          -0.018796592076632593, -0.3607960176282615,\n",
              "          -0.09996036138024317],\n",
              "         [-0.07256777028745572, 0.6307210273970111,\n",
              "          -0.034115910141626425, -0.3666701208020322,\n",
              "          -0.09865242247617598],\n",
              "         [-0.07131054571725594, 0.6337420218327935,\n",
              "          -0.04889839764492974, -0.3722257634072538,\n",
              "          -0.09721198612431796]]],\n",
              "\n",
              "\n",
              "       [[[-0.3105140262558145, -0.31068774956097084,\n",
              "          0.03529447967821259, -0.1489543954284475,\n",
              "          -0.13656942688691778],\n",
              "         [-0.3129823273680554, -0.30901290529078684,\n",
              "          0.03837352094005528, -0.15068686144195265,\n",
              "          -0.14032211060828126],\n",
              "         [-0.3154522735513186, -0.30730496106344174,\n",
              "          0.04144196106981959, -0.15229447082935052,\n",
              "          -0.14393628988497278],\n",
              "         ...,\n",
              "         [-0.30321761954561616, -0.3154545287736181,\n",
              "          0.026079960791920365, -0.14292606367322402,\n",
              "          -0.12451924773017102],\n",
              "         [-0.30562173578677554, -0.3139144243806046,\n",
              "          0.02913895211030797, -0.14508203620209187,\n",
              "          -0.12866377328793852],\n",
              "         [-0.30805719233867157, -0.3123235541574775,\n",
              "          0.03221339361346582, -0.1470888272165446,\n",
              "          -0.13268196196446697]]],\n",
              "\n",
              "\n",
              "       [[[-0.2281458916383161, -0.12826120703709412,\n",
              "          -0.10193251073173393, -0.046055978847430304,\n",
              "          -0.29811611826131595],\n",
              "         [-0.22793695972583677, -0.12910358813763634,\n",
              "          -0.10783955593689719, -0.06638589215890006,\n",
              "          -0.31447969973502127],\n",
              "         [-0.22765849428483906, -0.12962882925920843,\n",
              "          -0.11334552682188914, -0.08565773060882778,\n",
              "          -0.330159883155168],\n",
              "         ...,\n",
              "         [-0.2283259381381392, -0.12373109284845807,\n",
              "          -0.08180779788555267, 0.021000529838442607,\n",
              "          -0.24520870290739977],\n",
              "         [-0.2283432607375959, -0.12558395083322915,\n",
              "          -0.088915236669168, -0.0023321196665054295,\n",
              "          -0.2634507590823855],\n",
              "         [-0.2282822989454074, -0.12709116693609113,\n",
              "          -0.09562412621171613, -0.02469491299070644,\n",
              "          -0.28109675926569055]]]], shape=(3, 1, 147500, 5), dtype=object)"
            ]
          },
          "execution_count": 79,
          "metadata": {},
          "output_type": "execute_result"
        }
      ],
      "source": [
        "predicted_dg"
      ]
    },
    {
      "cell_type": "code",
      "execution_count": 84,
      "metadata": {},
      "outputs": [
        {
          "name": "stdout",
          "output_type": "stream",
          "text": [
            "Overall shape: (3, 1)\n",
            "Type: <class 'numpy.ndarray'>\n",
            "\n",
            "Subject 1:\n",
            "Shape: (147500, 5)\n",
            "Type: <class 'numpy.ndarray'>\n",
            "First few values: [[-0.07004403  0.63652039 -0.06311678 -0.37746294 -0.09565256]\n",
            " [-0.06876803  0.63905135 -0.07674555 -0.38238218 -0.09398768]\n",
            " [-0.06748246  0.64133035 -0.08976102 -0.38698451 -0.09223088]\n",
            " [-0.06618732  0.64335308 -0.10214141 -0.39127147 -0.09039562]\n",
            " [-0.0648827   0.64511549 -0.11386686 -0.39524512 -0.08849526]]\n",
            "Last few values: [[-0.07628696  0.62025314  0.01333502 -0.34809504 -0.10212514]\n",
            " [-0.07505556  0.62397131 -0.00296942 -0.35460398 -0.10112237]\n",
            " [-0.07381598  0.6274624  -0.01879659 -0.36079602 -0.09996036]\n",
            " [-0.07256777  0.63072103 -0.03411591 -0.36667012 -0.09865242]\n",
            " [-0.07131055  0.63374202 -0.0488984  -0.37222576 -0.09721199]]\n",
            "\n",
            "Subject 2:\n",
            "Shape: (147500, 5)\n",
            "Type: <class 'numpy.ndarray'>\n",
            "First few values: [[-0.31051403 -0.31068775  0.03529448 -0.1489544  -0.13656943]\n",
            " [-0.31298233 -0.30901291  0.03837352 -0.15068686 -0.14032211]\n",
            " [-0.31545227 -0.30730496  0.04144196 -0.15229447 -0.14393629]\n",
            " [-0.31791417 -0.30556988  0.04449139 -0.15378556 -0.14740858]\n",
            " [-0.32035846 -0.30381365  0.04751358 -0.15516851 -0.15073594]]\n",
            "Last few values: [[-0.29854331 -0.31835954  0.02004403 -0.13813577 -0.11587035]\n",
            " [-0.30085482 -0.31693812  0.02304532 -0.14061315 -0.1202531 ]\n",
            " [-0.30321762 -0.31545453  0.02607996 -0.14292606 -0.12451925]\n",
            " [-0.30562174 -0.31391442  0.02913895 -0.14508204 -0.12866377]\n",
            " [-0.30805719 -0.31232355  0.03221339 -0.14708883 -0.13268196]]\n",
            "\n",
            "Subject 3:\n",
            "Shape: (147500, 5)\n",
            "Type: <class 'numpy.ndarray'>\n",
            "First few values: [[-0.22814589 -0.12826121 -0.10193251 -0.04605598 -0.29811612]\n",
            " [-0.22793696 -0.12910359 -0.10783956 -0.06638589 -0.3144797 ]\n",
            " [-0.22765849 -0.12962883 -0.11334553 -0.08565773 -0.33015988]\n",
            " [-0.22731354 -0.1298484  -0.11845176 -0.10384712 -0.34513063]\n",
            " [-0.22690521 -0.12977466 -0.12316064 -0.1209323  -0.35936752]]\n",
            "Last few values: [[-0.22804557 -0.11896011 -0.06641081  0.07043607 -0.20706558]\n",
            " [-0.22822759 -0.12152522 -0.07430491  0.04526878 -0.22640255]\n",
            " [-0.22832594 -0.12373109 -0.0818078   0.02100053 -0.2452087 ]\n",
            " [-0.22834326 -0.12558395 -0.08891524 -0.00233212 -0.26345076]\n",
            " [-0.2282823  -0.12709117 -0.09562413 -0.02469491 -0.28109676]]\n"
          ]
        }
      ],
      "source": [
        "import scipy.io as sio\n",
        "import numpy as np\n",
        "\n",
        "# Load the predictions file\n",
        "predictions = sio.loadmat('predictions.mat')\n",
        "\n",
        "# Get the predicted_dg array\n",
        "predicted_dg = predictions['predicted_dg']\n",
        "\n",
        "# Check the shape and contents\n",
        "print(f\"Overall shape: {predicted_dg.shape}\")\n",
        "print(f\"Type: {type(predicted_dg)}\")\n",
        "\n",
        "# Check each subject's predictions\n",
        "for i in range(3):\n",
        "    subject_pred = predicted_dg[i, 0]\n",
        "    print(f\"\\nSubject {i+1}:\")\n",
        "    print(f\"Shape: {subject_pred.shape}\")\n",
        "    print(f\"Type: {type(subject_pred)}\")\n",
        "    print(f\"First few values: {subject_pred[:5, :]}\")\n",
        "    print(f\"Last few values: {subject_pred[-5:, :]}\")"
      ]
    }
  ],
  "metadata": {
    "colab": {
      "collapsed_sections": [
        "_ehuowkc1TVO",
        "ZhDgvv4T1X4b",
        "n0Nbsp0F1V_6"
      ],
      "provenance": [],
      "toc_visible": true
    },
    "kernelspec": {
      "display_name": "Python 3",
      "language": "python",
      "name": "python3"
    },
    "language_info": {
      "codemirror_mode": {
        "name": "ipython",
        "version": 3
      },
      "file_extension": ".py",
      "mimetype": "text/x-python",
      "name": "python",
      "nbconvert_exporter": "python",
      "pygments_lexer": "ipython3",
      "version": "3.13.0"
    }
  },
  "nbformat": 4,
  "nbformat_minor": 0
}
