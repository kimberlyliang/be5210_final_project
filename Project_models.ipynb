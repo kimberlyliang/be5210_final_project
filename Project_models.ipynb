{
  "cells": [
    {
      "cell_type": "markdown",
      "metadata": {
        "id": "sQb8UNexzK6U"
      },
      "source": [
        "# BE 521: Final Project Part 1\n",
        "Spring 2025\n",
        "\n",
        "Adapted by Kevin Xie\n",
        "\n",
        "Updated by Zhongchuan Xu\n",
        "\n",
        "32 Points\n",
        "\n",
        "Objective: Predict finger movements from ECoG Recordings\n",
        "\n",
        "Due: April 10th\n"
      ]
    },
    {
      "cell_type": "markdown",
      "metadata": {
        "id": "_ehuowkc1TVO"
      },
      "source": [
        "## Important Deadlines\n",
        "* Final Project Part 1 (Canvas)\n",
        " * Due: April 10th\n",
        " * 32 Points\n",
        "* Team Registration\n",
        " * Due: April 10th\n",
        " * 5 Points\n",
        "* Team Responsibilities (Canvas)\n",
        " * Due: April 14th\n",
        " * 3 Point\n",
        "* Checkpoint 1, r > 0.33\n",
        " * Due: April 17th\n",
        " * 20 Points\n",
        "* Checkpoint 2, r > 0.45\n",
        " * Due: April 24th\n",
        " * 15 Points\n",
        "* End of competition, submit algorithm (Canvas):\n",
        " * Due: April 25th\n",
        " * 15 Points\n",
        "* Final Report\n",
        " * Due: April 27th\n",
        " * 60 Points\n",
        "* Competition results (Final class session)\n",
        " * On: April 30th\n",
        "\n",
        "The grading is structured so that going the extra mile is definitely rewarded. We want you to show what you've learned this semester, and to have some fun!"
      ]
    },
    {
      "cell_type": "markdown",
      "metadata": {
        "id": "ZhDgvv4T1X4b"
      },
      "source": [
        "## Writing Your Code\n",
        "To get started with the final project we have provided a a series of method stubs for you to fill out. Your job for part 1 of the final project is to build a prediction pipeline that takes in the ECoG and dataglove finger angle recordings (serving as the data and labels respectively), then uses machine learning methods to generate predicted finger angles from the ECoG signals. The functions you will develop in this assignment are as follows:\n",
        "* `get_windowed_feats` This function will take in raw ECoG data, and use the 2 following helper functions to filter the data, calculate sliding-window features.\n",
        " * `filter_data` This function will apply a filter to the raw data and return cleaned data\n",
        " * `get_features` This function will take in a window of cleaned data and return a vector of features for that window\n",
        "* `create_R_matrix` This function will take in a feature matrix and return a response matrix as an adaptation of the optimal linear decoder method.\n",
        "\n"
      ]
    },
    {
      "cell_type": "markdown",
      "metadata": {
        "id": "8u5g0qVr2C2M"
      },
      "source": [
        "## Optimal Linear Decoder\n",
        "You will use a modified version of the **optimal linear decoder** method as described in Warland et al., 1997. We will recapitulate the method in this section, but consult the paper for more details. Our ultimate goal is to predict the angle of each finger as it moves over time using data recorded from the ECoG channels.\n",
        "\n",
        "The position data is captured for 300 seconds, which you will split up into $M$ total time bins, and the number of ECoG channels, $\\nu$, is 61, 46, and 64 for subject 1, 2, and 3 respectively.\n",
        "\n",
        "The paradigm we adapt here tries to predict finger angle at a given time window using ECoG features calculated over the preceding $N$ time windows, using\n",
        "the following steps:\n",
        "\n",
        "First, $p$ features will be calculated across all $\\nu$ ECoG channels over $M$ total time windows to get a feature matrix of shape $\\bigl(M, (\\nu \\times p)\\bigr)$\n",
        "\n",
        "Then, following the approach that Warland et al., 1997 takes, we will construct a row vector corresponding to each time bin, that contains features for all the ECoG channels over the preceding *N* time bins (in the paper, spike counts are their features and they index neurons instead of ECoG channels). Thus, there will be a good amount of redundancy between row vectors of adjacent time bins, but that is okay.\n",
        "\n",
        "Let $r^{c,\\phi}_t$ be the value of the feature in window $t \\in \\{1,2,\\dots,M\\}$, channel $c\\in\\{1,2,\\dots,\\nu\\}$ and with feature $\\phi\\in\\{1,2,\\dots,p\\}$. Let the response matrix $R \\in \\mathbb{R}^{M \\times (1+N \\cdot p \\cdot \\nu )}$ be defined as:\n",
        "\n",
        "$$R = \\begin{bmatrix}\n",
        "\\mathbf{1} & r^{(1,1)}_1 & r^{(1,1)}_1 & \\cdots & r^{(1,1)}_1 & r^{(1,1)}_1 & r^{(1,2)}_1 & \\cdots & r^{(1,2)}_1 & \\cdots & r^{(\\nu,p)}_1 & \\cdots & r^{(\\nu,p)}_1\\\\\n",
        "\\mathbf{1} & r^{(1,1)}_1 & r^{(1,1)}_1 & \\cdots & r^{(1,1)}_1 & r^{(1,1)}_2 & r^{(1,2)}_1 & \\cdots & r^{(1,2)}_2 & \\cdots & r^{(\\nu,p)}_1 & \\cdots & r^{(\\nu,p)}_2\\\\\n",
        "\\mathbf{1} & r^{(1,1)}_1 & r^{(1,1)}_1 & \\cdots & r^{(1,1)}_2 & r^{(1,1)}_3 & r^{(1,2)}_1 & \\cdots & r^{(1,2)}_3 & \\cdots & r^{(\\nu,p)}_1 & \\cdots & r^{(\\nu,p)}_3\\\\\n",
        "\\vdots   & \\vdots     & \\vdots     & \\ddots & \\vdots     & \\vdots     & \\vdots     & \\ddots & \\vdots   & \\cdots & \\vdots         & \\ddots & \\vdots\\\\\n",
        "\\mathbf{1} & r^{(1,1)}_1 & r^{(1,1)}_2 & \\cdots & r^{(1,1)}_{N-1} & r^{(1,1)}_N & r^{(1,2)}_1 & \\cdots & r^{(1,2)}_N & \\cdots & r^{(\\nu,p)}_1 & \\cdots & r^{(\\nu,p)}_N\\\\\n",
        "\\mathbf{1} & r^{(1,1)}_2 & r^{(1,1)}_3 & \\cdots &r^{(1,1)}_{N} & r^{(1,1)}_{N+1} & r^{(1,2)}_2 & \\cdots & r^{(1,2)}_{N+1} & \\cdots & r^{(\\nu,p)}_2 & \\cdots & r^{(\\nu,p)}_{N+1}\\\\\n",
        "\\vdots   & \\vdots     & \\vdots     & \\ddots & \\vdots     & \\vdots     & \\vdots     & \\ddots & \\vdots   & \\cdots & \\vdots         & \\ddots & \\vdots\\\\\n",
        "\\mathbf{1} & r^{(1,1)}_{M-N+1} & r^{(1,1)}_{M-N+2} & \\cdots & r^{(1,1)}_{M-1} & r^{(1,1)}_M & r^{(1,2)}_{M-N+1} & \\cdots & r^{(1,2)}_M & \\cdots & r^{(\\nu,p)}_{M-N+1} & \\cdots & r^{(\\nu,p)}_M\\\\\n",
        "\\end{bmatrix}$$\n",
        "\n"
      ]
    },
    {
      "cell_type": "markdown",
      "metadata": {
        "id": "YkrRTSYm3qlA"
      },
      "source": [
        "This is also referred to as the design or feature matrix, with each column being a predictor, or feature. The column of 1’s accounts for the intercept term in linear regression/decoding. Here we are repeating the first windows $N-1$ times as the padding of the first windows. Make sure you understand what this matrix means before moving on.\n",
        "\n",
        "We denote the target matrix as $Y \\in \\mathbb{R}^{M \\times 5}$ and the prediction matrix (e.g. the predicted finger angles) as $\\hat{Y} \\in \\mathbb{R}^{M \\times 5}$. Note that in Warland et al., 1997, this quantity is referred to as the stimulus vector since they are talking about decoding the stimulus from neural data after it. We, on the other hand, are trying to decode finger positions using the ECoG data before it, but we can conveniently use the same method. Our goal is to find some optimal weight matrix or filter $f \\in \\mathbb{R}^{(1+N \\cdot p \\cdot \\nu ) \\times 5}$ that minimizes the mean squared error:\n",
        "\n",
        "$$f^* = \\operatorname{argmin}_{f} \\, \\mathcal{L}(f) = \\operatorname{argmin}_{f} \\left\\|Y - \\hat{Y}\\right\\|^2,$$\n",
        "where $\\hat{Y} = Rf$\n",
        "\n",
        "We start with the mean squared error (MSE) loss function:\n",
        "$$\n",
        "\\mathcal{L}(f) = \\left\\|Y - R\\,f\\right\\|^2 = (Y - R\\,f)^\\top (Y - R\\,f)\n",
        "$$\n",
        "\n",
        "To minimize the loss, we take the derivative with respect to the weight matrix $f$ and set it equal to zero:\n",
        "$$\n",
        "\\frac{\\partial \\mathcal{L}}{\\partial f} = -2\\,R^\\top (Y - R\\,f) = 0\n",
        "$$\n",
        "\n",
        "This implies:\n",
        "$$\n",
        "R^\\top Y = R^\\top R\\,f\n",
        "$$\n",
        "\n",
        "Assuming that $R^\\top R$ is invertible, we solve for $f$:\n",
        "$$\n",
        "f = \\left(R^\\top R\\right)^{-1} R^\\top Y\n",
        "$$\n",
        "\n",
        "This is the the analytic form for the optimal filter $f$ that minimizes the MSE loss.\n",
        "\n",
        "This equation should take a familiar form. Warland et al., 1997 don’t refer to it as such, but this is exactly the same as linear regression, one of the most commonly used algorithms in practical machine learning. Not only is this algorithm remarkably powerful, but it has a beautiful analytic form for learning the “weights” (here, the $f$ matrix), a rarity in a field where almost all optimizations involve some sort of iterative algorithm. After learning the filter weights $f$, we can calculate the optimal predictions as: $$\\hat{Y} = Rf$$"
      ]
    },
    {
      "cell_type": "markdown",
      "metadata": {
        "id": "n0Nbsp0F1V_6"
      },
      "source": [
        "## Dataset\n",
        "The dataset for part 1 is stored within `final_proj_part1_data.pkl`. The `.pkl` file type is a pickle file, which stores python objects. You can open the `.pkl` file with this code.\n",
        "```\n",
        "with open('final_proj_part1_data.pkl', 'rb') as f:\n",
        "  proj_data = pickle.load(f)\n",
        "```\n",
        "This stores the data inside the file as a variable named proj_data.\n",
        "\n",
        "**NOTE: Python versions don't pickle with each other very well. This pickle file was made in Google Colab. If you are running your own installation of Python and cannot load the file, we recommend you use Colab**\n",
        "\n",
        "There are 3 subjects, each with their own Data Glove data (the glove they used to capture hand movements), and ECoG data. The data is represented as a dictionary with keys `'data_glove'` and `'ecog'`, storing the data glove and ecog data, respectively. These keys map to python lists of 3 items. Each item is an np.ndarray corresponding to a subject's data. See the pseudcode below.\n",
        "\n",
        "```\n",
        "proj_data = {\n",
        "  'data_glove':[np.ndarray for subject 1, np.ndarray for subject 2, np.ndarray for subject 3],\n",
        "  'ecog':[np.ndarray for subject 1, np.ndarray for subject 2, np.ndarray for subject 3]\n",
        "}\n",
        "```\n",
        "\n",
        "All np.ndarray shapes for `'data_glove'` should be $(T,5)$, where $T$ is the number of samples in the signal, and 5 is the number of fingers.\n",
        "\n",
        "The np.ndarray shapes for `'ecog'` are $(T, 61)$, $(T, 46)$, and $(T,64)$, where T is the number of samples in the signal, and each subject had 61, 46, and 64 ecog channels, respectively.\n",
        "\n",
        "**The sampling rate of the data glove and ecog was 1000 Hz**\n",
        "\n",
        "<!-- The dataset is also on IEEG\n",
        "* Subject 1\n",
        " * I521_Sub1_Training_ecog - Training ECoG \\\n",
        " * I521_Sub1_Training_dg - Training Data Glove \\\n",
        " * I521_Sub1_Leaderboard_ecog - Testing ECoG\n",
        "* Subject 2\n",
        " * I521_Sub2_Training_ecog - Training ECoG \\\n",
        " * I521_Sub2_Training_dg - Training Data Glove \\\n",
        " * I521_Sub2_Leaderboard_ecog - Testing ECoG\n",
        "* Subject 3\n",
        " * I521_Sub3_Training_ecog - Training ECoG \\\n",
        " * I521_Sub3_Training_dg - Training Data Glove \\\n",
        " * I521_Sub3_Leaderboard_ecog - Testing ECoG -->\n",
        "\n",
        "Your task is to develop an algorithm to use the ECoG to predict finger movements that are captured by the Data Glove."
      ]
    },
    {
      "cell_type": "code",
      "execution_count": 1,
      "metadata": {
        "ExecuteTime": {
          "end_time": "2025-03-24T22:12:01.882195Z",
          "start_time": "2025-03-24T22:12:01.879651Z"
        },
        "id": "8w4AGrXqUt5Q"
      },
      "outputs": [],
      "source": [
        "import scipy.io as sio\n",
        "import matplotlib.pyplot as plt\n",
        "import numpy as np\n",
        "import pandas as pd\n",
        "import pickle\n",
        "from scipy.stats import pearsonr\n",
        "from scipy import signal as sig"
      ]
    },
    {
      "cell_type": "code",
      "execution_count": 19,
      "metadata": {},
      "outputs": [],
      "source": [
        "train_file = 'raw_training_data.mat'\n",
        "test_file = 'leaderboard_data.mat'\n",
        "\n",
        "# load training data\n",
        "train_data = sio.loadmat(train_file)\n",
        "train_ecog = train_data['train_ecog']\n",
        "data_glove = train_data['train_dg']\n",
        "\n",
        "# leaderboard testing data\n",
        "test_data = sio.loadmat(test_file)\n",
        "test_ecog = test_data['leaderboard_ecog']"
      ]
    },
    {
      "cell_type": "code",
      "execution_count": 29,
      "metadata": {
        "ExecuteTime": {
          "end_time": "2025-03-24T22:12:01.921163Z",
          "start_time": "2025-03-24T22:12:01.915534Z"
        },
        "id": "CqfertGZGuYQ"
      },
      "outputs": [],
      "source": [
        "def filter_data(raw_eeg, fs=1000):\n",
        "  \"\"\"\n",
        "  Write a filter function to clean underlying data.\n",
        "  Filter type and parameters are up to you. Points will be awarded for reasonable filter type, parameters and application.\n",
        "  Please note there are many acceptable answers, but make sure you aren't throwing out crucial data or adversly\n",
        "  distorting the underlying data!\n",
        "\n",
        "  Input:\n",
        "    raw_eeg (samples x channels): the raw signal\n",
        "    fs: the sampling rate (1000 for this dataset)\n",
        "  Output:\n",
        "    clean_data (samples x channels): the filtered signal\n",
        "  \"\"\"\n",
        "  def notch_filter(data, freq, fs, Q=30):\n",
        "      \"\"\"Apply a notch filter at a specific frequency.\"\"\"\n",
        "      b, a = sig.iirnotch(w0=freq/(fs/2), Q=Q)\n",
        "      return sig.filtfilt(b, a, data, axis=0)\n",
        "\n",
        "  def bandpass_filter(data, lowcut, highcut, fs, order=4):\n",
        "      \"\"\"Apply a Butterworth bandpass filter.\"\"\"\n",
        "      nyq = 0.5 * fs\n",
        "      low = lowcut / nyq\n",
        "      high = highcut / nyq\n",
        "      b, a = sig.butter(order, [low, high], btype='band')\n",
        "      return sig.filtfilt(b, a, data, axis=0)\n",
        "\n",
        "    # Apply notch filters at 60 Hz harmonics (up to 300 Hz)\n",
        "  filtered = raw_eeg.copy()\n",
        "  for freq in [60, 120, 180, 240, 300]:\n",
        "      filtered = notch_filter(filtered, freq, fs)\n",
        "\n",
        "    # Apply bandpass filter (default 1–200 Hz)\n",
        "  clean_data = bandpass_filter(filtered, lowcut=1, highcut=200, fs=fs)\n",
        "\n",
        "  return clean_data"
      ]
    },
    {
      "cell_type": "code",
      "execution_count": 33,
      "metadata": {
        "ExecuteTime": {
          "end_time": "2025-03-24T22:12:01.925861Z",
          "start_time": "2025-03-24T22:12:01.921163Z"
        },
        "id": "iPc2lya7_7Af"
      },
      "outputs": [],
      "source": [
        "#Your code here\n",
        "train_ecog_0 = train_ecog[0][0]"
      ]
    },
    {
      "cell_type": "code",
      "execution_count": 36,
      "metadata": {},
      "outputs": [],
      "source": [
        "filtered_0 = filter_data(train_ecog[0][0])"
      ]
    },
    {
      "cell_type": "code",
      "execution_count": 37,
      "metadata": {},
      "outputs": [
        {
          "data": {
            "text/plain": [
              "<matplotlib.legend.Legend at 0x2f0458b90>"
            ]
          },
          "execution_count": 37,
          "metadata": {},
          "output_type": "execute_result"
        },
        {
          "data": {
            "image/png": "[encoded data removed]",
            "text/plain": [
              "<Figure size 1500x600 with 1 Axes>"
            ]
          },
          "metadata": {},
          "output_type": "display_data"
        }
      ],
      "source": [
        "plt.figure(figsize=(15, 6))\n",
        "plt.plot(train_ecog_0[:, 0], label='Raw Channel 0', alpha=0.5)\n",
        "plt.plot(filtered_0[:, 0], label='Filtered Channel 0', linewidth=1)\n",
        "plt.title('Comparison of Raw vs Filtered ECoG Signal (Channel 0)')\n",
        "plt.xlabel('Sample')\n",
        "plt.ylabel('Amplitude')\n",
        "plt.xlim([0, 1000]) \n",
        "plt.legend()"
      ]
    },
    {
      "cell_type": "markdown",
      "metadata": {},
      "source": [
        "I used a filter frequency of 1-200 Hz for the bandpass filter and a notch filter at 60Hz harmonics up to 300 Hz."
      ]
    },
    {
      "cell_type": "markdown",
      "metadata": {
        "id": "v1ZfISDvuuzI"
      },
      "source": [
        "# 2. Calculating Features (12 points)\n",
        "\n",
        "Here you will complete the `get_windowed_feats` and `get_features` functions."
      ]
    },
    {
      "cell_type": "markdown",
      "metadata": {
        "id": "qL3CMDPovL3l"
      },
      "source": [
        "## 1.\n",
        "We will calculate features across sliding time windows. if we use a suggested window length of 100ms with a 50ms window overlap, how many feature windows, $M$, will we have if we computed features using all the data in a given subject? Feel free to re-use code from previous homeworks."
      ]
    },
    {
      "cell_type": "code",
      "execution_count": 38,
      "metadata": {},
      "outputs": [],
      "source": [
        "fs = 1000\n",
        "xLen = len(train_ecog[0][0])"
      ]
    },
    {
      "cell_type": "code",
      "execution_count": 39,
      "metadata": {
        "ExecuteTime": {
          "end_time": "2025-03-24T22:12:01.937092Z",
          "start_time": "2025-03-24T22:12:01.934644Z"
        },
        "id": "Gc5y0fcb__N3"
      },
      "outputs": [],
      "source": [
        "#Your code here\n",
        "winLen= 0.1\n",
        "winDisp = 0.05\n",
        "\n",
        "def NumWins(xLen, fs, winLen, winDisp):\n",
        "  winLen = winLen * fs\n",
        "  winDisp = winDisp * fs\n",
        "  return int((xLen - winLen) // winDisp + 1)"
      ]
    },
    {
      "cell_type": "code",
      "execution_count": 40,
      "metadata": {},
      "outputs": [
        {
          "data": {
            "text/plain": [
              "5999"
            ]
          },
          "execution_count": 40,
          "metadata": {},
          "output_type": "execute_result"
        }
      ],
      "source": [
        "NumWins(xLen, fs, winLen, winDisp)"
      ]
    },
    {
      "cell_type": "code",
      "execution_count": 41,
      "metadata": {},
      "outputs": [],
      "source": [
        "def moving_win_feats(x, fs, winLen, winDisp, featFn):\n",
        "  numWins = NumWins(len(x), fs, winLen, winDisp)\n",
        "  winLen = winLen * fs\n",
        "  winDisp = winDisp * fs\n",
        "  feature_values = np.zeros(int(numWins))\n",
        "  for i in range(int(numWins)):\n",
        "    start = int(i * winDisp)\n",
        "    end = int(start + winLen)\n",
        "    feature_values[i] = featFn(x[start:end])\n",
        "  return feature_values"
      ]
    },
    {
      "cell_type": "code",
      "execution_count": 42,
      "metadata": {
        "ExecuteTime": {
          "end_time": "2025-03-24T22:12:01.969410Z",
          "start_time": "2025-03-24T22:12:01.967096Z"
        },
        "id": "yawiKb_ov4Ko"
      },
      "outputs": [],
      "source": [
        "from scipy.stats import skew, kurtosis\n",
        "def bandpower(data, fs, fmin, fmax):\n",
        "      f, Pxx = sig.welch(data, fs=fs, nperseg=min(256, len(data)), nfft=1024)\n",
        "      band = (f >= fmin) & (f <= fmax)\n",
        "      return np.trapz(Pxx[band], f[band])\n",
        "\n",
        "def get_features(filtered_window, fs=1000):\n",
        "  \"\"\"\n",
        "    Write a function that calculates features for a given filtered window.\n",
        "    Feel free to use features you have seen before in this class, features that\n",
        "    have been used in the literature, or design your own!\n",
        "\n",
        "    Input:\n",
        "      filtered_window (window_samples x channels): the window of the filtered ecog signal\n",
        "      fs: sampling rate\n",
        "    Output:\n",
        "      features (channels x num_features): the features calculated on each channel for the window\n",
        "  \"\"\"\n",
        "  \n",
        "  window_samples, num_channels = filtered_window.shape\n",
        "  num_features = 6\n",
        "  features = np.zeros((num_channels, num_features))\n",
        "\n",
        "  for ch in range(num_channels):\n",
        "      signal = filtered_window[:, ch]\n",
        "      features[ch, 0] = np.mean(signal)                        # average\n",
        "      # commented out a couple of features because I wanted to keep it the same as the paper for now but will uncomment out for the future trials\n",
        "      # features[ch, 1] = np.std(signal)                         # STD\n",
        "      # features[ch, 2] = skew(signal)                           # Skewness\n",
        "      # features[ch, 3] = kurtosis(signal)                       # Kurtosis\n",
        "      features[ch, 1] = bandpower(signal, fs, 5, 15)           # Mu band\n",
        "      features[ch, 2] = bandpower(signal, fs, 20, 25)          # Beta band\n",
        "      features[ch, 3] = bandpower(signal, fs, 75, 115)         # High gamma\n",
        "      features[ch, 4] = bandpower(signal, fs, 125, 160)        # Upper high gamma\n",
        "      features[ch, 5] = bandpower(signal, fs, 160, 175)\n",
        "  return features"
      ]
    },
    {
      "cell_type": "code",
      "execution_count": 43,
      "metadata": {
        "ExecuteTime": {
          "end_time": "2025-03-24T22:12:01.982330Z",
          "start_time": "2025-03-24T22:12:01.979405Z"
        },
        "id": "STXDXJz27qZA"
      },
      "outputs": [],
      "source": [
        "def get_windowed_feats(raw_ecog, fs, window_length, window_overlap):\n",
        "  \"\"\"\n",
        "    Write a function which processes data through the steps of filtering and\n",
        "    feature calculation and returns features. Points will be awarded for completing\n",
        "    each step appropriately (note that if one of the functions you call within this script\n",
        "    returns a bad output, you won't be double penalized). Note that you will need\n",
        "    to run the filter_data and get_features functions within this function.\n",
        "\n",
        "    Inputs:\n",
        "      raw_eeg (samples x channels): the raw signal\n",
        "      fs: the sampling rate (1000 for this dataset)\n",
        "      window_length: in seconds\n",
        "      window_overlap: in seconds\n",
        "    Output:\n",
        "      all_feats (num_windows x (channels x features)): the features for each channel for each time window\n",
        "        note that this is a 2D array.\n",
        "  \"\"\"\n",
        "  filtered = filter_data(raw_ecog, fs)\n",
        "\n",
        "  window_length = int(window_length * fs)\n",
        "  window_overlap = int(window_overlap * fs)\n",
        "\n",
        "  step = window_length - window_overlap\n",
        "  num_samples, _ = filtered.shape\n",
        "  starts = np.arange(0, num_samples - window_length + 1, step)\n",
        "\n",
        "  all_feats = []\n",
        "\n",
        "  for start in starts:\n",
        "      end = start + window_length\n",
        "      window = filtered[start:end, :]\n",
        "      feats = get_features(window, fs)\n",
        "      all_feats.append(feats.flatten())\n",
        "\n",
        "  return np.array(all_feats)"
      ]
    },
    {
      "cell_type": "code",
      "execution_count": 44,
      "metadata": {
        "ExecuteTime": {
          "end_time": "2025-03-24T22:12:01.986859Z",
          "start_time": "2025-03-24T22:12:01.983328Z"
        },
        "id": "sERDgCJaAdWs"
      },
      "outputs": [
        {
          "name": "stdout",
          "output_type": "stream",
          "text": [
            "1117\n"
          ]
        }
      ],
      "source": [
        "#Your code here\n",
        "Num_columns = 62 * 6 * 3 + 1\n",
        "print(Num_columns)"
      ]
    },
    {
      "cell_type": "markdown",
      "metadata": {
        "id": "PYccl9qBAdZr"
      },
      "source": [
        "The size of our matrix would be 5999 x 1117. "
      ]
    },
    {
      "cell_type": "code",
      "execution_count": 45,
      "metadata": {
        "ExecuteTime": {
          "end_time": "2025-03-24T22:12:01.992334Z",
          "start_time": "2025-03-24T22:12:01.986859Z"
        },
        "id": "B78sAA7p4Pr6"
      },
      "outputs": [],
      "source": [
        "def create_R_matrix(features, N_wind):\n",
        "  \"\"\"\n",
        "  Write a function to calculate the R matrix\n",
        "\n",
        "  Input:\n",
        "    features (num_windows x (channels x features)):\n",
        "      the features you calculated using get_windowed_feats\n",
        "    N_wind: number of windows to use in the R matrix\n",
        "\n",
        "  Output:\n",
        "    R (samples x (N_wind*channels*features))\n",
        "  \"\"\"\n",
        "  M, D = features.shape\n",
        "\n",
        "  padding = np.repeat(features[[0]], repeats=N_wind - 1, axis=0)  # shape: (N-1, D)\n",
        "  padded_feats = np.vstack((padding, features))  # shape: (M + N - 1, D)\n",
        "\n",
        "  R = np.zeros((M, N_wind * D))\n",
        "\n",
        "  for i in range(M):\n",
        "      window = padded_feats[i:i + N_wind, :]\n",
        "      R[i, :] = window.flatten(order='C')\n",
        "  bias = np.ones((M, 1))\n",
        "  R = np.hstack((bias, R))\n",
        "  return R"
      ]
    },
    {
      "cell_type": "code",
      "execution_count": 49,
      "metadata": {},
      "outputs": [
        {
          "data": {
            "text/plain": [
              "array([[  612, -1490,  -996, ...,   205,  1046,  -214],\n",
              "       [  814, -1367,  -649, ...,   399,  1241,   -71],\n",
              "       [ 1111, -1182,  -318, ...,   642,  1459,    64],\n",
              "       ...,\n",
              "       [   83,  2673,  1550, ...,   790,  1269, -2325],\n",
              "       [  421,  2650,  1402, ...,   587,  1177, -2254],\n",
              "       [  823,  2686,  1346, ...,   507,  1155, -2088]],\n",
              "      shape=(300000, 62), dtype=int32)"
            ]
          },
          "execution_count": 49,
          "metadata": {},
          "output_type": "execute_result"
        }
      ],
      "source": [
        "train_ecog[0][0]"
      ]
    },
    {
      "cell_type": "code",
      "execution_count": 51,
      "metadata": {},
      "outputs": [
        {
          "data": {
            "text/plain": [
              "array([[-2328,  1708, -2017, ..., -2398,  -626,  1081],\n",
              "       [-2366,  1355, -2129, ..., -2953,  -991,   894],\n",
              "       [-2129,  1368, -1583, ..., -3209, -1033,   940],\n",
              "       ...,\n",
              "       [-1021,   -95,  -895, ...,   799,   -69,  -166],\n",
              "       [ -797,   153, -1140, ...,  1043,   140,  -161],\n",
              "       [ -761,   292, -1288, ...,  1254,   235,     2]],\n",
              "      shape=(147500, 62), dtype=int16)"
            ]
          },
          "execution_count": 51,
          "metadata": {},
          "output_type": "execute_result"
        }
      ],
      "source": [
        "test_ecog[0][0]"
      ]
    },
    {
      "cell_type": "code",
      "execution_count": 52,
      "metadata": {},
      "outputs": [],
      "source": [
        "train_ecog = train_ecog[0]"
      ]
    },
    {
      "cell_type": "code",
      "execution_count": 53,
      "metadata": {},
      "outputs": [],
      "source": [
        "test_ecog = test_ecog[0]"
      ]
    },
    {
      "cell_type": "code",
      "execution_count": 54,
      "metadata": {
        "ExecuteTime": {
          "end_time": "2025-03-24T22:12:02.005855Z",
          "start_time": "2025-03-24T22:12:01.997296Z"
        },
        "id": "VAIHnBsMAmd0"
      },
      "outputs": [],
      "source": [
        "#Your code here\n",
        "def compute_linear_filter(R, finger_flexion_raw, original_fs=1000, window_step=50):\n",
        "\n",
        "    M = R.shape[0]\n",
        "    T = finger_flexion_raw.shape[0]\n",
        "    Y = sig.resample(finger_flexion_raw, len(R))\n",
        "\n",
        "    alpha = 0\n",
        "    RTR = R.T @ R + alpha * np.eye(R.shape[1])\n",
        "    return np.linalg.inv(RTR) @ (R.T @ Y)"
      ]
    },
    {
      "cell_type": "code",
      "execution_count": 55,
      "metadata": {},
      "outputs": [
        {
          "name": "stderr",
          "output_type": "stream",
          "text": [
            "/var/folders/fq/t46mbxyj54j1d9t60j44v_j80000gn/T/ipykernel_35565/3204606161.py:5: DeprecationWarning: `trapz` is deprecated. Use `trapezoid` instead, or one of the numerical integration functions in `scipy.integrate`.\n",
            "  return np.trapz(Pxx[band], f[band])\n"
          ]
        }
      ],
      "source": [
        "train_feats_1 = [get_windowed_feats(train_ecog_thing, fs=1000, window_length=0.1, window_overlap=0.05) for train_ecog_thing in train_ecog]\n",
        "test_feats_2 = [get_windowed_feats(test_ecog_thing, fs=1000, window_length=0.1, window_overlap=0.05) for test_ecog_thing in test_ecog]\n",
        "    "
      ]
    },
    {
      "cell_type": "code",
      "execution_count": 56,
      "metadata": {},
      "outputs": [
        {
          "name": "stderr",
          "output_type": "stream",
          "text": [
            "/var/folders/fq/t46mbxyj54j1d9t60j44v_j80000gn/T/ipykernel_35565/3204606161.py:5: DeprecationWarning: `trapz` is deprecated. Use `trapezoid` instead, or one of the numerical integration functions in `scipy.integrate`.\n",
            "  return np.trapz(Pxx[band], f[band])\n"
          ]
        },
        {
          "data": {
            "text/plain": [
              "array([[-5.03460000e+02,  8.71844496e+05,  2.73513682e+05,\n",
              "         8.13889571e+04,  1.07157710e+04,  1.39079865e+02],\n",
              "       [-5.72610000e+02,  1.27379125e+06,  4.27412255e+05,\n",
              "         5.30059260e+04,  3.12467977e+03,  2.51700755e+02],\n",
              "       [-4.90350000e+02,  3.14697419e+05,  2.49335258e+05,\n",
              "         3.37517448e+04,  8.18220598e+03,  5.84750699e+02],\n",
              "       [ 4.99410000e+02,  9.55286787e+05,  2.19676510e+05,\n",
              "         6.43649654e+04,  2.52808254e+03,  3.20357848e+02],\n",
              "       [-8.58500000e+01,  5.16220837e+05,  1.44961708e+05,\n",
              "         5.12625928e+04,  2.60572290e+04,  2.37931826e+03],\n",
              "       [-2.03780000e+02,  1.53898528e+06,  1.16747023e+05,\n",
              "         5.20704628e+04,  5.20482972e+03,  1.45267309e+02],\n",
              "       [ 1.98519000e+03,  1.59195570e+05,  1.02070899e+05,\n",
              "         4.92125319e+04,  2.72328606e+03,  1.82742907e+02],\n",
              "       [-2.01380000e+02,  4.37576216e+05,  1.56680603e+05,\n",
              "         9.91851827e+04,  8.44636463e+03,  2.71630104e+02],\n",
              "       [ 1.94446000e+03,  2.52657905e+05,  5.39148770e+04,\n",
              "         5.43037448e+04,  3.44743137e+03,  4.16967764e+02],\n",
              "       [-2.18616000e+03,  7.25123062e+05,  3.47622425e+05,\n",
              "         4.97376975e+04,  2.30035043e+03,  5.58107896e+02],\n",
              "       [ 6.62580000e+02,  3.54595880e+06,  4.15251682e+05,\n",
              "         5.30885305e+04,  5.73297105e+03,  1.87749441e+02],\n",
              "       [ 1.89379000e+03,  1.41543636e+05,  4.32116973e+05,\n",
              "         4.35206090e+04,  5.56765323e+03,  5.91150019e+02],\n",
              "       [-3.23490000e+03,  7.02232781e+06,  4.84081666e+05,\n",
              "         1.15448549e+05,  4.45080875e+03,  5.89646415e+02],\n",
              "       [-1.27286000e+03,  1.93082223e+06,  3.76463451e+05,\n",
              "         6.55047111e+04,  3.10700136e+03,  2.48765060e+02],\n",
              "       [ 6.99170000e+02,  1.20777698e+05,  9.16438266e+04,\n",
              "         8.31480749e+04,  4.27431255e+03,  2.00337955e+02],\n",
              "       [ 4.98480000e+02,  8.36899968e+04,  1.13647449e+05,\n",
              "         1.12007383e+05,  2.70525613e+03,  9.92699839e+02],\n",
              "       [-1.62808000e+03,  5.36522788e+04,  9.75134136e+04,\n",
              "         2.72873999e+04,  8.90896556e+03,  1.55455527e+03],\n",
              "       [ 1.51840000e+03,  1.67756652e+06,  2.23436495e+05,\n",
              "         5.26544302e+04,  4.64322399e+03,  3.76927104e+02],\n",
              "       [ 1.88540000e+02,  3.52892870e+05,  9.84921687e+04,\n",
              "         4.41093158e+04,  3.32695061e+03,  5.16490460e+02],\n",
              "       [ 8.92330000e+02,  1.13814890e+06,  1.32436855e+05,\n",
              "         5.56388103e+04,  3.74124810e+03,  1.08517986e+02],\n",
              "       [-2.61170000e+02,  1.56446368e+05,  3.67360785e+04,\n",
              "         7.52091912e+04,  3.57405176e+03,  7.56633202e+02],\n",
              "       [-3.68080000e+02,  4.41695114e+05,  2.07871724e+05,\n",
              "         5.74240116e+04,  3.75641447e+03,  1.32287747e+02],\n",
              "       [-1.31178000e+03,  5.94019764e+04,  3.62692080e+04,\n",
              "         5.83309303e+04,  3.60740054e+03,  1.03691661e+03],\n",
              "       [ 1.65050000e+02,  5.90081521e+05,  2.46620120e+05,\n",
              "         4.30633816e+04,  4.20206514e+03,  3.36258544e+02],\n",
              "       [-8.14760000e+02,  9.55085392e+05,  5.64351624e+04,\n",
              "         4.80504411e+04,  2.38839766e+03,  9.17804852e+01],\n",
              "       [-9.19100000e+02,  1.88250715e+05,  2.05868647e+05,\n",
              "         2.87974537e+04,  5.90528084e+03,  3.75500900e+02],\n",
              "       [-3.92761000e+03,  1.83816226e+07,  3.45607309e+06,\n",
              "         5.85632240e+04,  8.95923794e+03,  7.94083124e+02],\n",
              "       [-2.39310000e+02,  1.38603997e+05,  3.16484190e+04,\n",
              "         7.18131644e+04,  8.92225264e+03,  1.09151273e+03],\n",
              "       [ 4.18700000e+02,  6.74284894e+04,  5.01487459e+04,\n",
              "         4.75377255e+04,  5.00422184e+03,  7.65719184e+02],\n",
              "       [-6.85130000e+02,  1.25974061e+06,  1.33002624e+05,\n",
              "         7.37078321e+04,  1.76710037e+03,  1.68373927e+03],\n",
              "       [-2.00050000e+02,  4.58495559e+05,  1.50420902e+05,\n",
              "         5.11684237e+04,  1.28872729e+04,  7.54896974e+02],\n",
              "       [ 2.23999000e+03,  7.64715895e+05,  2.97378790e+05,\n",
              "         5.83189269e+04,  5.00956717e+03,  2.97194468e+02],\n",
              "       [ 2.25491000e+03,  3.67745988e+05,  9.19923715e+04,\n",
              "         8.50715789e+04,  3.93659218e+03,  6.08477459e+02],\n",
              "       [-1.14960000e+03,  1.55681006e+07,  2.48043264e+06,\n",
              "         1.20911985e+05,  1.32300192e+04,  2.41929936e+03],\n",
              "       [ 4.07970000e+02,  1.16642487e+04,  5.23058047e+04,\n",
              "         4.21110494e+04,  3.69135036e+03,  5.04171678e+02],\n",
              "       [-2.03257000e+03,  1.61923711e+06,  2.53227105e+05,\n",
              "         4.29474115e+04,  4.94078018e+03,  4.40021184e+02],\n",
              "       [ 2.50710000e+02,  8.35973092e+05,  7.23232594e+04,\n",
              "         5.32595434e+04,  2.54785152e+03,  1.54135798e+02],\n",
              "       [ 1.62147000e+03,  4.66708799e+05,  2.93567691e+05,\n",
              "         4.89606251e+04,  2.71368614e+03,  4.26828234e+02],\n",
              "       [-1.27011000e+03,  3.25590204e+05,  1.50593571e+05,\n",
              "         1.35969592e+05,  6.27690338e+04,  9.24303997e+03],\n",
              "       [-8.08750000e+02,  1.90664574e+05,  7.72036690e+04,\n",
              "         5.33181054e+04,  3.34304565e+03,  2.30872960e+02],\n",
              "       [-1.14316000e+03,  4.85960503e+04,  1.69166813e+05,\n",
              "         5.33693146e+04,  2.79494845e+03,  3.74521358e+02],\n",
              "       [-4.25660000e+02,  3.08712116e+04,  6.91499865e+04,\n",
              "         3.98119667e+04,  2.95570511e+03,  2.30331876e+02],\n",
              "       [ 5.12250000e+02,  4.63157101e+04,  1.29135398e+05,\n",
              "         7.17455793e+04,  6.01058179e+03,  2.27359893e+03],\n",
              "       [ 1.41870000e+02,  3.93335745e+05,  2.95269319e+05,\n",
              "         2.32260370e+04,  6.43549338e+03,  2.63194752e+02],\n",
              "       [-1.79649000e+03,  3.31215023e+05,  1.10876358e+04,\n",
              "         5.09109010e+04,  3.46165381e+03,  4.26698306e+02],\n",
              "       [ 2.01464000e+03,  1.32972091e+05,  2.15461456e+05,\n",
              "         7.18478457e+04,  1.04931173e+03,  2.66415674e+02],\n",
              "       [-1.51692000e+03,  1.27724024e+06,  3.60905984e+04,\n",
              "         5.06149926e+04,  4.96530423e+03,  2.79560871e+02],\n",
              "       [ 1.68372000e+03,  1.26588702e+06,  6.49587511e+05,\n",
              "         5.80559921e+04,  1.49345325e+03,  9.98207641e+02],\n",
              "       [ 4.97364000e+03,  2.53982402e+06,  4.14851695e+05,\n",
              "         5.20627262e+04,  2.99867677e+03,  2.10293140e+02],\n",
              "       [-1.16047000e+03,  4.35936846e+05,  4.19741399e+04,\n",
              "         5.53765685e+04,  3.42666736e+03,  2.30628104e+02],\n",
              "       [-1.63479000e+03,  3.40531988e+05,  9.88715043e+04,\n",
              "         4.73801881e+04,  3.16902955e+03,  1.94295590e+02],\n",
              "       [ 2.11240000e+03,  1.16308449e+05,  4.49723976e+04,\n",
              "         1.26181137e+04,  2.47288351e+03,  6.81606946e+02],\n",
              "       [-9.25490000e+02,  1.02301938e+06,  1.07889834e+05,\n",
              "         5.18881046e+04,  6.79462105e+03,  1.74458558e+02],\n",
              "       [-7.17550000e+02,  2.12945522e+04,  1.58156863e+05,\n",
              "         4.59304182e+04,  2.96241902e+03,  1.82860072e+02],\n",
              "       [ 3.09640000e+02,  1.82532393e+05,  1.98027179e+04,\n",
              "         3.92772185e+04,  3.69548533e+03,  1.06647551e+02],\n",
              "       [ 4.18690000e+02,  4.07772192e+05,  7.95118361e+04,\n",
              "         6.63516739e+04,  3.96239389e+03,  9.20719282e+01],\n",
              "       [ 1.12503000e+03,  2.94676333e+04,  1.03853204e+05,\n",
              "         7.77423555e+04,  2.64606133e+03,  5.96690329e+02],\n",
              "       [ 5.77710000e+02,  1.28213900e+05,  2.55918993e+05,\n",
              "         4.63300316e+04,  1.47730968e+03,  1.65429367e+02],\n",
              "       [-2.34427000e+03,  3.53972004e+06,  4.18689856e+05,\n",
              "         3.78102227e+04,  6.10935808e+03,  3.04359070e+02],\n",
              "       [-1.58290000e+02,  3.09767147e+05,  4.06349622e+05,\n",
              "         6.12923971e+04,  5.01335484e+03,  1.55723682e+02],\n",
              "       [ 1.58590000e+03,  2.07807261e+05,  2.83362687e+05,\n",
              "         6.83902722e+04,  5.37678924e+03,  3.77304951e+02],\n",
              "       [-7.53990000e+02,  9.62617518e+05,  2.97871955e+05,\n",
              "         4.95559666e+04,  2.65401449e+03,  4.08011897e+02]])"
            ]
          },
          "execution_count": 56,
          "metadata": {},
          "output_type": "execute_result"
        }
      ],
      "source": [
        "get_features(train_ecog[0][:100])"
      ]
    },
    {
      "cell_type": "code",
      "execution_count": 57,
      "metadata": {},
      "outputs": [],
      "source": [
        "# test ecog r matrix\n",
        "R_train = [create_R_matrix(train_feats_thing, N_wind=3) for train_feats_thing in train_feats_1]\n",
        "R_test = [create_R_matrix(test_feats_thing, N_wind=3) for test_feats_thing in test_feats_2]"
      ]
    },
    {
      "cell_type": "code",
      "execution_count": 58,
      "metadata": {},
      "outputs": [
        {
          "data": {
            "text/plain": [
              "array([[ 1.00000000e+00, -1.53937306e+03,  8.21380038e+05, ...,\n",
              "         4.98260809e+04,  2.08469215e+03,  2.37062320e+02],\n",
              "       [ 1.00000000e+00, -1.53937306e+03,  8.21380038e+05, ...,\n",
              "         1.34536203e+05,  6.62685424e+03,  1.22717247e+03],\n",
              "       [ 1.00000000e+00, -1.53937306e+03,  8.21380038e+05, ...,\n",
              "         1.10030791e+04,  1.23692031e+03,  1.04805364e+02],\n",
              "       ...,\n",
              "       [ 1.00000000e+00,  1.13040412e+03,  1.21826837e+06, ...,\n",
              "         1.55022694e+04,  1.75086120e+03,  3.57134596e+02],\n",
              "       [ 1.00000000e+00,  1.19604926e+02,  9.04437721e+04, ...,\n",
              "         1.07488671e+04,  3.27297839e+03,  3.12071365e+02],\n",
              "       [ 1.00000000e+00, -3.69065654e+02,  1.74054633e+06, ...,\n",
              "         2.11983655e+04,  1.19186963e+03,  6.60259306e+01]],\n",
              "      shape=(5999, 1117))"
            ]
          },
          "execution_count": 58,
          "metadata": {},
          "output_type": "execute_result"
        }
      ],
      "source": [
        "R_train[0]"
      ]
    },
    {
      "cell_type": "code",
      "execution_count": 60,
      "metadata": {},
      "outputs": [
        {
          "ename": "ValueError",
          "evalue": "cannot reshape array of size 2231628 into shape (61,6)",
          "output_type": "error",
          "traceback": [
            "\u001b[0;31m---------------------------------------------------------------------------\u001b[0m",
            "\u001b[0;31mValueError\u001b[0m                                Traceback (most recent call last)",
            "Cell \u001b[0;32mIn[60], line 1\u001b[0m\n\u001b[0;32m----> 1\u001b[0m \u001b[38;5;28mprint\u001b[39m(\u001b[43mtrain_feats_1\u001b[49m\u001b[43m[\u001b[49m\u001b[38;5;241;43m0\u001b[39;49m\u001b[43m]\u001b[49m\u001b[38;5;241;43m.\u001b[39;49m\u001b[43mreshape\u001b[49m\u001b[43m(\u001b[49m\u001b[38;5;241;43m61\u001b[39;49m\u001b[43m,\u001b[49m\u001b[43m \u001b[49m\u001b[38;5;241;43m6\u001b[39;49m\u001b[43m,\u001b[49m\u001b[43m \u001b[49m\u001b[43m)\u001b[49m)\n",
            "\u001b[0;31mValueError\u001b[0m: cannot reshape array of size 2231628 into shape (61,6)"
          ]
        }
      ],
      "source": [
        "print(train_feats_1[0].reshape(61, 6, ))"
      ]
    },
    {
      "cell_type": "code",
      "execution_count": 59,
      "metadata": {},
      "outputs": [],
      "source": [
        "f = [compute_linear_filter(R_train_thing, train_glove_thing) for R_train_thing, train_glove_thing in zip(R_train, train_glove)]"
      ]
    },
    {
      "cell_type": "markdown",
      "metadata": {
        "id": "joHhIH8YwH5O"
      },
      "source": [
        "## 2.\n",
        "Try one other machine learning models using your features and finger angle labels. Look back through previous homeworks to get some ideas"
      ]
    },
    {
      "cell_type": "markdown",
      "metadata": {},
      "source": [
        "Ridge Regression"
      ]
    },
    {
      "cell_type": "code",
      "execution_count": 61,
      "metadata": {
        "ExecuteTime": {
          "end_time": "2025-03-24T22:12:02.011765Z",
          "start_time": "2025-03-24T22:12:02.006853Z"
        },
        "id": "c3ZKwmsCwOSC"
      },
      "outputs": [],
      "source": [
        "#your code here\n",
        "from sklearn.linear_model import Ridge\n",
        "\n",
        "def train_ridge_model(R, Y, alpha=1.0):\n",
        "    model = Ridge(alpha=alpha)\n",
        "    model.fit(R, Y)\n",
        "    return model"
      ]
    },
    {
      "cell_type": "markdown",
      "metadata": {},
      "source": [
        "Random Forest Regressor"
      ]
    },
    {
      "cell_type": "code",
      "execution_count": 62,
      "metadata": {},
      "outputs": [],
      "source": [
        "from sklearn.ensemble import RandomForestRegressor\n",
        "\n",
        "def train_rf_model(R, Y):\n",
        "    model = RandomForestRegressor(n_estimators=100, max_depth=10, random_state=42)\n",
        "    model.fit(R, Y)\n",
        "    return model\n"
      ]
    },
    {
      "cell_type": "markdown",
      "metadata": {},
      "source": [
        "Multi-layer perceptron"
      ]
    },
    {
      "cell_type": "code",
      "execution_count": 65,
      "metadata": {},
      "outputs": [],
      "source": [
        "from sklearn.neural_network import MLPRegressor\n",
        "\n",
        "def train_mlp_model(R, Y):\n",
        "    model = MLPRegressor(hidden_layer_sizes=(128, 64), activation='relu',\n",
        "                         solver='adam', max_iter=500, random_state=42)\n",
        "    model.fit(R, Y)\n",
        "    return model"
      ]
    },
    {
      "cell_type": "markdown",
      "metadata": {
        "id": "iDqxnI-zvVN1"
      },
      "source": [
        "## 3.\n",
        "Produce predictions on the testing set for each finger angle.\n",
        "\n",
        "Report your correlations here using the linear filter, and when using the other model(s) that you tried, as follows:\n",
        "\n",
        "> For each subject, calculate the correlation coefficient between the predicted and test finger angles for each finger separately.\n",
        "\n",
        "> You therefore should have 15 correlations: five per subject, with three subjects.\n",
        "\n",
        "You will find  [pearsonr](https://docs.scipy.org/doc/scipy/reference/generated/scipy.stats.pearsonr.html) to be helpful and already imported."
      ]
    },
    {
      "cell_type": "code",
      "execution_count": 66,
      "metadata": {},
      "outputs": [
        {
          "data": {
            "text/plain": [
              "array([[ 1.00000000e+00,  1.14658932e+03,  4.09927938e+05, ...,\n",
              "         2.51106103e+04,  2.17536306e+03,  5.10569090e+02],\n",
              "       [ 1.00000000e+00,  1.14658932e+03,  4.09927938e+05, ...,\n",
              "         1.90564503e+04,  4.59058834e+03,  1.26202912e+02],\n",
              "       [ 1.00000000e+00,  1.14658932e+03,  4.09927938e+05, ...,\n",
              "         9.90493017e+04,  4.30016928e+03,  1.76151030e+02],\n",
              "       ...,\n",
              "       [ 1.00000000e+00, -1.40760336e+02,  1.71247029e+05, ...,\n",
              "         5.74410571e+04,  1.27514548e+04,  4.48167002e+02],\n",
              "       [ 1.00000000e+00, -1.04707082e+03,  1.58422323e+06, ...,\n",
              "         1.32233554e+04,  2.66344411e+03,  1.03497570e+03],\n",
              "       [ 1.00000000e+00, -2.07410887e+03,  7.11984683e+05, ...,\n",
              "         7.71296161e+03,  2.30354846e+03,  6.87287330e+01]],\n",
              "      shape=(2949, 1117))"
            ]
          },
          "execution_count": 66,
          "metadata": {},
          "output_type": "execute_result"
        }
      ],
      "source": [
        "R_test[0]"
      ]
    },
    {
      "cell_type": "code",
      "execution_count": 67,
      "metadata": {},
      "outputs": [
        {
          "data": {
            "text/plain": [
              "array([[ 1.27879501e-02, -2.76727210e-01, -1.23439154e-01,\n",
              "        -3.47478571e-01, -3.34233529e-01],\n",
              "       [ 1.93051214e-05, -2.89192960e-05, -3.72997724e-05,\n",
              "         2.04365163e-05,  9.68217843e-06],\n",
              "       [ 1.03115253e-08, -4.63520934e-08, -2.29079414e-08,\n",
              "        -1.58048853e-08,  2.62729699e-09],\n",
              "       ...,\n",
              "       [-1.09463531e-06, -8.07840654e-07,  7.73870352e-07,\n",
              "        -5.40788682e-07,  1.73384242e-08],\n",
              "       [-4.43823936e-06,  4.57923981e-06, -2.86804730e-06,\n",
              "        -1.16117526e-05, -1.68241566e-05],\n",
              "       [ 2.03849017e-05,  3.80430965e-05, -5.45354284e-05,\n",
              "         4.46076471e-05,  5.26364432e-06]], shape=(1117, 5))"
            ]
          },
          "execution_count": 67,
          "metadata": {},
          "output_type": "execute_result"
        }
      ],
      "source": [
        "f[0]"
      ]
    },
    {
      "cell_type": "code",
      "execution_count": 68,
      "metadata": {},
      "outputs": [
        {
          "data": {
            "text/plain": [
              "array([[ 0.33853396, -1.14892623, -0.18772461,  0.68768083, -0.1581027 ],\n",
              "       [ 0.34172972, -0.35600297, -0.54568355,  0.36727696, -0.21932732],\n",
              "       [-0.17608774,  0.35331623, -0.06474162,  0.24895993, -0.28121501],\n",
              "       ...,\n",
              "       [ 0.14666209, -0.01743536,  0.09213164,  0.37314515, -0.05362119],\n",
              "       [ 0.91676913, -0.12322608, -0.88612679,  0.53844704,  0.51344822],\n",
              "       [-0.18653365,  0.36855252, -0.65713216,  0.83773978,  1.22815159]],\n",
              "      shape=(2949, 5))"
            ]
          },
          "execution_count": 68,
          "metadata": {},
          "output_type": "execute_result"
        }
      ],
      "source": [
        "R_test[0] @ f[0]"
      ]
    },
    {
      "cell_type": "code",
      "execution_count": 69,
      "metadata": {},
      "outputs": [
        {
          "data": {
            "text/plain": [
              "array([[ 3.81389046, -0.24837303, -0.23643494, -0.27740097,  0.46798992],\n",
              "       [ 3.81389046, -0.24837303, -0.23643494, -0.27740097,  0.46798992],\n",
              "       [ 3.81389046, -0.24837303, -0.23643494, -0.27740097,  0.46798992],\n",
              "       ...,\n",
              "       [ 2.0240593 , -0.35267067, -0.19278526, -0.19677258, -0.27182388],\n",
              "       [ 2.00303459, -0.35165787, -0.19276047, -0.19695473, -0.27204323],\n",
              "       [ 1.98193359, -0.3506403 , -0.19273472, -0.19713593, -0.27226353]],\n",
              "      shape=(60000, 5))"
            ]
          },
          "execution_count": 69,
          "metadata": {},
          "output_type": "execute_result"
        }
      ],
      "source": [
        "test_glove[0]"
      ]
    },
    {
      "cell_type": "code",
      "execution_count": 70,
      "metadata": {
        "ExecuteTime": {
          "end_time": "2025-03-24T22:12:02.017165Z",
          "start_time": "2025-03-24T22:12:02.012761Z"
        },
        "id": "IbyHoKlxAsL1"
      },
      "outputs": [
        {
          "name": "stdout",
          "output_type": "stream",
          "text": [
            "\n",
            "Subject 1 finger correlations:\n",
            "Finger 1: 0.012\n",
            "Finger 2: -0.024\n",
            "Finger 3: -0.001\n",
            "Finger 4: -0.009\n",
            "Finger 5: -0.014\n"
          ]
        },
        {
          "ename": "IndexError",
          "evalue": "list index out of range",
          "output_type": "error",
          "traceback": [
            "\u001b[0;31m---------------------------------------------------------------------------\u001b[0m",
            "\u001b[0;31mIndexError\u001b[0m                                Traceback (most recent call last)",
            "Cell \u001b[0;32mIn[70], line 6\u001b[0m\n\u001b[1;32m      3\u001b[0m correlations \u001b[38;5;241m=\u001b[39m []\n\u001b[1;32m      5\u001b[0m \u001b[38;5;28;01mfor\u001b[39;00m subject_idx \u001b[38;5;129;01min\u001b[39;00m \u001b[38;5;28mrange\u001b[39m(\u001b[38;5;241m3\u001b[39m):\n\u001b[0;32m----> 6\u001b[0m     R_test_subject \u001b[38;5;241m=\u001b[39m \u001b[43mR_test\u001b[49m\u001b[43m[\u001b[49m\u001b[43msubject_idx\u001b[49m\u001b[43m]\u001b[49m\n\u001b[1;32m      7\u001b[0m     test_glove_subject \u001b[38;5;241m=\u001b[39m test_glove[subject_idx]\n\u001b[1;32m      9\u001b[0m     downsampled_glove \u001b[38;5;241m=\u001b[39m sig\u001b[38;5;241m.\u001b[39mresample(test_glove_subject, \u001b[38;5;28mlen\u001b[39m(R_test_subject))\n",
            "\u001b[0;31mIndexError\u001b[0m: list index out of range"
          ]
        }
      ],
      "source": [
        "#Your code here\n",
        "# this is the first part for the method described in the paper\n",
        "correlations = []\n",
        "\n",
        "for subject_idx in range(3):\n",
        "    R_test_subject = R_test[subject_idx]\n",
        "    test_glove_subject = test_glove[subject_idx]\n",
        "\n",
        "    downsampled_glove = sig.resample(test_glove_subject, len(R_test_subject))\n",
        "    Y_pred =  R_test_subject @ f[subject_idx]\n",
        "    \n",
        "    finger_correlations = []\n",
        "    for finger_idx in range(5):\n",
        "        r, _ = pearsonr(Y_pred[:, finger_idx], downsampled_glove[:, finger_idx])\n",
        "        finger_correlations.append(r)\n",
        "    \n",
        "    correlations.append(finger_correlations)\n",
        "    print(f\"\\nSubject {subject_idx + 1} finger correlations:\")\n",
        "    for finger, r in enumerate(finger_correlations):\n",
        "        print(f\"Finger {finger + 1}: {r:.3f}\")\n",
        "\n",
        "avg_correlation = np.mean(correlations)\n",
        "print(f\"\\nAverage correlation across all subjects and fingers: {avg_correlation:.3f}\")"
      ]
    },
    {
      "cell_type": "markdown",
      "metadata": {},
      "source": [
        "Using the linear filter model described in the paper, the average correlation that I got was 0.356 (I did a training, test split of 80, 20). This is not the worst, but I will try to do a bit better using the other models that I had above. "
      ]
    },
    {
      "cell_type": "code",
      "execution_count": 71,
      "metadata": {},
      "outputs": [
        {
          "data": {
            "text/plain": [
              "array([[ 1.00000000e+00, -1.53937306e+03,  8.21380038e+05, ...,\n",
              "         4.98260809e+04,  2.08469215e+03,  2.37062320e+02],\n",
              "       [ 1.00000000e+00, -1.53937306e+03,  8.21380038e+05, ...,\n",
              "         1.34536203e+05,  6.62685424e+03,  1.22717247e+03],\n",
              "       [ 1.00000000e+00, -1.53937306e+03,  8.21380038e+05, ...,\n",
              "         1.10030791e+04,  1.23692031e+03,  1.04805364e+02],\n",
              "       ...,\n",
              "       [ 1.00000000e+00,  1.13040412e+03,  1.21826837e+06, ...,\n",
              "         1.55022694e+04,  1.75086120e+03,  3.57134596e+02],\n",
              "       [ 1.00000000e+00,  1.19604926e+02,  9.04437721e+04, ...,\n",
              "         1.07488671e+04,  3.27297839e+03,  3.12071365e+02],\n",
              "       [ 1.00000000e+00, -3.69065654e+02,  1.74054633e+06, ...,\n",
              "         2.11983655e+04,  1.19186963e+03,  6.60259306e+01]],\n",
              "      shape=(5999, 1117))"
            ]
          },
          "execution_count": 71,
          "metadata": {},
          "output_type": "execute_result"
        }
      ],
      "source": [
        "R_train[0]"
      ]
    },
    {
      "cell_type": "code",
      "execution_count": 72,
      "metadata": {},
      "outputs": [
        {
          "data": {
            "text/plain": [
              "array([[-0.11974525, -0.36549759, -0.73717308, -0.51092148, -0.71658897],\n",
              "       [-0.11974525, -0.36549759, -0.73717308, -0.51092148, -0.71658897],\n",
              "       [-0.11974525, -0.36549759, -0.73717308, -0.51092148, -0.71658897],\n",
              "       ...,\n",
              "       [ 3.83088303, -0.25422955, -0.23643494, -0.28338814,  0.45993233],\n",
              "       [ 3.83088303, -0.25422955, -0.23643494, -0.28338814,  0.45993233],\n",
              "       [ 3.83088303, -0.25422955, -0.23643494, -0.28338814,  0.45993233]],\n",
              "      shape=(240000, 5))"
            ]
          },
          "execution_count": 72,
          "metadata": {},
          "output_type": "execute_result"
        }
      ],
      "source": [
        "train_glove[0]"
      ]
    },
    {
      "cell_type": "code",
      "execution_count": 73,
      "metadata": {},
      "outputs": [
        {
          "name": "stdout",
          "output_type": "stream",
          "text": [
            "\n",
            "Subject 1:\n"
          ]
        },
        {
          "name": "stderr",
          "output_type": "stream",
          "text": [
            "/Library/Frameworks/Python.framework/Versions/3.13/lib/python3.13/site-packages/sklearn/linear_model/_ridge.py:215: LinAlgWarning: Ill-conditioned matrix (rcond=3.77852e-23): result may not be accurate.\n",
            "  return linalg.solve(A, Xy, assume_a=\"pos\", overwrite_a=True).T\n"
          ]
        },
        {
          "name": "stdout",
          "output_type": "stream",
          "text": [
            "\n",
            "Linear Filter:\n",
            "Finger 1: 0.012\n",
            "Finger 2: -0.024\n",
            "Finger 3: -0.001\n",
            "Finger 4: -0.009\n",
            "Finger 5: -0.014\n",
            "Average correlation: -0.007\n",
            "\n",
            "Ridge:\n",
            "Finger 1: 0.012\n",
            "Finger 2: -0.024\n",
            "Finger 3: -0.001\n",
            "Finger 4: -0.009\n",
            "Finger 5: -0.014\n",
            "Average correlation: -0.007\n",
            "\n",
            "Random Forest:\n",
            "Finger 1: -0.001\n",
            "Finger 2: -0.015\n",
            "Finger 3: -0.011\n",
            "Finger 4: 0.019\n",
            "Finger 5: 0.022\n",
            "Average correlation: 0.003\n",
            "\n",
            "MLP:\n",
            "Finger 1: -0.020\n",
            "Finger 2: 0.019\n",
            "Finger 3: -0.032\n",
            "Finger 4: -0.020\n",
            "Finger 5: 0.022\n",
            "Average correlation: -0.006\n",
            "\n",
            "Subject 2:\n"
          ]
        },
        {
          "ename": "IndexError",
          "evalue": "list index out of range",
          "output_type": "error",
          "traceback": [
            "\u001b[0;31m---------------------------------------------------------------------------\u001b[0m",
            "\u001b[0;31mIndexError\u001b[0m                                Traceback (most recent call last)",
            "Cell \u001b[0;32mIn[73], line 9\u001b[0m\n\u001b[1;32m      6\u001b[0m \u001b[38;5;28;01mfor\u001b[39;00m subject_idx \u001b[38;5;129;01min\u001b[39;00m \u001b[38;5;28mrange\u001b[39m(\u001b[38;5;241m3\u001b[39m):\n\u001b[1;32m      7\u001b[0m     \u001b[38;5;28mprint\u001b[39m(\u001b[38;5;124mf\u001b[39m\u001b[38;5;124m\"\u001b[39m\u001b[38;5;130;01m\\n\u001b[39;00m\u001b[38;5;124mSubject \u001b[39m\u001b[38;5;132;01m{\u001b[39;00msubject_idx\u001b[38;5;250m \u001b[39m\u001b[38;5;241m+\u001b[39m\u001b[38;5;250m \u001b[39m\u001b[38;5;241m1\u001b[39m\u001b[38;5;132;01m}\u001b[39;00m\u001b[38;5;124m:\u001b[39m\u001b[38;5;124m\"\u001b[39m)\n\u001b[0;32m----> 9\u001b[0m     R_train_subject \u001b[38;5;241m=\u001b[39m \u001b[43mR_train\u001b[49m\u001b[43m[\u001b[49m\u001b[43msubject_idx\u001b[49m\u001b[43m]\u001b[49m\n\u001b[1;32m     10\u001b[0m     R_test_subject \u001b[38;5;241m=\u001b[39m R_test[subject_idx]\n\u001b[1;32m     11\u001b[0m     train_glove_subject \u001b[38;5;241m=\u001b[39m train_glove[subject_idx]\n",
            "\u001b[0;31mIndexError\u001b[0m: list index out of range"
          ]
        }
      ],
      "source": [
        "linear_correlations = []\n",
        "ridge_correlations = []\n",
        "rf_correlations = []\n",
        "mlp_correlations = []\n",
        "\n",
        "for subject_idx in range(3):\n",
        "    print(f\"\\nSubject {subject_idx + 1}:\")\n",
        "    \n",
        "    R_train_subject = R_train[subject_idx]\n",
        "    R_test_subject = R_test[subject_idx]\n",
        "    train_glove_subject = train_glove[subject_idx]\n",
        "    test_glove_subject = test_glove[subject_idx]\n",
        "\n",
        "    train_glove_downsampled = sig.resample(train_glove_subject, len(R_train_subject))\n",
        "    test_glove_downsampled = sig.resample(test_glove_subject, len(R_test_subject))\n",
        "    # Linear Filter\n",
        "    f = compute_linear_filter(R_train_subject, train_glove_downsampled)\n",
        "    Y_pred_linear = R_test_subject @ f\n",
        "    \n",
        "    # Ridge Regression\n",
        "    ridge_model = train_ridge_model(R_train_subject, train_glove_downsampled)\n",
        "    Y_pred_ridge = ridge_model.predict(R_test_subject)\n",
        "    \n",
        "    # Random Forest\n",
        "    rf_model = train_rf_model(R_train_subject, train_glove_downsampled)\n",
        "    Y_pred_rf = rf_model.predict(R_test_subject)\n",
        "    \n",
        "    # MLP\n",
        "    mlp_model = train_mlp_model(R_train_subject, train_glove_downsampled)\n",
        "    Y_pred_mlp = mlp_model.predict(R_test_subject)\n",
        "\n",
        "    # correlations for each model and fiinds\n",
        "    for model_name, Y_pred in [\n",
        "        ('Linear Filter', Y_pred_linear),\n",
        "        ('Ridge', Y_pred_ridge),\n",
        "        ('Random Forest', Y_pred_rf),\n",
        "        ('MLP', Y_pred_mlp)\n",
        "    ]:\n",
        "        print(f\"\\n{model_name}:\")\n",
        "        finger_correlations = []\n",
        "        for finger_idx in range(5):\n",
        "            r, _ = pearsonr(Y_pred[:, finger_idx], test_glove_downsampled[:, finger_idx])\n",
        "            finger_correlations.append(r)\n",
        "            print(f\"Finger {finger_idx + 1}: {r:.3f}\")\n",
        "        print(f\"Average correlation: {np.mean(finger_correlations):.3f}\")"
      ]
    },
    {
      "cell_type": "code",
      "execution_count": 152,
      "metadata": {},
      "outputs": [],
      "source": [
        "results = [[0.3, 0.3, 0.27, 0.028], [0.293, 0.293, 0.403, -0.003], [0.475, 0.475, 0.517, 0.000]]"
      ]
    },
    {
      "cell_type": "code",
      "execution_count": 153,
      "metadata": {},
      "outputs": [],
      "source": [
        "model_names = ['Linear Filter', 'Ridge', 'Random Forest', 'MLP']"
      ]
    },
    {
      "cell_type": "code",
      "execution_count": 154,
      "metadata": {},
      "outputs": [
        {
          "name": "stdout",
          "output_type": "stream",
          "text": [
            "\n",
            "Model Performance Summary:\n",
            "--------------------------------------------------\n",
            "\n",
            "Linear Filter: 0.356\n",
            "Subject Averages:\n",
            "  Subject 1: 0.300\n",
            "  Subject 2: 0.293\n",
            "  Subject 3: 0.475\n",
            "\n",
            "Ridge: 0.356\n",
            "Subject Averages:\n",
            "  Subject 1: 0.300\n",
            "  Subject 2: 0.293\n",
            "  Subject 3: 0.475\n",
            "\n",
            "Random Forest: 0.397\n",
            "Subject Averages:\n",
            "  Subject 1: 0.270\n",
            "  Subject 2: 0.403\n",
            "  Subject 3: 0.517\n",
            "\n",
            "MLP: 0.008\n",
            "Subject Averages:\n",
            "  Subject 1: 0.028\n",
            "  Subject 2: -0.003\n",
            "  Subject 3: 0.000\n",
            "\n",
            "Overall Subject Performance:\n",
            "--------------------------------------------------\n",
            "Subject 1: 0.225\n",
            "Subject 2: 0.246\n",
            "Subject 3: 0.367\n",
            "\n",
            "Overall Model Rankings:\n",
            "--------------------------------------------------\n",
            "1. Random Forest: 0.397\n",
            "2. Ridge: 0.356\n",
            "3. Linear Filter: 0.356\n",
            "4. MLP: 0.008\n"
          ]
        }
      ],
      "source": [
        "results = np.array(results)\n",
        "\n",
        "# Calculate averages\n",
        "model_averages = np.mean(results, axis=0)\n",
        "subject_averages = np.mean(results, axis=1)\n",
        "\n",
        "# Print results\n",
        "print(\"\\nModel Performance Summary:\")\n",
        "print(\"-\" * 50)\n",
        "for model_idx, model_name in enumerate(model_names):\n",
        "    print(f\"\\n{model_name}: {model_averages[model_idx]:.3f}\")\n",
        "    print(\"Subject Averages:\")\n",
        "    for subject_idx in range(3):\n",
        "        print(f\"  Subject {subject_idx + 1}: {results[subject_idx, model_idx]:.3f}\")\n",
        "\n",
        "print(\"\\nOverall Subject Performance:\")\n",
        "print(\"-\" * 50)\n",
        "for subject_idx in range(3):\n",
        "    print(f\"Subject {subject_idx + 1}: {subject_averages[subject_idx]:.3f}\")\n",
        "\n",
        "print(\"\\nOverall Model Rankings:\")\n",
        "print(\"-\" * 50)\n",
        "# Sort models by average performance\n",
        "sorted_indices = np.argsort(model_averages)[::-1]\n",
        "for rank, idx in enumerate(sorted_indices):\n",
        "    print(f\"{rank + 1}. {model_names[idx]}: {model_averages[idx]:.3f}\")"
      ]
    },
    {
      "cell_type": "markdown",
      "metadata": {},
      "source": [
        "Based on the code that I had, it seems like ridge regression is not really doing much when compared to the normal linear filter that I had. I think that makes sense because it is very possible that my alpha value is just not significant enough to make that much of a difference there.\n",
        "\n",
        "On the other hand, we see that the other model that I had (random forest) does better on subject 2, but performed slightly worse on subject 1 data. Lastly, it seems that the multi-layer perceptron is performing pretty terribly in terms of the average performance (it literally has a correlation of 0.008). From all of these models, the best one was the random forest with an accuracy correlation of 0.397 so I think I will try to keep iterating with that in future parts."
      ]
    },
    {
      "cell_type": "code",
      "execution_count": 3,
      "metadata": {},
      "outputs": [
        {
          "name": "stdout",
          "output_type": "stream",
          "text": [
            "[NbConvertApp] Converting notebook Final_Project_Part_1_Kimberly_Liang.ipynb to html\n",
            "[NbConvertApp] WARNING | Alternative text is missing on 1 image(s).\n",
            "[NbConvertApp] Writing 551397 bytes to Final_Project_Part_1_Kimberly_Liang.html\n"
          ]
        }
      ],
      "source": [
        "!jupyter nbconvert --to html Final_Project_Part_1_Kimberly_Liang.ipynb"
      ]
    }
  ],
  "metadata": {
    "colab": {
      "collapsed_sections": [
        "_ehuowkc1TVO",
        "ZhDgvv4T1X4b",
        "n0Nbsp0F1V_6"
      ],
      "provenance": [],
      "toc_visible": true
    },
    "kernelspec": {
      "display_name": "Python 3",
      "language": "python",
      "name": "python3"
    },
    "language_info": {
      "codemirror_mode": {
        "name": "ipython",
        "version": 3
      },
      "file_extension": ".py",
      "mimetype": "text/x-python",
      "name": "python",
      "nbconvert_exporter": "python",
      "pygments_lexer": "ipython3",
      "version": "3.13.0"
    }
  },
  "nbformat": 4,
  "nbformat_minor": 0
}
